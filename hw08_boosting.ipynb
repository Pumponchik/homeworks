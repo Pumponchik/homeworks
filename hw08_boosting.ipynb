{
  "cells": [
    {
      "cell_type": "markdown",
      "id": "047674ee",
      "metadata": {
        "id": "047674ee"
      },
      "source": [
        "# Домашняя работа"
      ]
    },
    {
      "cell_type": "markdown",
      "id": "d8461109",
      "metadata": {
        "id": "d8461109"
      },
      "source": [
        "В этой работы мы будем учиться предсказывать зарплату data scientist-ов в зависимочти от ряда факторов с помощью градиентоного бустинга"
      ]
    },
    {
      "cell_type": "markdown",
      "id": "7a2ab23d",
      "metadata": {
        "id": "7a2ab23d"
      },
      "source": [
        "Цель домашней работы научиться предсказывать зарплаты (salary_in_usd) по ряды факторов"
      ]
    },
    {
      "cell_type": "markdown",
      "id": "1651e8dd",
      "metadata": {
        "id": "1651e8dd"
      },
      "source": [
        "work_year: The number of years of work experience in the field of data science.\n",
        "\n",
        "experience_level: The level of experience, such as Junior, Senior, or Lead.\n",
        "\n",
        "employment_type: The type of employment, such as Full-time or Contract.\n",
        "\n",
        "job_title: The specific job title or role, such as Data Analyst or Data Scientist.\n",
        "\n",
        "salary: The salary amount for the given job.\n",
        "\n",
        "salary_currency: The currency in which the salary is denoted.\n",
        "\n",
        "salary_in_usd: The equivalent salary amount converted to US dollars (USD) for comparison purposes.\n",
        "\n",
        "employee_residence: The country or region where the employee resides.\n",
        "\n",
        "remote_ratio: The percentage of remote work offered in the job.\n",
        "\n",
        "company_location: The location of the company or organization.\n",
        "\n",
        "company_size: The company’s size is categorized as Small, Medium, or Large."
      ]
    },
    {
      "cell_type": "code",
      "execution_count": 1,
      "id": "dbf7595c",
      "metadata": {
        "id": "dbf7595c"
      },
      "outputs": [],
      "source": [
        "import pandas as pd\n",
        "import numpy as np\n"
      ]
    },
    {
      "cell_type": "code",
      "execution_count": 2,
      "id": "792d14c9",
      "metadata": {
        "id": "792d14c9"
      },
      "outputs": [],
      "source": [
        "df = pd.read_csv(\"ds_salaries.csv\")"
      ]
    },
    {
      "cell_type": "code",
      "execution_count": 3,
      "id": "1758b0e0",
      "metadata": {
        "colab": {
          "base_uri": "https://localhost:8080/",
          "height": 206
        },
        "id": "1758b0e0",
        "outputId": "4a4a7665-c298-42f3-a02b-1788b6cfcb36"
      },
      "outputs": [
        {
          "output_type": "execute_result",
          "data": {
            "text/plain": [
              "   work_year experience_level employment_type                 job_title  \\\n",
              "0       2023               SE              FT  Principal Data Scientist   \n",
              "1       2023               MI              CT               ML Engineer   \n",
              "2       2023               MI              CT               ML Engineer   \n",
              "3       2023               SE              FT            Data Scientist   \n",
              "4       2023               SE              FT            Data Scientist   \n",
              "\n",
              "   salary salary_currency  salary_in_usd employee_residence  remote_ratio  \\\n",
              "0   80000             EUR          85847                 ES           100   \n",
              "1   30000             USD          30000                 US           100   \n",
              "2   25500             USD          25500                 US           100   \n",
              "3  175000             USD         175000                 CA           100   \n",
              "4  120000             USD         120000                 CA           100   \n",
              "\n",
              "  company_location company_size  \n",
              "0               ES            L  \n",
              "1               US            S  \n",
              "2               US            S  \n",
              "3               CA            M  \n",
              "4               CA            M  "
            ],
            "text/html": [
              "\n",
              "  <div id=\"df-b86a21b6-d584-4d42-91fe-46a88b263ad2\">\n",
              "    <div class=\"colab-df-container\">\n",
              "      <div>\n",
              "<style scoped>\n",
              "    .dataframe tbody tr th:only-of-type {\n",
              "        vertical-align: middle;\n",
              "    }\n",
              "\n",
              "    .dataframe tbody tr th {\n",
              "        vertical-align: top;\n",
              "    }\n",
              "\n",
              "    .dataframe thead th {\n",
              "        text-align: right;\n",
              "    }\n",
              "</style>\n",
              "<table border=\"1\" class=\"dataframe\">\n",
              "  <thead>\n",
              "    <tr style=\"text-align: right;\">\n",
              "      <th></th>\n",
              "      <th>work_year</th>\n",
              "      <th>experience_level</th>\n",
              "      <th>employment_type</th>\n",
              "      <th>job_title</th>\n",
              "      <th>salary</th>\n",
              "      <th>salary_currency</th>\n",
              "      <th>salary_in_usd</th>\n",
              "      <th>employee_residence</th>\n",
              "      <th>remote_ratio</th>\n",
              "      <th>company_location</th>\n",
              "      <th>company_size</th>\n",
              "    </tr>\n",
              "  </thead>\n",
              "  <tbody>\n",
              "    <tr>\n",
              "      <th>0</th>\n",
              "      <td>2023</td>\n",
              "      <td>SE</td>\n",
              "      <td>FT</td>\n",
              "      <td>Principal Data Scientist</td>\n",
              "      <td>80000</td>\n",
              "      <td>EUR</td>\n",
              "      <td>85847</td>\n",
              "      <td>ES</td>\n",
              "      <td>100</td>\n",
              "      <td>ES</td>\n",
              "      <td>L</td>\n",
              "    </tr>\n",
              "    <tr>\n",
              "      <th>1</th>\n",
              "      <td>2023</td>\n",
              "      <td>MI</td>\n",
              "      <td>CT</td>\n",
              "      <td>ML Engineer</td>\n",
              "      <td>30000</td>\n",
              "      <td>USD</td>\n",
              "      <td>30000</td>\n",
              "      <td>US</td>\n",
              "      <td>100</td>\n",
              "      <td>US</td>\n",
              "      <td>S</td>\n",
              "    </tr>\n",
              "    <tr>\n",
              "      <th>2</th>\n",
              "      <td>2023</td>\n",
              "      <td>MI</td>\n",
              "      <td>CT</td>\n",
              "      <td>ML Engineer</td>\n",
              "      <td>25500</td>\n",
              "      <td>USD</td>\n",
              "      <td>25500</td>\n",
              "      <td>US</td>\n",
              "      <td>100</td>\n",
              "      <td>US</td>\n",
              "      <td>S</td>\n",
              "    </tr>\n",
              "    <tr>\n",
              "      <th>3</th>\n",
              "      <td>2023</td>\n",
              "      <td>SE</td>\n",
              "      <td>FT</td>\n",
              "      <td>Data Scientist</td>\n",
              "      <td>175000</td>\n",
              "      <td>USD</td>\n",
              "      <td>175000</td>\n",
              "      <td>CA</td>\n",
              "      <td>100</td>\n",
              "      <td>CA</td>\n",
              "      <td>M</td>\n",
              "    </tr>\n",
              "    <tr>\n",
              "      <th>4</th>\n",
              "      <td>2023</td>\n",
              "      <td>SE</td>\n",
              "      <td>FT</td>\n",
              "      <td>Data Scientist</td>\n",
              "      <td>120000</td>\n",
              "      <td>USD</td>\n",
              "      <td>120000</td>\n",
              "      <td>CA</td>\n",
              "      <td>100</td>\n",
              "      <td>CA</td>\n",
              "      <td>M</td>\n",
              "    </tr>\n",
              "  </tbody>\n",
              "</table>\n",
              "</div>\n",
              "      <button class=\"colab-df-convert\" onclick=\"convertToInteractive('df-b86a21b6-d584-4d42-91fe-46a88b263ad2')\"\n",
              "              title=\"Convert this dataframe to an interactive table.\"\n",
              "              style=\"display:none;\">\n",
              "        \n",
              "  <svg xmlns=\"http://www.w3.org/2000/svg\" height=\"24px\"viewBox=\"0 0 24 24\"\n",
              "       width=\"24px\">\n",
              "    <path d=\"M0 0h24v24H0V0z\" fill=\"none\"/>\n",
              "    <path d=\"M18.56 5.44l.94 2.06.94-2.06 2.06-.94-2.06-.94-.94-2.06-.94 2.06-2.06.94zm-11 1L8.5 8.5l.94-2.06 2.06-.94-2.06-.94L8.5 2.5l-.94 2.06-2.06.94zm10 10l.94 2.06.94-2.06 2.06-.94-2.06-.94-.94-2.06-.94 2.06-2.06.94z\"/><path d=\"M17.41 7.96l-1.37-1.37c-.4-.4-.92-.59-1.43-.59-.52 0-1.04.2-1.43.59L10.3 9.45l-7.72 7.72c-.78.78-.78 2.05 0 2.83L4 21.41c.39.39.9.59 1.41.59.51 0 1.02-.2 1.41-.59l7.78-7.78 2.81-2.81c.8-.78.8-2.07 0-2.86zM5.41 20L4 18.59l7.72-7.72 1.47 1.35L5.41 20z\"/>\n",
              "  </svg>\n",
              "      </button>\n",
              "      \n",
              "  <style>\n",
              "    .colab-df-container {\n",
              "      display:flex;\n",
              "      flex-wrap:wrap;\n",
              "      gap: 12px;\n",
              "    }\n",
              "\n",
              "    .colab-df-convert {\n",
              "      background-color: #E8F0FE;\n",
              "      border: none;\n",
              "      border-radius: 50%;\n",
              "      cursor: pointer;\n",
              "      display: none;\n",
              "      fill: #1967D2;\n",
              "      height: 32px;\n",
              "      padding: 0 0 0 0;\n",
              "      width: 32px;\n",
              "    }\n",
              "\n",
              "    .colab-df-convert:hover {\n",
              "      background-color: #E2EBFA;\n",
              "      box-shadow: 0px 1px 2px rgba(60, 64, 67, 0.3), 0px 1px 3px 1px rgba(60, 64, 67, 0.15);\n",
              "      fill: #174EA6;\n",
              "    }\n",
              "\n",
              "    [theme=dark] .colab-df-convert {\n",
              "      background-color: #3B4455;\n",
              "      fill: #D2E3FC;\n",
              "    }\n",
              "\n",
              "    [theme=dark] .colab-df-convert:hover {\n",
              "      background-color: #434B5C;\n",
              "      box-shadow: 0px 1px 3px 1px rgba(0, 0, 0, 0.15);\n",
              "      filter: drop-shadow(0px 1px 2px rgba(0, 0, 0, 0.3));\n",
              "      fill: #FFFFFF;\n",
              "    }\n",
              "  </style>\n",
              "\n",
              "      <script>\n",
              "        const buttonEl =\n",
              "          document.querySelector('#df-b86a21b6-d584-4d42-91fe-46a88b263ad2 button.colab-df-convert');\n",
              "        buttonEl.style.display =\n",
              "          google.colab.kernel.accessAllowed ? 'block' : 'none';\n",
              "\n",
              "        async function convertToInteractive(key) {\n",
              "          const element = document.querySelector('#df-b86a21b6-d584-4d42-91fe-46a88b263ad2');\n",
              "          const dataTable =\n",
              "            await google.colab.kernel.invokeFunction('convertToInteractive',\n",
              "                                                     [key], {});\n",
              "          if (!dataTable) return;\n",
              "\n",
              "          const docLinkHtml = 'Like what you see? Visit the ' +\n",
              "            '<a target=\"_blank\" href=https://colab.research.google.com/notebooks/data_table.ipynb>data table notebook</a>'\n",
              "            + ' to learn more about interactive tables.';\n",
              "          element.innerHTML = '';\n",
              "          dataTable['output_type'] = 'display_data';\n",
              "          await google.colab.output.renderOutput(dataTable, element);\n",
              "          const docLink = document.createElement('div');\n",
              "          docLink.innerHTML = docLinkHtml;\n",
              "          element.appendChild(docLink);\n",
              "        }\n",
              "      </script>\n",
              "    </div>\n",
              "  </div>\n",
              "  "
            ]
          },
          "metadata": {},
          "execution_count": 3
        }
      ],
      "source": [
        "df.head()"
      ]
    },
    {
      "cell_type": "markdown",
      "id": "6696e77a",
      "metadata": {
        "id": "6696e77a"
      },
      "source": [
        "## Задание 1 (0.5 балла)"
      ]
    },
    {
      "cell_type": "markdown",
      "id": "0cb13dc7",
      "metadata": {
        "id": "0cb13dc7"
      },
      "source": [
        "Разделите выборку на train, val, test (80%, 10%, 10%) в качестве таргета выберите salary_in_usd, удалите из признаков (salary) чтобы избежать лика в данных."
      ]
    },
    {
      "cell_type": "code",
      "source": [
        "df = pd.get_dummies(df, drop_first= True )"
      ],
      "metadata": {
        "id": "JWcmeDs-YLVf"
      },
      "id": "JWcmeDs-YLVf",
      "execution_count": 4,
      "outputs": []
    },
    {
      "cell_type": "code",
      "source": [
        "from sklearn.model_selection import train_test_split\n",
        "\n",
        "X = df.drop(['salary_in_usd', 'salary'],axis = 1)\n",
        "y = df['salary_in_usd']\n",
        "\n",
        "X_train, X_test, y_train, y_test = train_test_split(X, y, test_size=0.3, random_state=228)\n",
        "X_test, X_val, y_test, y_val = train_test_split(X_test, y_test, test_size=0.5, random_state=1337)"
      ],
      "metadata": {
        "id": "vdgYTDgoW_30"
      },
      "id": "vdgYTDgoW_30",
      "execution_count": 5,
      "outputs": []
    },
    {
      "cell_type": "code",
      "source": [
        "X_train.shape, X_test.shape, X_val.shape"
      ],
      "metadata": {
        "colab": {
          "base_uri": "https://localhost:8080/"
        },
        "id": "6rVRLP7SYD9A",
        "outputId": "9a916545-48aa-40d7-b724-b5552a76e8b1"
      },
      "id": "6rVRLP7SYD9A",
      "execution_count": 6,
      "outputs": [
        {
          "output_type": "execute_result",
          "data": {
            "text/plain": [
              "((2628, 269), (563, 269), (564, 269))"
            ]
          },
          "metadata": {},
          "execution_count": 6
        }
      ]
    },
    {
      "cell_type": "code",
      "source": [
        "X_train = np.array(X_train)\n",
        "y_train = np.array(y_train)"
      ],
      "metadata": {
        "id": "kaZPxYS5iY-w"
      },
      "id": "kaZPxYS5iY-w",
      "execution_count": 7,
      "outputs": []
    },
    {
      "cell_type": "markdown",
      "id": "f63cb01a",
      "metadata": {
        "id": "f63cb01a"
      },
      "source": [
        "## Задание 2 (0.5 балла)"
      ]
    },
    {
      "cell_type": "markdown",
      "id": "647a5cad",
      "metadata": {
        "id": "647a5cad"
      },
      "source": [
        "Обучите модель линейной регресии и оцените её качество через mape и rmse"
      ]
    },
    {
      "cell_type": "code",
      "source": [
        "from sklearn.linear_model import LinearRegression\n",
        "from sklearn.metrics import mean_absolute_percentage_error\n",
        "from sklearn.metrics import mean_squared_error\n",
        "\n",
        "linreg = LinearRegression()\n",
        "linreg.fit(X_train, y_train)\n",
        "\n",
        "print('mean absolute percentage error: ',mean_absolute_percentage_error(y_val, linreg.predict(np.array(X_val))))\n",
        "print('mean squared error: ', np.sqrt(mean_squared_error(y_val, linreg.predict(np.array(X_val)))))"
      ],
      "metadata": {
        "colab": {
          "base_uri": "https://localhost:8080/"
        },
        "id": "5jyXZYrwYQ_b",
        "outputId": "ccf68ef4-0c8d-4f1c-97bc-b53c1cda68b5"
      },
      "id": "5jyXZYrwYQ_b",
      "execution_count": 8,
      "outputs": [
        {
          "output_type": "stream",
          "name": "stdout",
          "text": [
            "mean absolute percentage error:  0.4421670476813525\n",
            "mean squared error:  51972.35883767933\n"
          ]
        }
      ]
    },
    {
      "cell_type": "markdown",
      "id": "8bf8374f",
      "metadata": {
        "id": "8bf8374f"
      },
      "source": [
        "## Задание 3 (0.5 балла)"
      ]
    },
    {
      "cell_type": "markdown",
      "id": "97440d17",
      "metadata": {
        "id": "97440d17"
      },
      "source": [
        "Обучите модель бустинга выберите любую из трех библиотек catboost, xgboost, lightgbm и оцените её качество через mape и rmse"
      ]
    },
    {
      "cell_type": "code",
      "source": [
        "!pip install catboost;"
      ],
      "metadata": {
        "id": "cUd_jqH8nA00",
        "colab": {
          "base_uri": "https://localhost:8080/"
        },
        "outputId": "020eeb8c-f8cb-4b88-fff6-fa784832da2d"
      },
      "id": "cUd_jqH8nA00",
      "execution_count": 9,
      "outputs": [
        {
          "output_type": "stream",
          "name": "stdout",
          "text": [
            "Looking in indexes: https://pypi.org/simple, https://us-python.pkg.dev/colab-wheels/public/simple/\n",
            "Requirement already satisfied: catboost in /usr/local/lib/python3.10/dist-packages (1.2)\n",
            "Requirement already satisfied: graphviz in /usr/local/lib/python3.10/dist-packages (from catboost) (0.20.1)\n",
            "Requirement already satisfied: matplotlib in /usr/local/lib/python3.10/dist-packages (from catboost) (3.7.1)\n",
            "Requirement already satisfied: numpy>=1.16.0 in /usr/local/lib/python3.10/dist-packages (from catboost) (1.22.4)\n",
            "Requirement already satisfied: pandas>=0.24 in /usr/local/lib/python3.10/dist-packages (from catboost) (1.5.3)\n",
            "Requirement already satisfied: scipy in /usr/local/lib/python3.10/dist-packages (from catboost) (1.10.1)\n",
            "Requirement already satisfied: plotly in /usr/local/lib/python3.10/dist-packages (from catboost) (5.13.1)\n",
            "Requirement already satisfied: six in /usr/local/lib/python3.10/dist-packages (from catboost) (1.16.0)\n",
            "Requirement already satisfied: python-dateutil>=2.8.1 in /usr/local/lib/python3.10/dist-packages (from pandas>=0.24->catboost) (2.8.2)\n",
            "Requirement already satisfied: pytz>=2020.1 in /usr/local/lib/python3.10/dist-packages (from pandas>=0.24->catboost) (2022.7.1)\n",
            "Requirement already satisfied: contourpy>=1.0.1 in /usr/local/lib/python3.10/dist-packages (from matplotlib->catboost) (1.1.0)\n",
            "Requirement already satisfied: cycler>=0.10 in /usr/local/lib/python3.10/dist-packages (from matplotlib->catboost) (0.11.0)\n",
            "Requirement already satisfied: fonttools>=4.22.0 in /usr/local/lib/python3.10/dist-packages (from matplotlib->catboost) (4.40.0)\n",
            "Requirement already satisfied: kiwisolver>=1.0.1 in /usr/local/lib/python3.10/dist-packages (from matplotlib->catboost) (1.4.4)\n",
            "Requirement already satisfied: packaging>=20.0 in /usr/local/lib/python3.10/dist-packages (from matplotlib->catboost) (23.1)\n",
            "Requirement already satisfied: pillow>=6.2.0 in /usr/local/lib/python3.10/dist-packages (from matplotlib->catboost) (8.4.0)\n",
            "Requirement already satisfied: pyparsing>=2.3.1 in /usr/local/lib/python3.10/dist-packages (from matplotlib->catboost) (3.1.0)\n",
            "Requirement already satisfied: tenacity>=6.2.0 in /usr/local/lib/python3.10/dist-packages (from plotly->catboost) (8.2.2)\n"
          ]
        }
      ]
    },
    {
      "cell_type": "code",
      "source": [
        "from catboost import CatBoostRegressor\n",
        "cat = CatBoostRegressor()"
      ],
      "metadata": {
        "id": "Klls2FZrmwAp"
      },
      "id": "Klls2FZrmwAp",
      "execution_count": 10,
      "outputs": []
    },
    {
      "cell_type": "code",
      "source": [
        "cat.fit(X_train,y_train, verbose = False)"
      ],
      "metadata": {
        "id": "Db0k8pJbnHPC",
        "colab": {
          "base_uri": "https://localhost:8080/"
        },
        "outputId": "f62ac67c-da11-4389-eaec-2d57b5a9729b"
      },
      "id": "Db0k8pJbnHPC",
      "execution_count": 11,
      "outputs": [
        {
          "output_type": "execute_result",
          "data": {
            "text/plain": [
              "<catboost.core.CatBoostRegressor at 0x7f1c2454fca0>"
            ]
          },
          "metadata": {},
          "execution_count": 11
        }
      ]
    },
    {
      "cell_type": "code",
      "source": [
        "print('mean absolute percentage error: ',mean_absolute_percentage_error(y_val, cat.predict(X_val)))\n",
        "print('mean squared error: ', np.sqrt(mean_squared_error(y_val, cat.predict(X_val))))"
      ],
      "metadata": {
        "colab": {
          "base_uri": "https://localhost:8080/"
        },
        "id": "iQfLH2fdnVS_",
        "outputId": "5b7366da-0625-42aa-d998-b6a4822a3471"
      },
      "id": "iQfLH2fdnVS_",
      "execution_count": 12,
      "outputs": [
        {
          "output_type": "stream",
          "name": "stdout",
          "text": [
            "mean absolute percentage error:  0.4039858476909781\n",
            "mean squared error:  49846.52187501451\n"
          ]
        }
      ]
    },
    {
      "cell_type": "markdown",
      "id": "17b76f89",
      "metadata": {
        "id": "17b76f89"
      },
      "source": [
        "## Задание 4 (0.5 балла)"
      ]
    },
    {
      "cell_type": "markdown",
      "id": "34452854",
      "metadata": {
        "id": "34452854"
      },
      "source": [
        "Далее предобработайте категориальные признаки с помощью onehot кодирования, labelencoder и счетчиков (mean target encoding) сравните качество моделей с помощью mape и rmse. Необходимо обучить две модели линейную и бустинг. Какие выводы можно сделать? Выберите лучшую из моделей и дальше будем работать с ней"
      ]
    },
    {
      "cell_type": "code",
      "source": [
        "from sklearn import preprocessing\n",
        "from sklearn.preprocessing import LabelEncoder, OneHotEncoder"
      ],
      "metadata": {
        "id": "RGXYt8K7qJ0H"
      },
      "id": "RGXYt8K7qJ0H",
      "execution_count": 13,
      "outputs": []
    },
    {
      "cell_type": "code",
      "source": [
        "df = pd.read_csv(\"ds_salaries.csv\")\n",
        "\n",
        "X = df.drop(['salary_in_usd', 'salary'],axis = 1)\n",
        "y = df['salary_in_usd']\n",
        "\n",
        "X_train, X_test, y_train, y_test = train_test_split(X, y, test_size=0.3, random_state=228)\n",
        "X_test, X_val, y_test, y_val = train_test_split(X_test, y_test, test_size=0.5, random_state=1337)"
      ],
      "metadata": {
        "id": "85cTHJh__kFl"
      },
      "id": "85cTHJh__kFl",
      "execution_count": 14,
      "outputs": []
    },
    {
      "cell_type": "code",
      "source": [
        "onehot_encoder=OneHotEncoder(handle_unknown='ignore')\n",
        "X_train_onehot=onehot_encoder.fit_transform(X_train)\n",
        "X_val_onehot=onehot_encoder.transform(X_val)\n",
        "\n",
        "\n",
        "linreg_onehot = LinearRegression()\n",
        "linreg_onehot.fit(X_train_onehot, y_train)\n",
        "\n",
        "print('mean absolute percentage error for linreg: ',mean_absolute_percentage_error(y_val, linreg_onehot.predict(X_val_onehot)))\n",
        "print('mean squared error for linreg: ', np.sqrt(mean_squared_error(y_val, linreg_onehot.predict(X_val_onehot))))\n",
        "\n",
        "\n",
        "cat_onehot=CatBoostRegressor()\n",
        "cat_onehot.fit(X_train_onehot,y_train, verbose = False)\n",
        "\n",
        "print()\n",
        "print('mean absolute percentage error for boosting: ',mean_absolute_percentage_error(y_val, cat_onehot.predict(X_val_onehot)))\n",
        "print('mean squared error for boosting: ', np.sqrt(mean_squared_error(y_val, cat_onehot.predict(X_val_onehot))))"
      ],
      "metadata": {
        "colab": {
          "base_uri": "https://localhost:8080/"
        },
        "id": "H-BSvf8u5aNN",
        "outputId": "9a1d264c-1ca6-43cc-8cc3-477ab467ecaa"
      },
      "id": "H-BSvf8u5aNN",
      "execution_count": 15,
      "outputs": [
        {
          "output_type": "stream",
          "name": "stdout",
          "text": [
            "mean absolute percentage error for linreg:  0.4430596384298492\n",
            "mean squared error for linreg:  51787.75930397386\n",
            "\n",
            "mean absolute percentage error for boosting:  0.4036771661004771\n",
            "mean squared error for boosting:  50140.56189474383\n"
          ]
        }
      ]
    },
    {
      "cell_type": "code",
      "source": [
        "label_encoder = LabelEncoder()\n",
        "X_train_label = X_train.copy()\n",
        "X_val_label = X_val.copy()\n",
        "\n",
        "for col in X_train.columns.to_list():\n",
        "    labels = X_train_label[col].unique().tolist()+['unknown']\n",
        "    label_encoder.fit(labels)\n",
        "    X_val_label[col] = X_val_label[col].map(lambda s:'unknown' if s not in label_encoder.classes_ else s)\n",
        "    X_train_label[col] = label_encoder.transform(X_train_label[col])\n",
        "    X_val_label[col] = label_encoder.transform(X_val_label[col])\n",
        "\n",
        "\n",
        "\n",
        "linreg_label = LinearRegression()\n",
        "linreg_label.fit(X_train_label, y_train)\n",
        "\n",
        "print('mean absolute percentage error for linreg: ',mean_absolute_percentage_error(y_val, linreg_label.predict(X_val_label)))\n",
        "print('mean squared error for linreg: ', np.sqrt(mean_squared_error(y_val, linreg_label.predict(X_val_label))))\n",
        "\n",
        "cat_label=CatBoostRegressor()\n",
        "cat_label.fit(X_train_label,y_train, verbose = False)\n",
        "\n",
        "print()\n",
        "print('mean absolute percentage error for boosting: ',mean_absolute_percentage_error(y_val, cat_label.predict(X_val_label)))\n",
        "print('mean squared error for boosting: ', np.sqrt(mean_squared_error(y_val, cat_label.predict(X_val_label))))"
      ],
      "metadata": {
        "id": "lkuNVe_MAwzj",
        "colab": {
          "base_uri": "https://localhost:8080/"
        },
        "outputId": "db3ab2c2-01c5-435f-e368-a0b01a74d2cd"
      },
      "id": "lkuNVe_MAwzj",
      "execution_count": 16,
      "outputs": [
        {
          "output_type": "stream",
          "name": "stdout",
          "text": [
            "mean absolute percentage error for linreg:  0.6514078991842985\n",
            "mean squared error for linreg:  58399.168505486996\n"
          ]
        },
        {
          "output_type": "stream",
          "name": "stderr",
          "text": [
            "<ipython-input-16-0f6abbed305a>:8: FutureWarning: elementwise comparison failed; returning scalar instead, but in the future will perform elementwise comparison\n",
            "  X_val_label[col] = X_val_label[col].map(lambda s:'unknown' if s not in label_encoder.classes_ else s)\n",
            "<ipython-input-16-0f6abbed305a>:8: FutureWarning: elementwise comparison failed; returning scalar instead, but in the future will perform elementwise comparison\n",
            "  X_val_label[col] = X_val_label[col].map(lambda s:'unknown' if s not in label_encoder.classes_ else s)\n"
          ]
        },
        {
          "output_type": "stream",
          "name": "stdout",
          "text": [
            "\n",
            "mean absolute percentage error for boosting:  0.5016971131445227\n",
            "mean squared error for boosting:  53525.068660399804\n"
          ]
        }
      ]
    },
    {
      "cell_type": "code",
      "source": [
        "X_train_label.head(10)"
      ],
      "metadata": {
        "id": "cRg7TOmRN7rR",
        "colab": {
          "base_uri": "https://localhost:8080/",
          "height": 363
        },
        "outputId": "e8e6bbaf-06a8-40ad-d561-9060a82ac4b7"
      },
      "id": "cRg7TOmRN7rR",
      "execution_count": 17,
      "outputs": [
        {
          "output_type": "execute_result",
          "data": {
            "text/plain": [
              "      work_year  experience_level  employment_type  job_title  \\\n",
              "1661          3                 2                2         32   \n",
              "3414          2                 3                2         45   \n",
              "1829          2                 3                2         40   \n",
              "2233          2                 3                2         30   \n",
              "2380          2                 0                2         66   \n",
              "169           3                 3                2          4   \n",
              "2905          2                 3                2         45   \n",
              "2431          2                 3                2         32   \n",
              "2768          2                 3                2         45   \n",
              "3281          2                 3                2         45   \n",
              "\n",
              "      salary_currency  employee_residence  remote_ratio  company_location  \\\n",
              "1661               16                  65             0                64   \n",
              "3414               16                  65             1                64   \n",
              "1829               16                  65             0                64   \n",
              "2233               16                  65             1                64   \n",
              "2380               16                  36             1                19   \n",
              "169                16                  65             1                64   \n",
              "2905               16                  65             1                64   \n",
              "2431               16                  65             0                64   \n",
              "2768               16                  65             1                64   \n",
              "3281               16                  65             1                64   \n",
              "\n",
              "      company_size  \n",
              "1661             1  \n",
              "3414             1  \n",
              "1829             1  \n",
              "2233             1  \n",
              "2380             2  \n",
              "169              1  \n",
              "2905             1  \n",
              "2431             1  \n",
              "2768             1  \n",
              "3281             1  "
            ],
            "text/html": [
              "\n",
              "  <div id=\"df-408ce79b-f622-4896-bacc-119b6e2a6298\">\n",
              "    <div class=\"colab-df-container\">\n",
              "      <div>\n",
              "<style scoped>\n",
              "    .dataframe tbody tr th:only-of-type {\n",
              "        vertical-align: middle;\n",
              "    }\n",
              "\n",
              "    .dataframe tbody tr th {\n",
              "        vertical-align: top;\n",
              "    }\n",
              "\n",
              "    .dataframe thead th {\n",
              "        text-align: right;\n",
              "    }\n",
              "</style>\n",
              "<table border=\"1\" class=\"dataframe\">\n",
              "  <thead>\n",
              "    <tr style=\"text-align: right;\">\n",
              "      <th></th>\n",
              "      <th>work_year</th>\n",
              "      <th>experience_level</th>\n",
              "      <th>employment_type</th>\n",
              "      <th>job_title</th>\n",
              "      <th>salary_currency</th>\n",
              "      <th>employee_residence</th>\n",
              "      <th>remote_ratio</th>\n",
              "      <th>company_location</th>\n",
              "      <th>company_size</th>\n",
              "    </tr>\n",
              "  </thead>\n",
              "  <tbody>\n",
              "    <tr>\n",
              "      <th>1661</th>\n",
              "      <td>3</td>\n",
              "      <td>2</td>\n",
              "      <td>2</td>\n",
              "      <td>32</td>\n",
              "      <td>16</td>\n",
              "      <td>65</td>\n",
              "      <td>0</td>\n",
              "      <td>64</td>\n",
              "      <td>1</td>\n",
              "    </tr>\n",
              "    <tr>\n",
              "      <th>3414</th>\n",
              "      <td>2</td>\n",
              "      <td>3</td>\n",
              "      <td>2</td>\n",
              "      <td>45</td>\n",
              "      <td>16</td>\n",
              "      <td>65</td>\n",
              "      <td>1</td>\n",
              "      <td>64</td>\n",
              "      <td>1</td>\n",
              "    </tr>\n",
              "    <tr>\n",
              "      <th>1829</th>\n",
              "      <td>2</td>\n",
              "      <td>3</td>\n",
              "      <td>2</td>\n",
              "      <td>40</td>\n",
              "      <td>16</td>\n",
              "      <td>65</td>\n",
              "      <td>0</td>\n",
              "      <td>64</td>\n",
              "      <td>1</td>\n",
              "    </tr>\n",
              "    <tr>\n",
              "      <th>2233</th>\n",
              "      <td>2</td>\n",
              "      <td>3</td>\n",
              "      <td>2</td>\n",
              "      <td>30</td>\n",
              "      <td>16</td>\n",
              "      <td>65</td>\n",
              "      <td>1</td>\n",
              "      <td>64</td>\n",
              "      <td>1</td>\n",
              "    </tr>\n",
              "    <tr>\n",
              "      <th>2380</th>\n",
              "      <td>2</td>\n",
              "      <td>0</td>\n",
              "      <td>2</td>\n",
              "      <td>66</td>\n",
              "      <td>16</td>\n",
              "      <td>36</td>\n",
              "      <td>1</td>\n",
              "      <td>19</td>\n",
              "      <td>2</td>\n",
              "    </tr>\n",
              "    <tr>\n",
              "      <th>169</th>\n",
              "      <td>3</td>\n",
              "      <td>3</td>\n",
              "      <td>2</td>\n",
              "      <td>4</td>\n",
              "      <td>16</td>\n",
              "      <td>65</td>\n",
              "      <td>1</td>\n",
              "      <td>64</td>\n",
              "      <td>1</td>\n",
              "    </tr>\n",
              "    <tr>\n",
              "      <th>2905</th>\n",
              "      <td>2</td>\n",
              "      <td>3</td>\n",
              "      <td>2</td>\n",
              "      <td>45</td>\n",
              "      <td>16</td>\n",
              "      <td>65</td>\n",
              "      <td>1</td>\n",
              "      <td>64</td>\n",
              "      <td>1</td>\n",
              "    </tr>\n",
              "    <tr>\n",
              "      <th>2431</th>\n",
              "      <td>2</td>\n",
              "      <td>3</td>\n",
              "      <td>2</td>\n",
              "      <td>32</td>\n",
              "      <td>16</td>\n",
              "      <td>65</td>\n",
              "      <td>0</td>\n",
              "      <td>64</td>\n",
              "      <td>1</td>\n",
              "    </tr>\n",
              "    <tr>\n",
              "      <th>2768</th>\n",
              "      <td>2</td>\n",
              "      <td>3</td>\n",
              "      <td>2</td>\n",
              "      <td>45</td>\n",
              "      <td>16</td>\n",
              "      <td>65</td>\n",
              "      <td>1</td>\n",
              "      <td>64</td>\n",
              "      <td>1</td>\n",
              "    </tr>\n",
              "    <tr>\n",
              "      <th>3281</th>\n",
              "      <td>2</td>\n",
              "      <td>3</td>\n",
              "      <td>2</td>\n",
              "      <td>45</td>\n",
              "      <td>16</td>\n",
              "      <td>65</td>\n",
              "      <td>1</td>\n",
              "      <td>64</td>\n",
              "      <td>1</td>\n",
              "    </tr>\n",
              "  </tbody>\n",
              "</table>\n",
              "</div>\n",
              "      <button class=\"colab-df-convert\" onclick=\"convertToInteractive('df-408ce79b-f622-4896-bacc-119b6e2a6298')\"\n",
              "              title=\"Convert this dataframe to an interactive table.\"\n",
              "              style=\"display:none;\">\n",
              "        \n",
              "  <svg xmlns=\"http://www.w3.org/2000/svg\" height=\"24px\"viewBox=\"0 0 24 24\"\n",
              "       width=\"24px\">\n",
              "    <path d=\"M0 0h24v24H0V0z\" fill=\"none\"/>\n",
              "    <path d=\"M18.56 5.44l.94 2.06.94-2.06 2.06-.94-2.06-.94-.94-2.06-.94 2.06-2.06.94zm-11 1L8.5 8.5l.94-2.06 2.06-.94-2.06-.94L8.5 2.5l-.94 2.06-2.06.94zm10 10l.94 2.06.94-2.06 2.06-.94-2.06-.94-.94-2.06-.94 2.06-2.06.94z\"/><path d=\"M17.41 7.96l-1.37-1.37c-.4-.4-.92-.59-1.43-.59-.52 0-1.04.2-1.43.59L10.3 9.45l-7.72 7.72c-.78.78-.78 2.05 0 2.83L4 21.41c.39.39.9.59 1.41.59.51 0 1.02-.2 1.41-.59l7.78-7.78 2.81-2.81c.8-.78.8-2.07 0-2.86zM5.41 20L4 18.59l7.72-7.72 1.47 1.35L5.41 20z\"/>\n",
              "  </svg>\n",
              "      </button>\n",
              "      \n",
              "  <style>\n",
              "    .colab-df-container {\n",
              "      display:flex;\n",
              "      flex-wrap:wrap;\n",
              "      gap: 12px;\n",
              "    }\n",
              "\n",
              "    .colab-df-convert {\n",
              "      background-color: #E8F0FE;\n",
              "      border: none;\n",
              "      border-radius: 50%;\n",
              "      cursor: pointer;\n",
              "      display: none;\n",
              "      fill: #1967D2;\n",
              "      height: 32px;\n",
              "      padding: 0 0 0 0;\n",
              "      width: 32px;\n",
              "    }\n",
              "\n",
              "    .colab-df-convert:hover {\n",
              "      background-color: #E2EBFA;\n",
              "      box-shadow: 0px 1px 2px rgba(60, 64, 67, 0.3), 0px 1px 3px 1px rgba(60, 64, 67, 0.15);\n",
              "      fill: #174EA6;\n",
              "    }\n",
              "\n",
              "    [theme=dark] .colab-df-convert {\n",
              "      background-color: #3B4455;\n",
              "      fill: #D2E3FC;\n",
              "    }\n",
              "\n",
              "    [theme=dark] .colab-df-convert:hover {\n",
              "      background-color: #434B5C;\n",
              "      box-shadow: 0px 1px 3px 1px rgba(0, 0, 0, 0.15);\n",
              "      filter: drop-shadow(0px 1px 2px rgba(0, 0, 0, 0.3));\n",
              "      fill: #FFFFFF;\n",
              "    }\n",
              "  </style>\n",
              "\n",
              "      <script>\n",
              "        const buttonEl =\n",
              "          document.querySelector('#df-408ce79b-f622-4896-bacc-119b6e2a6298 button.colab-df-convert');\n",
              "        buttonEl.style.display =\n",
              "          google.colab.kernel.accessAllowed ? 'block' : 'none';\n",
              "\n",
              "        async function convertToInteractive(key) {\n",
              "          const element = document.querySelector('#df-408ce79b-f622-4896-bacc-119b6e2a6298');\n",
              "          const dataTable =\n",
              "            await google.colab.kernel.invokeFunction('convertToInteractive',\n",
              "                                                     [key], {});\n",
              "          if (!dataTable) return;\n",
              "\n",
              "          const docLinkHtml = 'Like what you see? Visit the ' +\n",
              "            '<a target=\"_blank\" href=https://colab.research.google.com/notebooks/data_table.ipynb>data table notebook</a>'\n",
              "            + ' to learn more about interactive tables.';\n",
              "          element.innerHTML = '';\n",
              "          dataTable['output_type'] = 'display_data';\n",
              "          await google.colab.output.renderOutput(dataTable, element);\n",
              "          const docLink = document.createElement('div');\n",
              "          docLink.innerHTML = docLinkHtml;\n",
              "          element.appendChild(docLink);\n",
              "        }\n",
              "      </script>\n",
              "    </div>\n",
              "  </div>\n",
              "  "
            ]
          },
          "metadata": {},
          "execution_count": 17
        }
      ]
    },
    {
      "cell_type": "code",
      "source": [
        "X_train_target = X_train_label.copy()\n",
        "X_val_target = X_val_label.copy()\n",
        "X_train_target['salary_in_usd'] = y_train\n",
        "\n",
        "for col in X_train.columns.tolist():\n",
        "  mean_target = X_train_target.groupby(col)['salary_in_usd'].mean()\n",
        "  X_train_target[col] = X_train_target[col].map(mean_target)\n",
        "\n",
        "X_train_target = X_train_target.drop(['salary_in_usd'], axis = 1)\n",
        "\n",
        "linreg_target = LinearRegression()\n",
        "linreg_target.fit(X_train_target, y_train)\n",
        "\n",
        "print('mean absolute percentage error for linreg: ',mean_absolute_percentage_error(y_val, linreg_target.predict(X_val_target)))\n",
        "print('mean squared error for linreg: ', np.sqrt(mean_squared_error(y_val, linreg_target.predict(X_val_target))))\n",
        "\n",
        "cat_target=CatBoostRegressor()\n",
        "cat_target.fit(X_train_target,y_train, verbose = False)\n",
        "\n",
        "print()\n",
        "print('mean absolute percentage error for boosting: ',mean_absolute_percentage_error(y_val, cat_target.predict(X_val_target)))\n",
        "print('mean squared error for boosting: ', np.sqrt(mean_squared_error(y_val, cat_target.predict(X_val_target))))"
      ],
      "metadata": {
        "id": "umypNNsTBYo3",
        "colab": {
          "base_uri": "https://localhost:8080/"
        },
        "outputId": "9e6e96c0-cb21-4607-cee3-ed303ebc72aa"
      },
      "id": "umypNNsTBYo3",
      "execution_count": 18,
      "outputs": [
        {
          "output_type": "stream",
          "name": "stdout",
          "text": [
            "mean absolute percentage error for linreg:  3.0223538535164503\n",
            "mean squared error for linreg:  326074.81630707794\n",
            "\n",
            "mean absolute percentage error for boosting:  0.8142837028564313\n",
            "mean squared error for boosting:  133225.84292542015\n"
          ]
        }
      ]
    },
    {
      "cell_type": "markdown",
      "id": "119b89f1",
      "metadata": {
        "id": "119b89f1"
      },
      "source": [
        "## Задание 5 (0.5 балла)"
      ]
    },
    {
      "cell_type": "markdown",
      "id": "140b8af1",
      "metadata": {
        "id": "140b8af1"
      },
      "source": [
        "Покажите, где ошибается ваша модель. Выведите топ 20 примеров с наибольшей ошибкой. Проанализируете их, постарайтесь выделить группы с причинами ошибок в моделе. Какие выводы можно сделать? Что стоит изменить в данных чтобы улучшить качество модели?"
      ]
    },
    {
      "cell_type": "code",
      "source": [
        "df = pd.read_csv(\"ds_salaries.csv\")\n",
        "df = pd.get_dummies(df, drop_first= True )\n",
        "\n",
        "X = df.drop(['salary_in_usd', 'salary'],axis = 1)\n",
        "y = df['salary_in_usd']\n",
        "\n",
        "X_train, X_test, y_train, y_test = train_test_split(X, y, test_size=0.3, random_state=228)\n",
        "X_test, X_val, y_test, y_val = train_test_split(X_test, y_test, test_size=0.5, random_state=1337)\n",
        "\n",
        "X_train = np.array(X_train)\n",
        "y_train = np.array(y_train)\n",
        "\n",
        "linreg = LinearRegression()\n",
        "linreg.fit(X_train, y_train)"
      ],
      "metadata": {
        "colab": {
          "base_uri": "https://localhost:8080/",
          "height": 75
        },
        "id": "WniDjpaaGSDg",
        "outputId": "7755dfe1-5e9e-4959-8392-cbb0aa25c772"
      },
      "id": "WniDjpaaGSDg",
      "execution_count": 19,
      "outputs": [
        {
          "output_type": "execute_result",
          "data": {
            "text/plain": [
              "LinearRegression()"
            ],
            "text/html": [
              "<style>#sk-container-id-1 {color: black;background-color: white;}#sk-container-id-1 pre{padding: 0;}#sk-container-id-1 div.sk-toggleable {background-color: white;}#sk-container-id-1 label.sk-toggleable__label {cursor: pointer;display: block;width: 100%;margin-bottom: 0;padding: 0.3em;box-sizing: border-box;text-align: center;}#sk-container-id-1 label.sk-toggleable__label-arrow:before {content: \"▸\";float: left;margin-right: 0.25em;color: #696969;}#sk-container-id-1 label.sk-toggleable__label-arrow:hover:before {color: black;}#sk-container-id-1 div.sk-estimator:hover label.sk-toggleable__label-arrow:before {color: black;}#sk-container-id-1 div.sk-toggleable__content {max-height: 0;max-width: 0;overflow: hidden;text-align: left;background-color: #f0f8ff;}#sk-container-id-1 div.sk-toggleable__content pre {margin: 0.2em;color: black;border-radius: 0.25em;background-color: #f0f8ff;}#sk-container-id-1 input.sk-toggleable__control:checked~div.sk-toggleable__content {max-height: 200px;max-width: 100%;overflow: auto;}#sk-container-id-1 input.sk-toggleable__control:checked~label.sk-toggleable__label-arrow:before {content: \"▾\";}#sk-container-id-1 div.sk-estimator input.sk-toggleable__control:checked~label.sk-toggleable__label {background-color: #d4ebff;}#sk-container-id-1 div.sk-label input.sk-toggleable__control:checked~label.sk-toggleable__label {background-color: #d4ebff;}#sk-container-id-1 input.sk-hidden--visually {border: 0;clip: rect(1px 1px 1px 1px);clip: rect(1px, 1px, 1px, 1px);height: 1px;margin: -1px;overflow: hidden;padding: 0;position: absolute;width: 1px;}#sk-container-id-1 div.sk-estimator {font-family: monospace;background-color: #f0f8ff;border: 1px dotted black;border-radius: 0.25em;box-sizing: border-box;margin-bottom: 0.5em;}#sk-container-id-1 div.sk-estimator:hover {background-color: #d4ebff;}#sk-container-id-1 div.sk-parallel-item::after {content: \"\";width: 100%;border-bottom: 1px solid gray;flex-grow: 1;}#sk-container-id-1 div.sk-label:hover label.sk-toggleable__label {background-color: #d4ebff;}#sk-container-id-1 div.sk-serial::before {content: \"\";position: absolute;border-left: 1px solid gray;box-sizing: border-box;top: 0;bottom: 0;left: 50%;z-index: 0;}#sk-container-id-1 div.sk-serial {display: flex;flex-direction: column;align-items: center;background-color: white;padding-right: 0.2em;padding-left: 0.2em;position: relative;}#sk-container-id-1 div.sk-item {position: relative;z-index: 1;}#sk-container-id-1 div.sk-parallel {display: flex;align-items: stretch;justify-content: center;background-color: white;position: relative;}#sk-container-id-1 div.sk-item::before, #sk-container-id-1 div.sk-parallel-item::before {content: \"\";position: absolute;border-left: 1px solid gray;box-sizing: border-box;top: 0;bottom: 0;left: 50%;z-index: -1;}#sk-container-id-1 div.sk-parallel-item {display: flex;flex-direction: column;z-index: 1;position: relative;background-color: white;}#sk-container-id-1 div.sk-parallel-item:first-child::after {align-self: flex-end;width: 50%;}#sk-container-id-1 div.sk-parallel-item:last-child::after {align-self: flex-start;width: 50%;}#sk-container-id-1 div.sk-parallel-item:only-child::after {width: 0;}#sk-container-id-1 div.sk-dashed-wrapped {border: 1px dashed gray;margin: 0 0.4em 0.5em 0.4em;box-sizing: border-box;padding-bottom: 0.4em;background-color: white;}#sk-container-id-1 div.sk-label label {font-family: monospace;font-weight: bold;display: inline-block;line-height: 1.2em;}#sk-container-id-1 div.sk-label-container {text-align: center;}#sk-container-id-1 div.sk-container {/* jupyter's `normalize.less` sets `[hidden] { display: none; }` but bootstrap.min.css set `[hidden] { display: none !important; }` so we also need the `!important` here to be able to override the default hidden behavior on the sphinx rendered scikit-learn.org. See: https://github.com/scikit-learn/scikit-learn/issues/21755 */display: inline-block !important;position: relative;}#sk-container-id-1 div.sk-text-repr-fallback {display: none;}</style><div id=\"sk-container-id-1\" class=\"sk-top-container\"><div class=\"sk-text-repr-fallback\"><pre>LinearRegression()</pre><b>In a Jupyter environment, please rerun this cell to show the HTML representation or trust the notebook. <br />On GitHub, the HTML representation is unable to render, please try loading this page with nbviewer.org.</b></div><div class=\"sk-container\" hidden><div class=\"sk-item\"><div class=\"sk-estimator sk-toggleable\"><input class=\"sk-toggleable__control sk-hidden--visually\" id=\"sk-estimator-id-1\" type=\"checkbox\" checked><label for=\"sk-estimator-id-1\" class=\"sk-toggleable__label sk-toggleable__label-arrow\">LinearRegression</label><div class=\"sk-toggleable__content\"><pre>LinearRegression()</pre></div></div></div></div></div>"
            ]
          },
          "metadata": {},
          "execution_count": 19
        }
      ]
    },
    {
      "cell_type": "code",
      "source": [
        "errors = [[abs(np.array(y_val)[i] - linreg.predict(np.array([X_val.iloc[1]]))), i] for i in range(X_val.shape[0])]"
      ],
      "metadata": {
        "id": "jXuEjwWfRI5X"
      },
      "id": "jXuEjwWfRI5X",
      "execution_count": 20,
      "outputs": []
    },
    {
      "cell_type": "code",
      "source": [
        "# errors = [[abs(np.array(y_val)[i] - cat.predict(np.array([X_val.iloc[1]]))), i] for i in range(X_val.shape[0])]"
      ],
      "metadata": {
        "id": "9z-lFssEknjf"
      },
      "id": "9z-lFssEknjf",
      "execution_count": 21,
      "outputs": []
    },
    {
      "cell_type": "code",
      "source": [
        "errors.sort()"
      ],
      "metadata": {
        "id": "pndtKi9HR9ST"
      },
      "id": "pndtKi9HR9ST",
      "execution_count": 22,
      "outputs": []
    },
    {
      "cell_type": "code",
      "source": [
        "list_of_i = []\n",
        "for i in range(20):\n",
        "  list_of_i.append(errors[-20:][i][1])\n",
        "\n",
        "new_list_of_i = X_val.reset_index()['index'].loc[list_of_i].tolist()"
      ],
      "metadata": {
        "id": "QOARK8IhVnHU"
      },
      "id": "QOARK8IhVnHU",
      "execution_count": 23,
      "outputs": []
    },
    {
      "cell_type": "code",
      "source": [
        "df = pd.read_csv(\"ds_salaries.csv\")\n",
        "X = df.drop(['salary_in_usd', 'salary'],axis = 1)"
      ],
      "metadata": {
        "id": "ukFtVq5clJXh"
      },
      "id": "ukFtVq5clJXh",
      "execution_count": 24,
      "outputs": []
    },
    {
      "cell_type": "code",
      "source": [
        "# То, что модель хуже всего предсказывает\n",
        "X.loc[new_list_of_i]"
      ],
      "metadata": {
        "colab": {
          "base_uri": "https://localhost:8080/",
          "height": 677
        },
        "id": "WqsCJgQ2dTgZ",
        "outputId": "b0807663-4254-4ba9-b89c-6de77f17107c"
      },
      "id": "WqsCJgQ2dTgZ",
      "execution_count": 25,
      "outputs": [
        {
          "output_type": "execute_result",
          "data": {
            "text/plain": [
              "      work_year experience_level employment_type                  job_title  \\\n",
              "1558       2023               SE              FT       Data Science Manager   \n",
              "2670       2022               SE              FT              Data Engineer   \n",
              "2856       2022               SE              FT              Data Engineer   \n",
              "3703       2021               MI              FT             Data Scientist   \n",
              "1547       2023               EN              FT      Business Data Analyst   \n",
              "1341       2023               EN              FT             Data Scientist   \n",
              "2427       2022               SE              FT        Cloud Data Engineer   \n",
              "2034       2022               EN              FT  Machine Learning Engineer   \n",
              "3735       2021               EN              PT               AI Scientist   \n",
              "358        2023               SE              FT  Machine Learning Engineer   \n",
              "3681       2020               MI              FT               Data Analyst   \n",
              "2589       2022               SE              FT     Product Data Scientist   \n",
              "2933       2022               MI              CT         Analytics Engineer   \n",
              "2684       2022               MI              FT               NLP Engineer   \n",
              "1396       2023               EX              FT       Head of Data Science   \n",
              "3410       2022               EX              FT              Data Engineer   \n",
              "1311       2023               SE              FT         Research Scientist   \n",
              "3468       2022               SE              FT     Applied Data Scientist   \n",
              "3750       2020               SE              FT             Data Scientist   \n",
              "3675       2021               EX              CT   Principal Data Scientist   \n",
              "\n",
              "     salary_currency employee_residence  remote_ratio company_location  \\\n",
              "1558             USD                 US             0               US   \n",
              "2670             USD                 US             0               US   \n",
              "2856             USD                 US             0               US   \n",
              "3703             BRL                 BR             0               BR   \n",
              "1547             EUR                 GR            50               GR   \n",
              "1341             INR                 IN            50               IN   \n",
              "2427             EUR                 SK           100               SK   \n",
              "2034             USD                 AR           100               AR   \n",
              "3735             USD                 BR           100               US   \n",
              "358              USD                 US           100               US   \n",
              "3681             USD                 PK            50               PK   \n",
              "2589             USD                 IN           100               SG   \n",
              "2933             USD                 BO            50               BO   \n",
              "2684             CZK                 CZ           100               CZ   \n",
              "1396             USD                 US             0               US   \n",
              "3410             USD                 US           100               US   \n",
              "1311             USD                 US             0               US   \n",
              "3468             USD                 US           100               US   \n",
              "3750             USD                 US           100               US   \n",
              "3675             USD                 US           100               US   \n",
              "\n",
              "     company_size  \n",
              "1558            M  \n",
              "2670            M  \n",
              "2856            M  \n",
              "3703            S  \n",
              "1547            L  \n",
              "1341            L  \n",
              "2427            S  \n",
              "2034            L  \n",
              "3735            S  \n",
              "358             M  \n",
              "3681            L  \n",
              "2589            L  \n",
              "2933            M  \n",
              "2684            M  \n",
              "1396            M  \n",
              "3410            M  \n",
              "1311            M  \n",
              "3468            L  \n",
              "3750            L  \n",
              "3675            S  "
            ],
            "text/html": [
              "\n",
              "  <div id=\"df-12f37491-4364-47ef-b4d1-178037c6033d\">\n",
              "    <div class=\"colab-df-container\">\n",
              "      <div>\n",
              "<style scoped>\n",
              "    .dataframe tbody tr th:only-of-type {\n",
              "        vertical-align: middle;\n",
              "    }\n",
              "\n",
              "    .dataframe tbody tr th {\n",
              "        vertical-align: top;\n",
              "    }\n",
              "\n",
              "    .dataframe thead th {\n",
              "        text-align: right;\n",
              "    }\n",
              "</style>\n",
              "<table border=\"1\" class=\"dataframe\">\n",
              "  <thead>\n",
              "    <tr style=\"text-align: right;\">\n",
              "      <th></th>\n",
              "      <th>work_year</th>\n",
              "      <th>experience_level</th>\n",
              "      <th>employment_type</th>\n",
              "      <th>job_title</th>\n",
              "      <th>salary_currency</th>\n",
              "      <th>employee_residence</th>\n",
              "      <th>remote_ratio</th>\n",
              "      <th>company_location</th>\n",
              "      <th>company_size</th>\n",
              "    </tr>\n",
              "  </thead>\n",
              "  <tbody>\n",
              "    <tr>\n",
              "      <th>1558</th>\n",
              "      <td>2023</td>\n",
              "      <td>SE</td>\n",
              "      <td>FT</td>\n",
              "      <td>Data Science Manager</td>\n",
              "      <td>USD</td>\n",
              "      <td>US</td>\n",
              "      <td>0</td>\n",
              "      <td>US</td>\n",
              "      <td>M</td>\n",
              "    </tr>\n",
              "    <tr>\n",
              "      <th>2670</th>\n",
              "      <td>2022</td>\n",
              "      <td>SE</td>\n",
              "      <td>FT</td>\n",
              "      <td>Data Engineer</td>\n",
              "      <td>USD</td>\n",
              "      <td>US</td>\n",
              "      <td>0</td>\n",
              "      <td>US</td>\n",
              "      <td>M</td>\n",
              "    </tr>\n",
              "    <tr>\n",
              "      <th>2856</th>\n",
              "      <td>2022</td>\n",
              "      <td>SE</td>\n",
              "      <td>FT</td>\n",
              "      <td>Data Engineer</td>\n",
              "      <td>USD</td>\n",
              "      <td>US</td>\n",
              "      <td>0</td>\n",
              "      <td>US</td>\n",
              "      <td>M</td>\n",
              "    </tr>\n",
              "    <tr>\n",
              "      <th>3703</th>\n",
              "      <td>2021</td>\n",
              "      <td>MI</td>\n",
              "      <td>FT</td>\n",
              "      <td>Data Scientist</td>\n",
              "      <td>BRL</td>\n",
              "      <td>BR</td>\n",
              "      <td>0</td>\n",
              "      <td>BR</td>\n",
              "      <td>S</td>\n",
              "    </tr>\n",
              "    <tr>\n",
              "      <th>1547</th>\n",
              "      <td>2023</td>\n",
              "      <td>EN</td>\n",
              "      <td>FT</td>\n",
              "      <td>Business Data Analyst</td>\n",
              "      <td>EUR</td>\n",
              "      <td>GR</td>\n",
              "      <td>50</td>\n",
              "      <td>GR</td>\n",
              "      <td>L</td>\n",
              "    </tr>\n",
              "    <tr>\n",
              "      <th>1341</th>\n",
              "      <td>2023</td>\n",
              "      <td>EN</td>\n",
              "      <td>FT</td>\n",
              "      <td>Data Scientist</td>\n",
              "      <td>INR</td>\n",
              "      <td>IN</td>\n",
              "      <td>50</td>\n",
              "      <td>IN</td>\n",
              "      <td>L</td>\n",
              "    </tr>\n",
              "    <tr>\n",
              "      <th>2427</th>\n",
              "      <td>2022</td>\n",
              "      <td>SE</td>\n",
              "      <td>FT</td>\n",
              "      <td>Cloud Data Engineer</td>\n",
              "      <td>EUR</td>\n",
              "      <td>SK</td>\n",
              "      <td>100</td>\n",
              "      <td>SK</td>\n",
              "      <td>S</td>\n",
              "    </tr>\n",
              "    <tr>\n",
              "      <th>2034</th>\n",
              "      <td>2022</td>\n",
              "      <td>EN</td>\n",
              "      <td>FT</td>\n",
              "      <td>Machine Learning Engineer</td>\n",
              "      <td>USD</td>\n",
              "      <td>AR</td>\n",
              "      <td>100</td>\n",
              "      <td>AR</td>\n",
              "      <td>L</td>\n",
              "    </tr>\n",
              "    <tr>\n",
              "      <th>3735</th>\n",
              "      <td>2021</td>\n",
              "      <td>EN</td>\n",
              "      <td>PT</td>\n",
              "      <td>AI Scientist</td>\n",
              "      <td>USD</td>\n",
              "      <td>BR</td>\n",
              "      <td>100</td>\n",
              "      <td>US</td>\n",
              "      <td>S</td>\n",
              "    </tr>\n",
              "    <tr>\n",
              "      <th>358</th>\n",
              "      <td>2023</td>\n",
              "      <td>SE</td>\n",
              "      <td>FT</td>\n",
              "      <td>Machine Learning Engineer</td>\n",
              "      <td>USD</td>\n",
              "      <td>US</td>\n",
              "      <td>100</td>\n",
              "      <td>US</td>\n",
              "      <td>M</td>\n",
              "    </tr>\n",
              "    <tr>\n",
              "      <th>3681</th>\n",
              "      <td>2020</td>\n",
              "      <td>MI</td>\n",
              "      <td>FT</td>\n",
              "      <td>Data Analyst</td>\n",
              "      <td>USD</td>\n",
              "      <td>PK</td>\n",
              "      <td>50</td>\n",
              "      <td>PK</td>\n",
              "      <td>L</td>\n",
              "    </tr>\n",
              "    <tr>\n",
              "      <th>2589</th>\n",
              "      <td>2022</td>\n",
              "      <td>SE</td>\n",
              "      <td>FT</td>\n",
              "      <td>Product Data Scientist</td>\n",
              "      <td>USD</td>\n",
              "      <td>IN</td>\n",
              "      <td>100</td>\n",
              "      <td>SG</td>\n",
              "      <td>L</td>\n",
              "    </tr>\n",
              "    <tr>\n",
              "      <th>2933</th>\n",
              "      <td>2022</td>\n",
              "      <td>MI</td>\n",
              "      <td>CT</td>\n",
              "      <td>Analytics Engineer</td>\n",
              "      <td>USD</td>\n",
              "      <td>BO</td>\n",
              "      <td>50</td>\n",
              "      <td>BO</td>\n",
              "      <td>M</td>\n",
              "    </tr>\n",
              "    <tr>\n",
              "      <th>2684</th>\n",
              "      <td>2022</td>\n",
              "      <td>MI</td>\n",
              "      <td>FT</td>\n",
              "      <td>NLP Engineer</td>\n",
              "      <td>CZK</td>\n",
              "      <td>CZ</td>\n",
              "      <td>100</td>\n",
              "      <td>CZ</td>\n",
              "      <td>M</td>\n",
              "    </tr>\n",
              "    <tr>\n",
              "      <th>1396</th>\n",
              "      <td>2023</td>\n",
              "      <td>EX</td>\n",
              "      <td>FT</td>\n",
              "      <td>Head of Data Science</td>\n",
              "      <td>USD</td>\n",
              "      <td>US</td>\n",
              "      <td>0</td>\n",
              "      <td>US</td>\n",
              "      <td>M</td>\n",
              "    </tr>\n",
              "    <tr>\n",
              "      <th>3410</th>\n",
              "      <td>2022</td>\n",
              "      <td>EX</td>\n",
              "      <td>FT</td>\n",
              "      <td>Data Engineer</td>\n",
              "      <td>USD</td>\n",
              "      <td>US</td>\n",
              "      <td>100</td>\n",
              "      <td>US</td>\n",
              "      <td>M</td>\n",
              "    </tr>\n",
              "    <tr>\n",
              "      <th>1311</th>\n",
              "      <td>2023</td>\n",
              "      <td>SE</td>\n",
              "      <td>FT</td>\n",
              "      <td>Research Scientist</td>\n",
              "      <td>USD</td>\n",
              "      <td>US</td>\n",
              "      <td>0</td>\n",
              "      <td>US</td>\n",
              "      <td>M</td>\n",
              "    </tr>\n",
              "    <tr>\n",
              "      <th>3468</th>\n",
              "      <td>2022</td>\n",
              "      <td>SE</td>\n",
              "      <td>FT</td>\n",
              "      <td>Applied Data Scientist</td>\n",
              "      <td>USD</td>\n",
              "      <td>US</td>\n",
              "      <td>100</td>\n",
              "      <td>US</td>\n",
              "      <td>L</td>\n",
              "    </tr>\n",
              "    <tr>\n",
              "      <th>3750</th>\n",
              "      <td>2020</td>\n",
              "      <td>SE</td>\n",
              "      <td>FT</td>\n",
              "      <td>Data Scientist</td>\n",
              "      <td>USD</td>\n",
              "      <td>US</td>\n",
              "      <td>100</td>\n",
              "      <td>US</td>\n",
              "      <td>L</td>\n",
              "    </tr>\n",
              "    <tr>\n",
              "      <th>3675</th>\n",
              "      <td>2021</td>\n",
              "      <td>EX</td>\n",
              "      <td>CT</td>\n",
              "      <td>Principal Data Scientist</td>\n",
              "      <td>USD</td>\n",
              "      <td>US</td>\n",
              "      <td>100</td>\n",
              "      <td>US</td>\n",
              "      <td>S</td>\n",
              "    </tr>\n",
              "  </tbody>\n",
              "</table>\n",
              "</div>\n",
              "      <button class=\"colab-df-convert\" onclick=\"convertToInteractive('df-12f37491-4364-47ef-b4d1-178037c6033d')\"\n",
              "              title=\"Convert this dataframe to an interactive table.\"\n",
              "              style=\"display:none;\">\n",
              "        \n",
              "  <svg xmlns=\"http://www.w3.org/2000/svg\" height=\"24px\"viewBox=\"0 0 24 24\"\n",
              "       width=\"24px\">\n",
              "    <path d=\"M0 0h24v24H0V0z\" fill=\"none\"/>\n",
              "    <path d=\"M18.56 5.44l.94 2.06.94-2.06 2.06-.94-2.06-.94-.94-2.06-.94 2.06-2.06.94zm-11 1L8.5 8.5l.94-2.06 2.06-.94-2.06-.94L8.5 2.5l-.94 2.06-2.06.94zm10 10l.94 2.06.94-2.06 2.06-.94-2.06-.94-.94-2.06-.94 2.06-2.06.94z\"/><path d=\"M17.41 7.96l-1.37-1.37c-.4-.4-.92-.59-1.43-.59-.52 0-1.04.2-1.43.59L10.3 9.45l-7.72 7.72c-.78.78-.78 2.05 0 2.83L4 21.41c.39.39.9.59 1.41.59.51 0 1.02-.2 1.41-.59l7.78-7.78 2.81-2.81c.8-.78.8-2.07 0-2.86zM5.41 20L4 18.59l7.72-7.72 1.47 1.35L5.41 20z\"/>\n",
              "  </svg>\n",
              "      </button>\n",
              "      \n",
              "  <style>\n",
              "    .colab-df-container {\n",
              "      display:flex;\n",
              "      flex-wrap:wrap;\n",
              "      gap: 12px;\n",
              "    }\n",
              "\n",
              "    .colab-df-convert {\n",
              "      background-color: #E8F0FE;\n",
              "      border: none;\n",
              "      border-radius: 50%;\n",
              "      cursor: pointer;\n",
              "      display: none;\n",
              "      fill: #1967D2;\n",
              "      height: 32px;\n",
              "      padding: 0 0 0 0;\n",
              "      width: 32px;\n",
              "    }\n",
              "\n",
              "    .colab-df-convert:hover {\n",
              "      background-color: #E2EBFA;\n",
              "      box-shadow: 0px 1px 2px rgba(60, 64, 67, 0.3), 0px 1px 3px 1px rgba(60, 64, 67, 0.15);\n",
              "      fill: #174EA6;\n",
              "    }\n",
              "\n",
              "    [theme=dark] .colab-df-convert {\n",
              "      background-color: #3B4455;\n",
              "      fill: #D2E3FC;\n",
              "    }\n",
              "\n",
              "    [theme=dark] .colab-df-convert:hover {\n",
              "      background-color: #434B5C;\n",
              "      box-shadow: 0px 1px 3px 1px rgba(0, 0, 0, 0.15);\n",
              "      filter: drop-shadow(0px 1px 2px rgba(0, 0, 0, 0.3));\n",
              "      fill: #FFFFFF;\n",
              "    }\n",
              "  </style>\n",
              "\n",
              "      <script>\n",
              "        const buttonEl =\n",
              "          document.querySelector('#df-12f37491-4364-47ef-b4d1-178037c6033d button.colab-df-convert');\n",
              "        buttonEl.style.display =\n",
              "          google.colab.kernel.accessAllowed ? 'block' : 'none';\n",
              "\n",
              "        async function convertToInteractive(key) {\n",
              "          const element = document.querySelector('#df-12f37491-4364-47ef-b4d1-178037c6033d');\n",
              "          const dataTable =\n",
              "            await google.colab.kernel.invokeFunction('convertToInteractive',\n",
              "                                                     [key], {});\n",
              "          if (!dataTable) return;\n",
              "\n",
              "          const docLinkHtml = 'Like what you see? Visit the ' +\n",
              "            '<a target=\"_blank\" href=https://colab.research.google.com/notebooks/data_table.ipynb>data table notebook</a>'\n",
              "            + ' to learn more about interactive tables.';\n",
              "          element.innerHTML = '';\n",
              "          dataTable['output_type'] = 'display_data';\n",
              "          await google.colab.output.renderOutput(dataTable, element);\n",
              "          const docLink = document.createElement('div');\n",
              "          docLink.innerHTML = docLinkHtml;\n",
              "          element.appendChild(docLink);\n",
              "        }\n",
              "      </script>\n",
              "    </div>\n",
              "  </div>\n",
              "  "
            ]
          },
          "metadata": {},
          "execution_count": 25
        }
      ]
    },
    {
      "cell_type": "code",
      "source": [
        "# То, что модель лучше всего предсказывает\n",
        "list_of_i = []\n",
        "for i in range(20):\n",
        "  list_of_i.append(errors[:20][i][1])\n",
        "\n",
        "new_list_of_i = X_val.reset_index()['index'].loc[list_of_i].tolist()\n",
        "\n",
        "X.loc[new_list_of_i]"
      ],
      "metadata": {
        "colab": {
          "base_uri": "https://localhost:8080/",
          "height": 677
        },
        "id": "tM0dOC71d_J0",
        "outputId": "5de44060-c040-4837-ec49-3c66ea742873"
      },
      "id": "tM0dOC71d_J0",
      "execution_count": 26,
      "outputs": [
        {
          "output_type": "execute_result",
          "data": {
            "text/plain": [
              "      work_year experience_level employment_type          job_title  \\\n",
              "3305       2022               SE              FT      Data Engineer   \n",
              "2409       2022               SE              FT     Data Scientist   \n",
              "1359       2023               SE              FT     Data Scientist   \n",
              "1283       2023               SE              FT  Data Science Lead   \n",
              "1544       2023               SE              FT     Data Scientist   \n",
              "1385       2023               SE              FT     Data Scientist   \n",
              "2248       2022               SE              FT      Data Engineer   \n",
              "1469       2023               MI              FT       Data Analyst   \n",
              "2801       2022               SE              FT      Data Engineer   \n",
              "1218       2023               SE              FT     Data Architect   \n",
              "1819       2023               EN              FT      Data Engineer   \n",
              "2137       2022               MI              FT      Data Engineer   \n",
              "2267       2022               EN              FT      Data Engineer   \n",
              "1443       2022               MI              FT     Data Scientist   \n",
              "2208       2022               SE              FT      Data Engineer   \n",
              "2386       2022               SE              FT       Data Analyst   \n",
              "2287       2022               MI              FT      Data Engineer   \n",
              "1392       2023               SE              FT       Data Analyst   \n",
              "2075       2022               SE              FT      Data Engineer   \n",
              "826        2023               SE              FT       Data Analyst   \n",
              "\n",
              "     salary_currency employee_residence  remote_ratio company_location  \\\n",
              "3305             USD                 US           100               US   \n",
              "2409             USD                 US           100               US   \n",
              "1359             USD                 US           100               US   \n",
              "1283             USD                 US             0               US   \n",
              "1544             USD                 US             0               US   \n",
              "1385             USD                 US             0               US   \n",
              "2248             USD                 US             0               US   \n",
              "1469             USD                 US             0               US   \n",
              "2801             USD                 US           100               US   \n",
              "1218             USD                 US           100               US   \n",
              "1819             USD                 US             0               US   \n",
              "2137             USD                 US           100               US   \n",
              "2267             USD                 US             0               US   \n",
              "1443             USD                 US           100               US   \n",
              "2208             USD                 US             0               US   \n",
              "2386             USD                 US             0               US   \n",
              "2287             USD                 US           100               US   \n",
              "1392             USD                 US             0               US   \n",
              "2075             USD                 US             0               US   \n",
              "826              USD                 US           100               US   \n",
              "\n",
              "     company_size  \n",
              "3305            M  \n",
              "2409            M  \n",
              "1359            M  \n",
              "1283            M  \n",
              "1544            M  \n",
              "1385            M  \n",
              "2248            M  \n",
              "1469            M  \n",
              "2801            M  \n",
              "1218            M  \n",
              "1819            M  \n",
              "2137            M  \n",
              "2267            M  \n",
              "1443            L  \n",
              "2208            L  \n",
              "2386            M  \n",
              "2287            M  \n",
              "1392            M  \n",
              "2075            M  \n",
              "826             M  "
            ],
            "text/html": [
              "\n",
              "  <div id=\"df-1480315e-679f-41bd-98ad-e31099b56bb5\">\n",
              "    <div class=\"colab-df-container\">\n",
              "      <div>\n",
              "<style scoped>\n",
              "    .dataframe tbody tr th:only-of-type {\n",
              "        vertical-align: middle;\n",
              "    }\n",
              "\n",
              "    .dataframe tbody tr th {\n",
              "        vertical-align: top;\n",
              "    }\n",
              "\n",
              "    .dataframe thead th {\n",
              "        text-align: right;\n",
              "    }\n",
              "</style>\n",
              "<table border=\"1\" class=\"dataframe\">\n",
              "  <thead>\n",
              "    <tr style=\"text-align: right;\">\n",
              "      <th></th>\n",
              "      <th>work_year</th>\n",
              "      <th>experience_level</th>\n",
              "      <th>employment_type</th>\n",
              "      <th>job_title</th>\n",
              "      <th>salary_currency</th>\n",
              "      <th>employee_residence</th>\n",
              "      <th>remote_ratio</th>\n",
              "      <th>company_location</th>\n",
              "      <th>company_size</th>\n",
              "    </tr>\n",
              "  </thead>\n",
              "  <tbody>\n",
              "    <tr>\n",
              "      <th>3305</th>\n",
              "      <td>2022</td>\n",
              "      <td>SE</td>\n",
              "      <td>FT</td>\n",
              "      <td>Data Engineer</td>\n",
              "      <td>USD</td>\n",
              "      <td>US</td>\n",
              "      <td>100</td>\n",
              "      <td>US</td>\n",
              "      <td>M</td>\n",
              "    </tr>\n",
              "    <tr>\n",
              "      <th>2409</th>\n",
              "      <td>2022</td>\n",
              "      <td>SE</td>\n",
              "      <td>FT</td>\n",
              "      <td>Data Scientist</td>\n",
              "      <td>USD</td>\n",
              "      <td>US</td>\n",
              "      <td>100</td>\n",
              "      <td>US</td>\n",
              "      <td>M</td>\n",
              "    </tr>\n",
              "    <tr>\n",
              "      <th>1359</th>\n",
              "      <td>2023</td>\n",
              "      <td>SE</td>\n",
              "      <td>FT</td>\n",
              "      <td>Data Scientist</td>\n",
              "      <td>USD</td>\n",
              "      <td>US</td>\n",
              "      <td>100</td>\n",
              "      <td>US</td>\n",
              "      <td>M</td>\n",
              "    </tr>\n",
              "    <tr>\n",
              "      <th>1283</th>\n",
              "      <td>2023</td>\n",
              "      <td>SE</td>\n",
              "      <td>FT</td>\n",
              "      <td>Data Science Lead</td>\n",
              "      <td>USD</td>\n",
              "      <td>US</td>\n",
              "      <td>0</td>\n",
              "      <td>US</td>\n",
              "      <td>M</td>\n",
              "    </tr>\n",
              "    <tr>\n",
              "      <th>1544</th>\n",
              "      <td>2023</td>\n",
              "      <td>SE</td>\n",
              "      <td>FT</td>\n",
              "      <td>Data Scientist</td>\n",
              "      <td>USD</td>\n",
              "      <td>US</td>\n",
              "      <td>0</td>\n",
              "      <td>US</td>\n",
              "      <td>M</td>\n",
              "    </tr>\n",
              "    <tr>\n",
              "      <th>1385</th>\n",
              "      <td>2023</td>\n",
              "      <td>SE</td>\n",
              "      <td>FT</td>\n",
              "      <td>Data Scientist</td>\n",
              "      <td>USD</td>\n",
              "      <td>US</td>\n",
              "      <td>0</td>\n",
              "      <td>US</td>\n",
              "      <td>M</td>\n",
              "    </tr>\n",
              "    <tr>\n",
              "      <th>2248</th>\n",
              "      <td>2022</td>\n",
              "      <td>SE</td>\n",
              "      <td>FT</td>\n",
              "      <td>Data Engineer</td>\n",
              "      <td>USD</td>\n",
              "      <td>US</td>\n",
              "      <td>0</td>\n",
              "      <td>US</td>\n",
              "      <td>M</td>\n",
              "    </tr>\n",
              "    <tr>\n",
              "      <th>1469</th>\n",
              "      <td>2023</td>\n",
              "      <td>MI</td>\n",
              "      <td>FT</td>\n",
              "      <td>Data Analyst</td>\n",
              "      <td>USD</td>\n",
              "      <td>US</td>\n",
              "      <td>0</td>\n",
              "      <td>US</td>\n",
              "      <td>M</td>\n",
              "    </tr>\n",
              "    <tr>\n",
              "      <th>2801</th>\n",
              "      <td>2022</td>\n",
              "      <td>SE</td>\n",
              "      <td>FT</td>\n",
              "      <td>Data Engineer</td>\n",
              "      <td>USD</td>\n",
              "      <td>US</td>\n",
              "      <td>100</td>\n",
              "      <td>US</td>\n",
              "      <td>M</td>\n",
              "    </tr>\n",
              "    <tr>\n",
              "      <th>1218</th>\n",
              "      <td>2023</td>\n",
              "      <td>SE</td>\n",
              "      <td>FT</td>\n",
              "      <td>Data Architect</td>\n",
              "      <td>USD</td>\n",
              "      <td>US</td>\n",
              "      <td>100</td>\n",
              "      <td>US</td>\n",
              "      <td>M</td>\n",
              "    </tr>\n",
              "    <tr>\n",
              "      <th>1819</th>\n",
              "      <td>2023</td>\n",
              "      <td>EN</td>\n",
              "      <td>FT</td>\n",
              "      <td>Data Engineer</td>\n",
              "      <td>USD</td>\n",
              "      <td>US</td>\n",
              "      <td>0</td>\n",
              "      <td>US</td>\n",
              "      <td>M</td>\n",
              "    </tr>\n",
              "    <tr>\n",
              "      <th>2137</th>\n",
              "      <td>2022</td>\n",
              "      <td>MI</td>\n",
              "      <td>FT</td>\n",
              "      <td>Data Engineer</td>\n",
              "      <td>USD</td>\n",
              "      <td>US</td>\n",
              "      <td>100</td>\n",
              "      <td>US</td>\n",
              "      <td>M</td>\n",
              "    </tr>\n",
              "    <tr>\n",
              "      <th>2267</th>\n",
              "      <td>2022</td>\n",
              "      <td>EN</td>\n",
              "      <td>FT</td>\n",
              "      <td>Data Engineer</td>\n",
              "      <td>USD</td>\n",
              "      <td>US</td>\n",
              "      <td>0</td>\n",
              "      <td>US</td>\n",
              "      <td>M</td>\n",
              "    </tr>\n",
              "    <tr>\n",
              "      <th>1443</th>\n",
              "      <td>2022</td>\n",
              "      <td>MI</td>\n",
              "      <td>FT</td>\n",
              "      <td>Data Scientist</td>\n",
              "      <td>USD</td>\n",
              "      <td>US</td>\n",
              "      <td>100</td>\n",
              "      <td>US</td>\n",
              "      <td>L</td>\n",
              "    </tr>\n",
              "    <tr>\n",
              "      <th>2208</th>\n",
              "      <td>2022</td>\n",
              "      <td>SE</td>\n",
              "      <td>FT</td>\n",
              "      <td>Data Engineer</td>\n",
              "      <td>USD</td>\n",
              "      <td>US</td>\n",
              "      <td>0</td>\n",
              "      <td>US</td>\n",
              "      <td>L</td>\n",
              "    </tr>\n",
              "    <tr>\n",
              "      <th>2386</th>\n",
              "      <td>2022</td>\n",
              "      <td>SE</td>\n",
              "      <td>FT</td>\n",
              "      <td>Data Analyst</td>\n",
              "      <td>USD</td>\n",
              "      <td>US</td>\n",
              "      <td>0</td>\n",
              "      <td>US</td>\n",
              "      <td>M</td>\n",
              "    </tr>\n",
              "    <tr>\n",
              "      <th>2287</th>\n",
              "      <td>2022</td>\n",
              "      <td>MI</td>\n",
              "      <td>FT</td>\n",
              "      <td>Data Engineer</td>\n",
              "      <td>USD</td>\n",
              "      <td>US</td>\n",
              "      <td>100</td>\n",
              "      <td>US</td>\n",
              "      <td>M</td>\n",
              "    </tr>\n",
              "    <tr>\n",
              "      <th>1392</th>\n",
              "      <td>2023</td>\n",
              "      <td>SE</td>\n",
              "      <td>FT</td>\n",
              "      <td>Data Analyst</td>\n",
              "      <td>USD</td>\n",
              "      <td>US</td>\n",
              "      <td>0</td>\n",
              "      <td>US</td>\n",
              "      <td>M</td>\n",
              "    </tr>\n",
              "    <tr>\n",
              "      <th>2075</th>\n",
              "      <td>2022</td>\n",
              "      <td>SE</td>\n",
              "      <td>FT</td>\n",
              "      <td>Data Engineer</td>\n",
              "      <td>USD</td>\n",
              "      <td>US</td>\n",
              "      <td>0</td>\n",
              "      <td>US</td>\n",
              "      <td>M</td>\n",
              "    </tr>\n",
              "    <tr>\n",
              "      <th>826</th>\n",
              "      <td>2023</td>\n",
              "      <td>SE</td>\n",
              "      <td>FT</td>\n",
              "      <td>Data Analyst</td>\n",
              "      <td>USD</td>\n",
              "      <td>US</td>\n",
              "      <td>100</td>\n",
              "      <td>US</td>\n",
              "      <td>M</td>\n",
              "    </tr>\n",
              "  </tbody>\n",
              "</table>\n",
              "</div>\n",
              "      <button class=\"colab-df-convert\" onclick=\"convertToInteractive('df-1480315e-679f-41bd-98ad-e31099b56bb5')\"\n",
              "              title=\"Convert this dataframe to an interactive table.\"\n",
              "              style=\"display:none;\">\n",
              "        \n",
              "  <svg xmlns=\"http://www.w3.org/2000/svg\" height=\"24px\"viewBox=\"0 0 24 24\"\n",
              "       width=\"24px\">\n",
              "    <path d=\"M0 0h24v24H0V0z\" fill=\"none\"/>\n",
              "    <path d=\"M18.56 5.44l.94 2.06.94-2.06 2.06-.94-2.06-.94-.94-2.06-.94 2.06-2.06.94zm-11 1L8.5 8.5l.94-2.06 2.06-.94-2.06-.94L8.5 2.5l-.94 2.06-2.06.94zm10 10l.94 2.06.94-2.06 2.06-.94-2.06-.94-.94-2.06-.94 2.06-2.06.94z\"/><path d=\"M17.41 7.96l-1.37-1.37c-.4-.4-.92-.59-1.43-.59-.52 0-1.04.2-1.43.59L10.3 9.45l-7.72 7.72c-.78.78-.78 2.05 0 2.83L4 21.41c.39.39.9.59 1.41.59.51 0 1.02-.2 1.41-.59l7.78-7.78 2.81-2.81c.8-.78.8-2.07 0-2.86zM5.41 20L4 18.59l7.72-7.72 1.47 1.35L5.41 20z\"/>\n",
              "  </svg>\n",
              "      </button>\n",
              "      \n",
              "  <style>\n",
              "    .colab-df-container {\n",
              "      display:flex;\n",
              "      flex-wrap:wrap;\n",
              "      gap: 12px;\n",
              "    }\n",
              "\n",
              "    .colab-df-convert {\n",
              "      background-color: #E8F0FE;\n",
              "      border: none;\n",
              "      border-radius: 50%;\n",
              "      cursor: pointer;\n",
              "      display: none;\n",
              "      fill: #1967D2;\n",
              "      height: 32px;\n",
              "      padding: 0 0 0 0;\n",
              "      width: 32px;\n",
              "    }\n",
              "\n",
              "    .colab-df-convert:hover {\n",
              "      background-color: #E2EBFA;\n",
              "      box-shadow: 0px 1px 2px rgba(60, 64, 67, 0.3), 0px 1px 3px 1px rgba(60, 64, 67, 0.15);\n",
              "      fill: #174EA6;\n",
              "    }\n",
              "\n",
              "    [theme=dark] .colab-df-convert {\n",
              "      background-color: #3B4455;\n",
              "      fill: #D2E3FC;\n",
              "    }\n",
              "\n",
              "    [theme=dark] .colab-df-convert:hover {\n",
              "      background-color: #434B5C;\n",
              "      box-shadow: 0px 1px 3px 1px rgba(0, 0, 0, 0.15);\n",
              "      filter: drop-shadow(0px 1px 2px rgba(0, 0, 0, 0.3));\n",
              "      fill: #FFFFFF;\n",
              "    }\n",
              "  </style>\n",
              "\n",
              "      <script>\n",
              "        const buttonEl =\n",
              "          document.querySelector('#df-1480315e-679f-41bd-98ad-e31099b56bb5 button.colab-df-convert');\n",
              "        buttonEl.style.display =\n",
              "          google.colab.kernel.accessAllowed ? 'block' : 'none';\n",
              "\n",
              "        async function convertToInteractive(key) {\n",
              "          const element = document.querySelector('#df-1480315e-679f-41bd-98ad-e31099b56bb5');\n",
              "          const dataTable =\n",
              "            await google.colab.kernel.invokeFunction('convertToInteractive',\n",
              "                                                     [key], {});\n",
              "          if (!dataTable) return;\n",
              "\n",
              "          const docLinkHtml = 'Like what you see? Visit the ' +\n",
              "            '<a target=\"_blank\" href=https://colab.research.google.com/notebooks/data_table.ipynb>data table notebook</a>'\n",
              "            + ' to learn more about interactive tables.';\n",
              "          element.innerHTML = '';\n",
              "          dataTable['output_type'] = 'display_data';\n",
              "          await google.colab.output.renderOutput(dataTable, element);\n",
              "          const docLink = document.createElement('div');\n",
              "          docLink.innerHTML = docLinkHtml;\n",
              "          element.appendChild(docLink);\n",
              "        }\n",
              "      </script>\n",
              "    </div>\n",
              "  </div>\n",
              "  "
            ]
          },
          "metadata": {},
          "execution_count": 26
        }
      ]
    },
    {
      "cell_type": "markdown",
      "source": [
        "Видимо, модель ошибается в случае, если компания не находится в US. В наилучших предсказываниях все люди работали в Омэрике, когда как в худших предсказываниях лишь 9 были из US"
      ],
      "metadata": {
        "id": "XPYg6sPrmnoB"
      },
      "id": "XPYg6sPrmnoB"
    },
    {
      "cell_type": "markdown",
      "id": "0bb42f2e",
      "metadata": {
        "id": "0bb42f2e"
      },
      "source": [
        "## Задание 6 (0.5 балла)"
      ]
    },
    {
      "cell_type": "markdown",
      "id": "348b42f3",
      "metadata": {
        "id": "348b42f3"
      },
      "source": [
        "Придумайте признаки для улучшения качества модели на основе предыдущего пункта. Как вам кажется какими признаками можно улучшить качетсво модели? Реализуйте признаки и проверьте улучшилось ли качество модели. Полный бал за задание ставится даже при отсутствии улучшения качества модели, важно попробовать проверить свои гипотезы и сделать выводы"
      ]
    },
    {
      "cell_type": "code",
      "source": [
        "# df = pd.read_csv(\"ds_salaries.csv\")\n",
        "# df = pd.get_dummies(df, drop_first= True )\n",
        "\n",
        "# X = df.drop(['salary_in_usd', 'salary'],axis = 1)\n",
        "# y = df['salary_in_usd']"
      ],
      "metadata": {
        "id": "bNmOrKey7oJe"
      },
      "id": "bNmOrKey7oJe",
      "execution_count": 27,
      "outputs": []
    },
    {
      "cell_type": "code",
      "source": [
        "df['in_US'] = (df['company_location'] == 'US').map(lambda x: 1 if x else 0)\n",
        "\n",
        "df['in_US'] = df['in_US'] * df['remote_ratio'] / 100"
      ],
      "metadata": {
        "id": "6N9SsegceGit"
      },
      "id": "6N9SsegceGit",
      "execution_count": 28,
      "outputs": []
    },
    {
      "cell_type": "code",
      "source": [
        "df"
      ],
      "metadata": {
        "colab": {
          "base_uri": "https://localhost:8080/",
          "height": 424
        },
        "id": "iql08FtJhWYY",
        "outputId": "947c4be8-7948-4c17-b44a-10e86b584111"
      },
      "id": "iql08FtJhWYY",
      "execution_count": 29,
      "outputs": [
        {
          "output_type": "execute_result",
          "data": {
            "text/plain": [
              "      work_year experience_level employment_type                 job_title  \\\n",
              "0          2023               SE              FT  Principal Data Scientist   \n",
              "1          2023               MI              CT               ML Engineer   \n",
              "2          2023               MI              CT               ML Engineer   \n",
              "3          2023               SE              FT            Data Scientist   \n",
              "4          2023               SE              FT            Data Scientist   \n",
              "...         ...              ...             ...                       ...   \n",
              "3750       2020               SE              FT            Data Scientist   \n",
              "3751       2021               MI              FT  Principal Data Scientist   \n",
              "3752       2020               EN              FT            Data Scientist   \n",
              "3753       2020               EN              CT     Business Data Analyst   \n",
              "3754       2021               SE              FT      Data Science Manager   \n",
              "\n",
              "       salary salary_currency  salary_in_usd employee_residence  remote_ratio  \\\n",
              "0       80000             EUR          85847                 ES           100   \n",
              "1       30000             USD          30000                 US           100   \n",
              "2       25500             USD          25500                 US           100   \n",
              "3      175000             USD         175000                 CA           100   \n",
              "4      120000             USD         120000                 CA           100   \n",
              "...       ...             ...            ...                ...           ...   \n",
              "3750   412000             USD         412000                 US           100   \n",
              "3751   151000             USD         151000                 US           100   \n",
              "3752   105000             USD         105000                 US           100   \n",
              "3753   100000             USD         100000                 US           100   \n",
              "3754  7000000             INR          94665                 IN            50   \n",
              "\n",
              "     company_location company_size  in_US  \n",
              "0                  ES            L    0.0  \n",
              "1                  US            S    1.0  \n",
              "2                  US            S    1.0  \n",
              "3                  CA            M    0.0  \n",
              "4                  CA            M    0.0  \n",
              "...               ...          ...    ...  \n",
              "3750               US            L    1.0  \n",
              "3751               US            L    1.0  \n",
              "3752               US            S    1.0  \n",
              "3753               US            L    1.0  \n",
              "3754               IN            L    0.0  \n",
              "\n",
              "[3755 rows x 12 columns]"
            ],
            "text/html": [
              "\n",
              "  <div id=\"df-5fd59e19-4235-40fd-a5bb-41af5df1bc0c\">\n",
              "    <div class=\"colab-df-container\">\n",
              "      <div>\n",
              "<style scoped>\n",
              "    .dataframe tbody tr th:only-of-type {\n",
              "        vertical-align: middle;\n",
              "    }\n",
              "\n",
              "    .dataframe tbody tr th {\n",
              "        vertical-align: top;\n",
              "    }\n",
              "\n",
              "    .dataframe thead th {\n",
              "        text-align: right;\n",
              "    }\n",
              "</style>\n",
              "<table border=\"1\" class=\"dataframe\">\n",
              "  <thead>\n",
              "    <tr style=\"text-align: right;\">\n",
              "      <th></th>\n",
              "      <th>work_year</th>\n",
              "      <th>experience_level</th>\n",
              "      <th>employment_type</th>\n",
              "      <th>job_title</th>\n",
              "      <th>salary</th>\n",
              "      <th>salary_currency</th>\n",
              "      <th>salary_in_usd</th>\n",
              "      <th>employee_residence</th>\n",
              "      <th>remote_ratio</th>\n",
              "      <th>company_location</th>\n",
              "      <th>company_size</th>\n",
              "      <th>in_US</th>\n",
              "    </tr>\n",
              "  </thead>\n",
              "  <tbody>\n",
              "    <tr>\n",
              "      <th>0</th>\n",
              "      <td>2023</td>\n",
              "      <td>SE</td>\n",
              "      <td>FT</td>\n",
              "      <td>Principal Data Scientist</td>\n",
              "      <td>80000</td>\n",
              "      <td>EUR</td>\n",
              "      <td>85847</td>\n",
              "      <td>ES</td>\n",
              "      <td>100</td>\n",
              "      <td>ES</td>\n",
              "      <td>L</td>\n",
              "      <td>0.0</td>\n",
              "    </tr>\n",
              "    <tr>\n",
              "      <th>1</th>\n",
              "      <td>2023</td>\n",
              "      <td>MI</td>\n",
              "      <td>CT</td>\n",
              "      <td>ML Engineer</td>\n",
              "      <td>30000</td>\n",
              "      <td>USD</td>\n",
              "      <td>30000</td>\n",
              "      <td>US</td>\n",
              "      <td>100</td>\n",
              "      <td>US</td>\n",
              "      <td>S</td>\n",
              "      <td>1.0</td>\n",
              "    </tr>\n",
              "    <tr>\n",
              "      <th>2</th>\n",
              "      <td>2023</td>\n",
              "      <td>MI</td>\n",
              "      <td>CT</td>\n",
              "      <td>ML Engineer</td>\n",
              "      <td>25500</td>\n",
              "      <td>USD</td>\n",
              "      <td>25500</td>\n",
              "      <td>US</td>\n",
              "      <td>100</td>\n",
              "      <td>US</td>\n",
              "      <td>S</td>\n",
              "      <td>1.0</td>\n",
              "    </tr>\n",
              "    <tr>\n",
              "      <th>3</th>\n",
              "      <td>2023</td>\n",
              "      <td>SE</td>\n",
              "      <td>FT</td>\n",
              "      <td>Data Scientist</td>\n",
              "      <td>175000</td>\n",
              "      <td>USD</td>\n",
              "      <td>175000</td>\n",
              "      <td>CA</td>\n",
              "      <td>100</td>\n",
              "      <td>CA</td>\n",
              "      <td>M</td>\n",
              "      <td>0.0</td>\n",
              "    </tr>\n",
              "    <tr>\n",
              "      <th>4</th>\n",
              "      <td>2023</td>\n",
              "      <td>SE</td>\n",
              "      <td>FT</td>\n",
              "      <td>Data Scientist</td>\n",
              "      <td>120000</td>\n",
              "      <td>USD</td>\n",
              "      <td>120000</td>\n",
              "      <td>CA</td>\n",
              "      <td>100</td>\n",
              "      <td>CA</td>\n",
              "      <td>M</td>\n",
              "      <td>0.0</td>\n",
              "    </tr>\n",
              "    <tr>\n",
              "      <th>...</th>\n",
              "      <td>...</td>\n",
              "      <td>...</td>\n",
              "      <td>...</td>\n",
              "      <td>...</td>\n",
              "      <td>...</td>\n",
              "      <td>...</td>\n",
              "      <td>...</td>\n",
              "      <td>...</td>\n",
              "      <td>...</td>\n",
              "      <td>...</td>\n",
              "      <td>...</td>\n",
              "      <td>...</td>\n",
              "    </tr>\n",
              "    <tr>\n",
              "      <th>3750</th>\n",
              "      <td>2020</td>\n",
              "      <td>SE</td>\n",
              "      <td>FT</td>\n",
              "      <td>Data Scientist</td>\n",
              "      <td>412000</td>\n",
              "      <td>USD</td>\n",
              "      <td>412000</td>\n",
              "      <td>US</td>\n",
              "      <td>100</td>\n",
              "      <td>US</td>\n",
              "      <td>L</td>\n",
              "      <td>1.0</td>\n",
              "    </tr>\n",
              "    <tr>\n",
              "      <th>3751</th>\n",
              "      <td>2021</td>\n",
              "      <td>MI</td>\n",
              "      <td>FT</td>\n",
              "      <td>Principal Data Scientist</td>\n",
              "      <td>151000</td>\n",
              "      <td>USD</td>\n",
              "      <td>151000</td>\n",
              "      <td>US</td>\n",
              "      <td>100</td>\n",
              "      <td>US</td>\n",
              "      <td>L</td>\n",
              "      <td>1.0</td>\n",
              "    </tr>\n",
              "    <tr>\n",
              "      <th>3752</th>\n",
              "      <td>2020</td>\n",
              "      <td>EN</td>\n",
              "      <td>FT</td>\n",
              "      <td>Data Scientist</td>\n",
              "      <td>105000</td>\n",
              "      <td>USD</td>\n",
              "      <td>105000</td>\n",
              "      <td>US</td>\n",
              "      <td>100</td>\n",
              "      <td>US</td>\n",
              "      <td>S</td>\n",
              "      <td>1.0</td>\n",
              "    </tr>\n",
              "    <tr>\n",
              "      <th>3753</th>\n",
              "      <td>2020</td>\n",
              "      <td>EN</td>\n",
              "      <td>CT</td>\n",
              "      <td>Business Data Analyst</td>\n",
              "      <td>100000</td>\n",
              "      <td>USD</td>\n",
              "      <td>100000</td>\n",
              "      <td>US</td>\n",
              "      <td>100</td>\n",
              "      <td>US</td>\n",
              "      <td>L</td>\n",
              "      <td>1.0</td>\n",
              "    </tr>\n",
              "    <tr>\n",
              "      <th>3754</th>\n",
              "      <td>2021</td>\n",
              "      <td>SE</td>\n",
              "      <td>FT</td>\n",
              "      <td>Data Science Manager</td>\n",
              "      <td>7000000</td>\n",
              "      <td>INR</td>\n",
              "      <td>94665</td>\n",
              "      <td>IN</td>\n",
              "      <td>50</td>\n",
              "      <td>IN</td>\n",
              "      <td>L</td>\n",
              "      <td>0.0</td>\n",
              "    </tr>\n",
              "  </tbody>\n",
              "</table>\n",
              "<p>3755 rows × 12 columns</p>\n",
              "</div>\n",
              "      <button class=\"colab-df-convert\" onclick=\"convertToInteractive('df-5fd59e19-4235-40fd-a5bb-41af5df1bc0c')\"\n",
              "              title=\"Convert this dataframe to an interactive table.\"\n",
              "              style=\"display:none;\">\n",
              "        \n",
              "  <svg xmlns=\"http://www.w3.org/2000/svg\" height=\"24px\"viewBox=\"0 0 24 24\"\n",
              "       width=\"24px\">\n",
              "    <path d=\"M0 0h24v24H0V0z\" fill=\"none\"/>\n",
              "    <path d=\"M18.56 5.44l.94 2.06.94-2.06 2.06-.94-2.06-.94-.94-2.06-.94 2.06-2.06.94zm-11 1L8.5 8.5l.94-2.06 2.06-.94-2.06-.94L8.5 2.5l-.94 2.06-2.06.94zm10 10l.94 2.06.94-2.06 2.06-.94-2.06-.94-.94-2.06-.94 2.06-2.06.94z\"/><path d=\"M17.41 7.96l-1.37-1.37c-.4-.4-.92-.59-1.43-.59-.52 0-1.04.2-1.43.59L10.3 9.45l-7.72 7.72c-.78.78-.78 2.05 0 2.83L4 21.41c.39.39.9.59 1.41.59.51 0 1.02-.2 1.41-.59l7.78-7.78 2.81-2.81c.8-.78.8-2.07 0-2.86zM5.41 20L4 18.59l7.72-7.72 1.47 1.35L5.41 20z\"/>\n",
              "  </svg>\n",
              "      </button>\n",
              "      \n",
              "  <style>\n",
              "    .colab-df-container {\n",
              "      display:flex;\n",
              "      flex-wrap:wrap;\n",
              "      gap: 12px;\n",
              "    }\n",
              "\n",
              "    .colab-df-convert {\n",
              "      background-color: #E8F0FE;\n",
              "      border: none;\n",
              "      border-radius: 50%;\n",
              "      cursor: pointer;\n",
              "      display: none;\n",
              "      fill: #1967D2;\n",
              "      height: 32px;\n",
              "      padding: 0 0 0 0;\n",
              "      width: 32px;\n",
              "    }\n",
              "\n",
              "    .colab-df-convert:hover {\n",
              "      background-color: #E2EBFA;\n",
              "      box-shadow: 0px 1px 2px rgba(60, 64, 67, 0.3), 0px 1px 3px 1px rgba(60, 64, 67, 0.15);\n",
              "      fill: #174EA6;\n",
              "    }\n",
              "\n",
              "    [theme=dark] .colab-df-convert {\n",
              "      background-color: #3B4455;\n",
              "      fill: #D2E3FC;\n",
              "    }\n",
              "\n",
              "    [theme=dark] .colab-df-convert:hover {\n",
              "      background-color: #434B5C;\n",
              "      box-shadow: 0px 1px 3px 1px rgba(0, 0, 0, 0.15);\n",
              "      filter: drop-shadow(0px 1px 2px rgba(0, 0, 0, 0.3));\n",
              "      fill: #FFFFFF;\n",
              "    }\n",
              "  </style>\n",
              "\n",
              "      <script>\n",
              "        const buttonEl =\n",
              "          document.querySelector('#df-5fd59e19-4235-40fd-a5bb-41af5df1bc0c button.colab-df-convert');\n",
              "        buttonEl.style.display =\n",
              "          google.colab.kernel.accessAllowed ? 'block' : 'none';\n",
              "\n",
              "        async function convertToInteractive(key) {\n",
              "          const element = document.querySelector('#df-5fd59e19-4235-40fd-a5bb-41af5df1bc0c');\n",
              "          const dataTable =\n",
              "            await google.colab.kernel.invokeFunction('convertToInteractive',\n",
              "                                                     [key], {});\n",
              "          if (!dataTable) return;\n",
              "\n",
              "          const docLinkHtml = 'Like what you see? Visit the ' +\n",
              "            '<a target=\"_blank\" href=https://colab.research.google.com/notebooks/data_table.ipynb>data table notebook</a>'\n",
              "            + ' to learn more about interactive tables.';\n",
              "          element.innerHTML = '';\n",
              "          dataTable['output_type'] = 'display_data';\n",
              "          await google.colab.output.renderOutput(dataTable, element);\n",
              "          const docLink = document.createElement('div');\n",
              "          docLink.innerHTML = docLinkHtml;\n",
              "          element.appendChild(docLink);\n",
              "        }\n",
              "      </script>\n",
              "    </div>\n",
              "  </div>\n",
              "  "
            ]
          },
          "metadata": {},
          "execution_count": 29
        }
      ]
    },
    {
      "cell_type": "code",
      "source": [
        "df = pd.get_dummies(df, drop_first= True )\n",
        "\n",
        "X = df.drop(['salary_in_usd', 'salary'],axis = 1)\n",
        "y = df['salary_in_usd']\n",
        "\n",
        "X_train, X_test, y_train, y_test = train_test_split(X, y, test_size=0.3, random_state=228)\n",
        "X_test, X_val, y_test, y_val = train_test_split(X_test, y_test, test_size=0.5, random_state=1337)\n",
        "\n",
        "linreg = LinearRegression()\n",
        "linreg.fit(X_train, y_train)\n",
        "\n",
        "print('mean absolute percentage error: ',mean_absolute_percentage_error(y_val, linreg.predict(X_val)))\n",
        "print('mean squared error: ', np.sqrt(mean_squared_error(y_val, linreg.predict(X_val))))"
      ],
      "metadata": {
        "colab": {
          "base_uri": "https://localhost:8080/"
        },
        "id": "r8IbsvYFh0ch",
        "outputId": "daec81c4-fa1f-4fce-89f4-efaad7716aa2"
      },
      "id": "r8IbsvYFh0ch",
      "execution_count": 30,
      "outputs": [
        {
          "output_type": "stream",
          "name": "stdout",
          "text": [
            "mean absolute percentage error:  0.4415562459272788\n",
            "mean squared error:  51949.38760654537\n"
          ]
        }
      ]
    },
    {
      "cell_type": "markdown",
      "source": [
        "Лучше не стало :("
      ],
      "metadata": {
        "id": "mMpJKYKaZ_BO"
      },
      "id": "mMpJKYKaZ_BO"
    },
    {
      "cell_type": "markdown",
      "id": "3578292c",
      "metadata": {
        "id": "3578292c"
      },
      "source": [
        "## Задание 7 (0.5 балла)"
      ]
    },
    {
      "cell_type": "markdown",
      "id": "9b1ce455",
      "metadata": {
        "id": "9b1ce455"
      },
      "source": [
        "Теперь используете исключительно catboost. Обучить модель. Подберите оптимальные гиперпараметры. Используйте pool для передачи данных в модель с указанием какие признаки категориальные, а какие нет с помощью параметры cat_features. Оцените качество итоговой модели, скорость обучения и скорость предсказания"
      ]
    },
    {
      "cell_type": "code",
      "source": [
        "df = pd.read_csv(\"ds_salaries.csv\")\n",
        "\n",
        "X = df.drop(['salary_in_usd', 'salary'],axis = 1)\n",
        "y = df['salary_in_usd']\n",
        "\n",
        "X_train, X_test, y_train, y_test = train_test_split(X, y, test_size=0.3, random_state=228)\n",
        "X_test, X_val, y_test, y_val = train_test_split(X_test, y_test, test_size=0.5, random_state=1337)"
      ],
      "metadata": {
        "id": "UUbkzjyKdoKw"
      },
      "id": "UUbkzjyKdoKw",
      "execution_count": 32,
      "outputs": []
    },
    {
      "cell_type": "code",
      "source": [
        "from catboost import Pool, cv\n",
        "import matplotlib.pyplot as plt\n",
        "\n",
        "params = {\"iterations\": 10,\n",
        "          \"depth\": 4,\n",
        "          \"loss_function\": \"RMSE\",\n",
        "          \"verbose\": False}\n",
        "cv_dataset = Pool(data=X_train, label=y_train,\n",
        "                  cat_features = ['experience_level', 'employment_type', 'job_title', 'salary_currency', 'employee_residence', 'company_location', 'company_size'])\n",
        "scores = cv(cv_dataset,\n",
        "            params,\n",
        "            fold_count=3,\n",
        "            plot=\"True\")"
      ],
      "metadata": {
        "colab": {
          "base_uri": "https://localhost:8080/",
          "height": 277,
          "referenced_widgets": [
            "068df8dfd8b249818ad0e6b9bcf0904f"
          ]
        },
        "id": "NBMaSe8voyCZ",
        "outputId": "6d1edd19-4d13-4d1c-fe1d-eee7cb5f0ae6"
      },
      "id": "NBMaSe8voyCZ",
      "execution_count": 37,
      "outputs": [
        {
          "output_type": "display_data",
          "data": {
            "text/plain": [
              "MetricVisualizer(layout=Layout(align_self='stretch', height='500px'))"
            ],
            "application/vnd.jupyter.widget-view+json": {
              "version_major": 2,
              "version_minor": 0,
              "model_id": "068df8dfd8b249818ad0e6b9bcf0904f"
            }
          },
          "metadata": {}
        },
        {
          "output_type": "stream",
          "name": "stdout",
          "text": [
            "Training on fold [0/3]\n",
            "\n",
            "bestTest = 119405.5834\n",
            "bestIteration = 9\n",
            "\n",
            "Training on fold [1/3]\n",
            "\n",
            "bestTest = 116130.328\n",
            "bestIteration = 9\n",
            "\n",
            "Training on fold [2/3]\n",
            "\n",
            "bestTest = 119433.9381\n",
            "bestIteration = 9\n",
            "\n"
          ]
        }
      ]
    },
    {
      "cell_type": "code",
      "source": [
        "from catboost import CatBoostRegressor\n",
        "cat = CatBoostRegressor(verbose=False)"
      ],
      "metadata": {
        "id": "M26vi50r30V8"
      },
      "id": "M26vi50r30V8",
      "execution_count": 38,
      "outputs": []
    },
    {
      "cell_type": "code",
      "source": [
        "cat_features = ['experience_level', 'employment_type', 'job_title', 'salary_currency', 'employee_residence', 'company_location', 'company_size']"
      ],
      "metadata": {
        "id": "VA7ZBdhEuwnR"
      },
      "id": "VA7ZBdhEuwnR",
      "execution_count": 39,
      "outputs": []
    },
    {
      "cell_type": "code",
      "source": [
        "grid = {'learning_rate': [0.03, 0.1],\n",
        "        'depth': [4, 6, 10],\n",
        "        'l2_leaf_reg': [1, 3, 5, 7, 9],\n",
        "        }\n",
        "\n",
        "\n",
        "grid_search_result = cat.grid_search(grid, cv_dataset)\n",
        "print(grid_search_result['params'])\n",
        "print(grid_search_result['cv_results'])"
      ],
      "metadata": {
        "colab": {
          "base_uri": "https://localhost:8080/"
        },
        "id": "BFBnu15zlplz",
        "outputId": "a250a2d8-855a-4c0e-a550-d702b5680f5e"
      },
      "id": "BFBnu15zlplz",
      "execution_count": 40,
      "outputs": [
        {
          "output_type": "stream",
          "name": "stdout",
          "text": [
            "\n",
            "bestTest = 48949.93553\n",
            "bestIteration = 268\n",
            "\n",
            "0:\tloss: 48949.9355345\tbest: 48949.9355345 (0)\ttotal: 3.03s\tremaining: 1m 27s\n",
            "\n",
            "bestTest = 49014.2322\n",
            "bestIteration = 115\n",
            "\n",
            "1:\tloss: 49014.2322042\tbest: 48949.9355345 (0)\ttotal: 5.97s\tremaining: 1m 23s\n",
            "\n",
            "bestTest = 48812.22268\n",
            "bestIteration = 585\n",
            "\n",
            "2:\tloss: 48812.2226793\tbest: 48812.2226793 (2)\ttotal: 10s\tremaining: 1m 30s\n",
            "\n",
            "bestTest = 48842.5126\n",
            "bestIteration = 259\n",
            "\n",
            "3:\tloss: 48842.5126005\tbest: 48812.2226793 (2)\ttotal: 13.4s\tremaining: 1m 26s\n",
            "\n",
            "bestTest = 48935.66073\n",
            "bestIteration = 697\n",
            "\n",
            "4:\tloss: 48935.6607292\tbest: 48812.2226793 (2)\ttotal: 17.1s\tremaining: 1m 25s\n",
            "\n",
            "bestTest = 48748.20823\n",
            "bestIteration = 136\n",
            "\n",
            "5:\tloss: 48748.2082267\tbest: 48748.2082267 (5)\ttotal: 20.7s\tremaining: 1m 22s\n",
            "\n",
            "bestTest = 48925.7312\n",
            "bestIteration = 565\n",
            "\n",
            "6:\tloss: 48925.7312018\tbest: 48748.2082267 (5)\ttotal: 25.5s\tremaining: 1m 23s\n",
            "\n",
            "bestTest = 48800.32231\n",
            "bestIteration = 215\n",
            "\n",
            "7:\tloss: 48800.3223093\tbest: 48748.2082267 (5)\ttotal: 28.3s\tremaining: 1m 17s\n",
            "\n",
            "bestTest = 48908.41708\n",
            "bestIteration = 844\n",
            "\n",
            "8:\tloss: 48908.4170838\tbest: 48748.2082267 (5)\ttotal: 31s\tremaining: 1m 12s\n",
            "\n",
            "bestTest = 48962.45076\n",
            "bestIteration = 133\n",
            "\n",
            "9:\tloss: 48962.4507636\tbest: 48748.2082267 (5)\ttotal: 35.2s\tremaining: 1m 10s\n",
            "\n",
            "bestTest = 48749.27383\n",
            "bestIteration = 338\n",
            "\n",
            "10:\tloss: 48749.2738250\tbest: 48748.2082267 (5)\ttotal: 40.4s\tremaining: 1m 9s\n",
            "\n",
            "bestTest = 49117.69571\n",
            "bestIteration = 77\n",
            "\n",
            "11:\tloss: 49117.6957096\tbest: 48748.2082267 (5)\ttotal: 47.8s\tremaining: 1m 11s\n",
            "\n",
            "bestTest = 48859.08014\n",
            "bestIteration = 347\n",
            "\n",
            "12:\tloss: 48859.0801438\tbest: 48748.2082267 (5)\ttotal: 53.3s\tremaining: 1m 9s\n",
            "\n",
            "bestTest = 48814.03545\n",
            "bestIteration = 236\n",
            "\n",
            "13:\tloss: 48814.0354470\tbest: 48748.2082267 (5)\ttotal: 1m\tremaining: 1m 9s\n",
            "\n",
            "bestTest = 48829.13779\n",
            "bestIteration = 973\n",
            "\n",
            "14:\tloss: 48829.1377861\tbest: 48748.2082267 (5)\ttotal: 1m 6s\tremaining: 1m 6s\n",
            "\n",
            "bestTest = 49030.72883\n",
            "bestIteration = 200\n",
            "\n",
            "15:\tloss: 49030.7288275\tbest: 48748.2082267 (5)\ttotal: 1m 12s\tremaining: 1m 3s\n",
            "\n",
            "bestTest = 49011.13206\n",
            "bestIteration = 707\n",
            "\n",
            "16:\tloss: 49011.1320618\tbest: 48748.2082267 (5)\ttotal: 1m 18s\tremaining: 1m\n",
            "\n",
            "bestTest = 48734.39001\n",
            "bestIteration = 561\n",
            "\n",
            "17:\tloss: 48734.3900126\tbest: 48734.3900126 (17)\ttotal: 1m 25s\tremaining: 57.1s\n",
            "\n",
            "bestTest = 48869.08047\n",
            "bestIteration = 701\n",
            "\n",
            "18:\tloss: 48869.0804693\tbest: 48734.3900126 (17)\ttotal: 1m 30s\tremaining: 52.7s\n",
            "\n",
            "bestTest = 48911.74642\n",
            "bestIteration = 990\n",
            "\n",
            "19:\tloss: 48911.7464206\tbest: 48734.3900126 (17)\ttotal: 1m 37s\tremaining: 48.6s\n",
            "\n",
            "bestTest = 48815.42349\n",
            "bestIteration = 306\n",
            "\n",
            "20:\tloss: 48815.4234922\tbest: 48734.3900126 (17)\ttotal: 2m 9s\tremaining: 55.5s\n",
            "\n",
            "bestTest = 48922.02604\n",
            "bestIteration = 78\n",
            "\n",
            "21:\tloss: 48922.0260434\tbest: 48734.3900126 (17)\ttotal: 2m 44s\tremaining: 59.8s\n",
            "\n",
            "bestTest = 48713.06793\n",
            "bestIteration = 240\n",
            "\n",
            "22:\tloss: 48713.0679279\tbest: 48713.0679279 (22)\ttotal: 3m 17s\tremaining: 1m\n",
            "\n",
            "bestTest = 48893.97493\n",
            "bestIteration = 246\n",
            "\n",
            "23:\tloss: 48893.9749270\tbest: 48713.0679279 (22)\ttotal: 3m 51s\tremaining: 57.9s\n",
            "\n",
            "bestTest = 48713.43277\n",
            "bestIteration = 412\n",
            "\n",
            "24:\tloss: 48713.4327709\tbest: 48713.0679279 (22)\ttotal: 4m 22s\tremaining: 52.5s\n",
            "\n",
            "bestTest = 49094.3151\n",
            "bestIteration = 180\n",
            "\n",
            "25:\tloss: 49094.3150990\tbest: 48713.0679279 (22)\ttotal: 4m 56s\tremaining: 45.6s\n",
            "\n",
            "bestTest = 48961.64799\n",
            "bestIteration = 367\n",
            "\n",
            "26:\tloss: 48961.6479901\tbest: 48713.0679279 (22)\ttotal: 5m 26s\tremaining: 36.2s\n",
            "\n",
            "bestTest = 48797.42906\n",
            "bestIteration = 101\n",
            "\n",
            "27:\tloss: 48797.4290554\tbest: 48713.0679279 (22)\ttotal: 5m 59s\tremaining: 25.7s\n",
            "\n",
            "bestTest = 48941.62876\n",
            "bestIteration = 599\n",
            "\n",
            "28:\tloss: 48941.6287557\tbest: 48713.0679279 (22)\ttotal: 6m 28s\tremaining: 13.4s\n",
            "\n",
            "bestTest = 49068.34816\n",
            "bestIteration = 124\n",
            "\n",
            "29:\tloss: 49068.3481634\tbest: 48713.0679279 (22)\ttotal: 7m 1s\tremaining: 0us\n",
            "Estimating final quality...\n",
            "Training on fold [0/3]\n",
            "\n",
            "bestTest = 46289.35905\n",
            "bestIteration = 558\n",
            "\n",
            "Training on fold [1/3]\n",
            "\n",
            "bestTest = 46149.33435\n",
            "bestIteration = 205\n",
            "\n",
            "Training on fold [2/3]\n",
            "\n",
            "bestTest = 49613.67988\n",
            "bestIteration = 215\n",
            "\n",
            "{'depth': 10, 'l2_leaf_reg': 3, 'learning_rate': 0.03}\n",
            "defaultdict(<class 'list'>, {'iterations': [0, 1, 2, 3, 4, 5, 6, 7, 8, 9, 10, 11, 12, 13, 14, 15, 16, 17, 18, 19, 20, 21, 22, 23, 24, 25, 26, 27, 28, 29, 30, 31, 32, 33, 34, 35, 36, 37, 38, 39, 40, 41, 42, 43, 44, 45, 46, 47, 48, 49, 50, 51, 52, 53, 54, 55, 56, 57, 58, 59, 60, 61, 62, 63, 64, 65, 66, 67, 68, 69, 70, 71, 72, 73, 74, 75, 76, 77, 78, 79, 80, 81, 82, 83, 84, 85, 86, 87, 88, 89, 90, 91, 92, 93, 94, 95, 96, 97, 98, 99, 100, 101, 102, 103, 104, 105, 106, 107, 108, 109, 110, 111, 112, 113, 114, 115, 116, 117, 118, 119, 120, 121, 122, 123, 124, 125, 126, 127, 128, 129, 130, 131, 132, 133, 134, 135, 136, 137, 138, 139, 140, 141, 142, 143, 144, 145, 146, 147, 148, 149, 150, 151, 152, 153, 154, 155, 156, 157, 158, 159, 160, 161, 162, 163, 164, 165, 166, 167, 168, 169, 170, 171, 172, 173, 174, 175, 176, 177, 178, 179, 180, 181, 182, 183, 184, 185, 186, 187, 188, 189, 190, 191, 192, 193, 194, 195, 196, 197, 198, 199, 200, 201, 202, 203, 204, 205, 206, 207, 208, 209, 210, 211, 212, 213, 214, 215, 216, 217, 218, 219, 220, 221, 222, 223, 224, 225, 226, 227, 228, 229, 230, 231, 232, 233, 234, 235, 236, 237, 238, 239, 240, 241, 242, 243, 244, 245, 246, 247, 248, 249, 250, 251, 252, 253, 254, 255, 256, 257, 258, 259, 260, 261, 262, 263, 264, 265, 266, 267, 268, 269, 270, 271, 272, 273, 274, 275, 276, 277, 278, 279, 280, 281, 282, 283, 284, 285, 286, 287, 288, 289, 290, 291, 292, 293, 294, 295, 296, 297, 298, 299, 300, 301, 302, 303, 304, 305, 306, 307, 308, 309, 310, 311, 312, 313, 314, 315, 316, 317, 318, 319, 320, 321, 322, 323, 324, 325, 326, 327, 328, 329, 330, 331, 332, 333, 334, 335, 336, 337, 338, 339, 340, 341, 342, 343, 344, 345, 346, 347, 348, 349, 350, 351, 352, 353, 354, 355, 356, 357, 358, 359, 360, 361, 362, 363, 364, 365, 366, 367, 368, 369, 370, 371, 372, 373, 374, 375, 376, 377, 378, 379, 380, 381, 382, 383, 384, 385, 386, 387, 388, 389, 390, 391, 392, 393, 394, 395, 396, 397, 398, 399, 400, 401, 402, 403, 404, 405, 406, 407, 408, 409, 410, 411, 412, 413, 414, 415, 416, 417, 418, 419, 420, 421, 422, 423, 424, 425, 426, 427, 428, 429, 430, 431, 432, 433, 434, 435, 436, 437, 438, 439, 440, 441, 442, 443, 444, 445, 446, 447, 448, 449, 450, 451, 452, 453, 454, 455, 456, 457, 458, 459, 460, 461, 462, 463, 464, 465, 466, 467, 468, 469, 470, 471, 472, 473, 474, 475, 476, 477, 478, 479, 480, 481, 482, 483, 484, 485, 486, 487, 488, 489, 490, 491, 492, 493, 494, 495, 496, 497, 498, 499, 500, 501, 502, 503, 504, 505, 506, 507, 508, 509, 510, 511, 512, 513, 514, 515, 516, 517, 518, 519, 520, 521, 522, 523, 524, 525, 526, 527, 528, 529, 530, 531, 532, 533, 534, 535, 536, 537, 538, 539, 540, 541, 542, 543, 544, 545, 546, 547, 548, 549, 550, 551, 552, 553, 554, 555, 556, 557, 558, 559, 560, 561, 562, 563, 564, 565, 566, 567, 568, 569, 570, 571, 572, 573, 574, 575, 576, 577, 578, 579, 580, 581, 582, 583, 584, 585, 586, 587, 588, 589, 590, 591, 592, 593, 594, 595, 596, 597, 598, 599, 600, 601, 602, 603, 604, 605, 606, 607, 608, 609, 610, 611, 612, 613, 614, 615, 616, 617, 618, 619, 620, 621, 622, 623, 624, 625, 626, 627, 628, 629, 630, 631, 632, 633, 634, 635, 636, 637, 638, 639, 640, 641, 642, 643, 644, 645, 646, 647, 648, 649, 650, 651, 652, 653, 654, 655, 656, 657, 658, 659, 660, 661, 662, 663, 664, 665, 666, 667, 668, 669, 670, 671, 672, 673, 674, 675, 676, 677, 678, 679, 680, 681, 682, 683, 684, 685, 686, 687, 688, 689, 690, 691, 692, 693, 694, 695, 696, 697, 698, 699, 700, 701, 702, 703, 704, 705, 706, 707, 708, 709, 710, 711, 712, 713, 714, 715, 716, 717, 718, 719, 720, 721, 722, 723, 724, 725, 726, 727, 728, 729, 730, 731, 732, 733, 734, 735, 736, 737, 738, 739, 740, 741, 742, 743, 744, 745, 746, 747, 748, 749, 750, 751, 752, 753, 754, 755, 756, 757, 758, 759, 760, 761, 762, 763, 764, 765, 766, 767, 768, 769, 770, 771, 772, 773, 774, 775, 776, 777, 778, 779, 780, 781, 782, 783, 784, 785, 786, 787, 788, 789, 790, 791, 792, 793, 794, 795, 796, 797, 798, 799, 800, 801, 802, 803, 804, 805, 806, 807, 808, 809, 810, 811, 812, 813, 814, 815, 816, 817, 818, 819, 820, 821, 822, 823, 824, 825, 826, 827, 828, 829, 830, 831, 832, 833, 834, 835, 836, 837, 838, 839, 840, 841, 842, 843, 844, 845, 846, 847, 848, 849, 850, 851, 852, 853, 854, 855, 856, 857, 858, 859, 860, 861, 862, 863, 864, 865, 866, 867, 868, 869, 870, 871, 872, 873, 874, 875, 876, 877, 878, 879, 880, 881, 882, 883, 884, 885, 886, 887, 888, 889, 890, 891, 892, 893, 894, 895, 896, 897, 898, 899, 900, 901, 902, 903, 904, 905, 906, 907, 908, 909, 910, 911, 912, 913, 914, 915, 916, 917, 918, 919, 920, 921, 922, 923, 924, 925, 926, 927, 928, 929, 930, 931, 932, 933, 934, 935, 936, 937, 938, 939, 940, 941, 942, 943, 944, 945, 946, 947, 948, 949, 950, 951, 952, 953, 954, 955, 956, 957, 958, 959, 960, 961, 962, 963, 964, 965, 966, 967, 968, 969, 970, 971, 972, 973, 974, 975, 976, 977, 978, 979, 980, 981, 982, 983, 984, 985, 986, 987, 988, 989, 990, 991, 992, 993, 994, 995, 996, 997, 998, 999], 'test-RMSE-mean': [147264.93476911212, 143601.3641142265, 139987.5635756402, 136535.77894296302, 133211.68569451876, 129977.45651549165, 126878.20941050611, 123895.9777875002, 120996.07896841718, 118182.19984826243, 115469.72621627337, 112844.60222197714, 110284.17069709451, 107876.90071519848, 105535.00160680148, 103257.38271020925, 101088.45307692401, 98966.0349213279, 96914.21966643461, 94869.01349060441, 92960.9893902446, 91063.4528260102, 89262.85368339677, 87524.3174946719, 85866.43712035335, 84293.75943293305, 82774.7722847431, 81323.84157289189, 79898.94566668745, 78518.16120584708, 77200.64620874358, 75970.24095216425, 74746.2002231664, 73574.59430170878, 72449.9748798046, 71384.54089149884, 70369.92771388464, 69416.99312911803, 68489.95675198759, 67609.5602913946, 66748.66580424325, 65949.1132972116, 65185.151926240185, 64471.13480022261, 63779.06941001193, 63103.37488740374, 62466.91560127166, 61857.1554680138, 61283.898775648566, 60739.12291907099, 60213.864604605966, 59720.564426947385, 59258.78296989468, 58813.43403298122, 58378.53629807087, 57993.88591817585, 57594.94615427201, 57238.12576384176, 56882.14384222668, 56567.42778362424, 56257.68519249261, 55954.720379739825, 55683.37965592274, 55417.48118454058, 55164.348343123944, 54955.50211535408, 54713.84981093581, 54462.51777745794, 54222.49153112748, 53988.46619826448, 53757.48958208694, 53533.01280256553, 53339.54728741504, 53116.82563762008, 52916.97419448528, 52709.34058783937, 52480.002171590524, 52297.38319706306, 52121.169829110324, 51925.87496229497, 51742.549725028155, 51564.859518542034, 51402.795308016124, 51232.37453408111, 51096.73067457205, 50940.0157359627, 50807.06167648364, 50683.16332516942, 50569.25716721676, 50445.118970321375, 50347.719096170535, 50245.27776292929, 50138.62625945738, 50042.651295324344, 49943.35866649198, 49873.082296628425, 49794.553692795685, 49721.50866991668, 49647.467650918166, 49585.87652455058, 49528.625491621766, 49447.13302167051, 49393.4994343207, 49344.44123839234, 49287.57302208371, 49226.404589004516, 49155.56620924004, 49096.53986827037, 49024.74331769892, 48953.64730227195, 48913.43960726089, 48871.484031859865, 48837.421512414825, 48786.324032462864, 48737.54990930281, 48692.070797220986, 48663.22376118371, 48617.28807119749, 48578.52354801103, 48539.48975239415, 48497.87307834373, 48467.05759027872, 48436.778518541665, 48404.26831189092, 48371.52977155218, 48337.73488992995, 48303.85310762049, 48280.178345681976, 48249.48099088692, 48227.1076689827, 48200.88648347902, 48168.753975021216, 48140.62862750393, 48120.539414609455, 48104.72047297458, 48087.08537854913, 48075.540743682766, 48055.85455221586, 48025.274257459096, 47997.91017064935, 47978.05459218257, 47955.76166175516, 47932.05288133019, 47916.10261840577, 47903.12231737773, 47891.73016090193, 47881.056027875275, 47868.090319321425, 47853.27068454946, 47838.54058131716, 47827.22425932434, 47800.40130262002, 47787.19204474644, 47774.539178270985, 47766.85550163661, 47756.62151494313, 47742.94904027111, 47735.7973951019, 47729.72760879236, 47724.42581454889, 47711.45275219512, 47702.246247489995, 47692.609476811835, 47687.894169852254, 47673.831044392224, 47665.29932291265, 47654.26133494551, 47650.93243291799, 47645.98127392037, 47637.386230482305, 47635.911743167184, 47630.323270220986, 47624.505925462894, 47616.60353414724, 47614.590010704844, 47617.01589906781, 47612.4473053058, 47604.367409523016, 47602.91180637124, 47592.072476166744, 47588.3303697086, 47588.08267721403, 47585.66282965149, 47579.50369936323, 47581.653015195916, 47576.9261508169, 47574.49394381512, 47574.17424090996, 47573.31531692322, 47571.13402458131, 47566.98729385694, 47567.27636615087, 47559.01449254939, 47552.93975845836, 47552.727389684645, 47547.39992746702, 47539.31964770055, 47537.591152122906, 47536.6904190432, 47530.17001145645, 47522.59243201065, 47522.65067544176, 47515.75112765913, 47509.34315144751, 47503.0449656265, 47505.2361729505, 47506.658635794076, 47499.213096950356, 47496.99520200212, 47492.970856234424, 47494.84052426296, 47495.66868990138, 47494.493761527316, 47494.246425596306, 47488.18005532859, 47487.14534961574, 47488.16706257614, 47490.9175770801, 47481.7259172744, 47480.68920875317, 47481.60192226737, 47479.92552481457, 47472.99180048867, 47474.38325362653, 47476.72085911958, 47475.21633307176, 47469.106621447485, 47465.72210585085, 47464.64255719329, 47463.91078857057, 47463.3201135745, 47460.016355319814, 47452.23769153174, 47450.87719806181, 47450.035612742766, 47445.061086667374, 47446.173309369995, 47446.817271403204, 47448.84389798916, 47449.309031997305, 47454.63948618137, 47456.802406664625, 47453.81635755968, 47456.64415890682, 47452.20341239745, 47451.876345552715, 47454.05427432412, 47451.11367124512, 47451.69017873398, 47452.5486109011, 47452.68882537392, 47455.58197562178, 47455.91977831055, 47452.843499063376, 47443.131683709995, 47443.4540717901, 47446.74954540439, 47446.71750291717, 47443.92652371652, 47442.886891412934, 47443.12312038549, 47442.48305493864, 47441.33440406062, 47437.67471707747, 47435.68679259107, 47433.09118481796, 47441.5837034021, 47441.95372301168, 47441.04279425086, 47442.19353165978, 47441.77930582311, 47445.59969348775, 47445.5624286007, 47442.24014947049, 47440.4734262964, 47441.62013132916, 47442.41493401243, 47442.57267092532, 47444.85385085566, 47446.34591665872, 47446.29474348382, 47442.954342870515, 47444.679418653155, 47443.20486646225, 47444.38872360016, 47438.75030969323, 47439.62534720201, 47440.79543704111, 47443.35576601754, 47441.95943877145, 47441.23956316527, 47438.180475200315, 47438.34166017037, 47440.10571230215, 47445.301671609974, 47442.15100799905, 47444.011951837456, 47445.96574682742, 47445.867505489536, 47444.71789656833, 47446.50439855051, 47445.87654730297, 47447.05835621586, 47446.8812264867, 47448.52978582715, 47446.0740473541, 47441.49429466875, 47439.5639318871, 47443.194016816655, 47447.30877832073, 47445.03190669267, 47443.30493779687, 47443.25741123394, 47443.22544920669, 47451.88092003158, 47453.40725394159, 47458.85755444085, 47457.46105161902, 47462.09305457972, 47470.88026697101, 47470.17017097255, 47468.07462617839, 47465.62096401843, 47476.41546575172, 47474.345211509324, 47476.27530124894, 47474.70382958691, 47476.42650503028, 47474.11359482087, 47470.762204061204, 47469.470162523685, 47469.42239309628, 47471.75278346831, 47473.53489339, 47475.49112841281, 47478.76127155373, 47477.966755616704, 47476.73649512726, 47475.22953586514, 47474.61502405314, 47475.86306061046, 47474.1714394278, 47475.00570153844, 47464.4363156027, 47468.19282689128, 47468.69593419528, 47467.7299175022, 47471.012787695254, 47472.16295946739, 47471.7325099902, 47469.36505674497, 47468.86952593567, 47468.10097081371, 47468.6378185263, 47468.47836310948, 47474.83431822995, 47474.641843371086, 47477.65729089063, 47481.38889349023, 47481.55063832917, 47481.10544848451, 47482.29395897294, 47484.84987374572, 47486.69860770848, 47487.6350361784, 47485.03082379317, 47488.37943252016, 47489.81992489605, 47494.30238841433, 47495.57832607334, 47497.00290459509, 47500.0536113217, 47503.468104408035, 47504.827681879084, 47505.83398211206, 47514.03086477532, 47515.22687637852, 47512.8964264569, 47516.08952326126, 47515.0702360112, 47512.278043969774, 47516.4236104319, 47515.572645694025, 47516.22146854961, 47520.55474546835, 47521.84153118361, 47526.031961996865, 47526.64330453576, 47530.677195523946, 47531.63110322483, 47533.91157134698, 47532.50214594946, 47523.68086082325, 47526.805765678924, 47531.09895214878, 47541.568446809055, 47543.54591897427, 47546.798885123484, 47549.871271948236, 47551.66004788759, 47552.9572235287, 47552.62025101996, 47551.35661380476, 47550.66088315856, 47549.38564899457, 47547.88012492936, 47547.65486132791, 47547.60564007747, 47550.004210420535, 47556.11228612047, 47551.30415121155, 47552.97382650662, 47553.35275753354, 47554.48913104201, 47555.0536371663, 47550.04183275974, 47551.3232786633, 47553.74586265767, 47555.00599910091, 47555.42971223881, 47559.921126016336, 47559.61619084709, 47557.68966995655, 47560.22992018899, 47562.016571384804, 47559.76194276472, 47565.73639699634, 47565.43176588859, 47561.28255667838, 47561.38333638819, 47559.49037938758, 47557.542689243426, 47559.878083979514, 47561.96047649494, 47562.010262060445, 47564.206498794774, 47563.057759488955, 47561.242623769765, 47564.435972605344, 47564.71181509797, 47575.52342734628, 47579.60144412841, 47580.00515890493, 47578.93723438191, 47575.43147497216, 47575.52794812189, 47574.121049153946, 47579.9704875882, 47577.30397638278, 47577.37926545478, 47574.891465824534, 47571.995559030176, 47572.05997835071, 47573.91639415166, 47575.95531412598, 47576.78123029246, 47580.55921699093, 47581.54414272064, 47581.05800792334, 47583.589457972506, 47583.40001575072, 47580.76816151801, 47578.90349342193, 47578.019259692715, 47577.59001802859, 47580.24352750496, 47578.900133717536, 47577.76745253571, 47579.17745802778, 47583.654254813, 47582.77055129794, 47581.13701230434, 47579.974138792844, 47582.36804641885, 47580.697449419415, 47580.26637922664, 47582.53384920224, 47583.28391175104, 47584.222891437006, 47584.411673790404, 47588.98267694237, 47588.02706544113, 47584.89130658071, 47584.80132564588, 47585.441279130006, 47587.707057757834, 47587.89322776386, 47588.45825479203, 47589.71485001379, 47592.60928332361, 47592.81076595332, 47596.74345690189, 47596.26259374686, 47597.856553438956, 47606.50659035038, 47605.35042655605, 47610.196755125966, 47610.530254497055, 47612.09508170511, 47609.8394500289, 47611.3308624509, 47609.70945852025, 47610.03428625438, 47614.446313439345, 47613.46223071246, 47616.54889218154, 47618.37538145501, 47618.73592199793, 47619.817454316675, 47619.471968877304, 47620.50149030101, 47627.48411939144, 47630.50875135662, 47628.486036459275, 47628.887950636825, 47630.02131071276, 47632.98493358636, 47634.227909442, 47635.985077899415, 47635.29163724403, 47638.008150476984, 47639.339561283625, 47642.02972758667, 47644.73864264877, 47640.924694441834, 47640.48659357225, 47641.083918115786, 47639.02652792703, 47636.74667711888, 47639.93998351922, 47642.01586802382, 47641.56745035751, 47640.00893149347, 47640.86069194992, 47643.98937868647, 47646.62891838059, 47644.57296799881, 47652.73522937528, 47655.87080219041, 47659.99681355321, 47655.76694783784, 47660.301848748895, 47661.30457970063, 47660.898186635364, 47662.44624584325, 47663.36581667201, 47664.999272586545, 47666.672583982036, 47666.71354347772, 47666.244596563956, 47666.258521448755, 47665.86665186418, 47665.156333143364, 47665.35194308151, 47664.25680594021, 47668.58777373508, 47667.829553637384, 47667.11103133051, 47668.74048599091, 47671.41842907498, 47672.87565754252, 47674.412107332166, 47681.52119841806, 47685.783607032354, 47686.62558309956, 47685.867683516575, 47688.617233460594, 47688.59861161845, 47687.179351117666, 47687.469773706805, 47692.18497227801, 47694.969824083884, 47701.26213318988, 47703.91412138161, 47702.46172902014, 47701.11016461379, 47703.85474332942, 47703.36065467735, 47703.77147975895, 47703.55114620208, 47705.31231837755, 47702.7628069819, 47703.700976197164, 47701.70812285159, 47701.29546368082, 47708.54880973065, 47716.179130099656, 47719.03561293294, 47719.03418389885, 47718.41385090919, 47720.590323167, 47721.89672449885, 47723.03223277648, 47722.06703222516, 47719.82632321204, 47722.29101769117, 47730.40511875785, 47733.31996978348, 47732.22028636099, 47731.23580981492, 47730.37164882652, 47729.943422673, 47729.06313037081, 47731.11832731095, 47731.906352237966, 47736.64520361455, 47736.95632808547, 47736.491584573116, 47738.29237381872, 47739.62462155003, 47740.83341193028, 47740.239231913736, 47735.84114440595, 47734.77790897759, 47734.97326393601, 47737.49125313981, 47735.44436125896, 47736.679700177956, 47738.997268576735, 47737.5308428129, 47739.964765859455, 47739.71874234071, 47739.928309863404, 47737.16978453627, 47734.155259434316, 47736.33100255715, 47737.302285731734, 47737.76568823191, 47735.83245577818, 47739.712693735615, 47736.77074253496, 47741.15828423985, 47746.33198847939, 47749.474924798466, 47752.30634338046, 47752.17560147281, 47752.15863829267, 47756.80758484918, 47757.86839160315, 47761.35656785948, 47761.7872129307, 47760.17781470285, 47769.15060838569, 47771.70880083196, 47772.9731094116, 47773.37064003305, 47774.541842219594, 47772.269972395676, 47770.27902784802, 47766.50950415572, 47764.71368936622, 47767.53256443818, 47767.867582106795, 47770.302060471826, 47772.044819410716, 47773.32307551805, 47772.36441896039, 47774.902125674394, 47775.16028197423, 47774.564161407274, 47776.91606148313, 47776.60880981561, 47776.57271391768, 47776.45896830143, 47784.113498897525, 47784.51531072727, 47785.07115529929, 47786.73887199451, 47786.46061208673, 47786.49782358332, 47790.426794658975, 47792.7523477382, 47791.49156728643, 47789.47759507255, 47792.96195118618, 47793.29272859614, 47796.04958486278, 47796.27008100069, 47796.37371542128, 47797.302018411465, 47795.740354826004, 47802.5145104794, 47803.59690977111, 47806.6904093941, 47808.448078270616, 47810.20777815621, 47812.22832603867, 47815.80933548595, 47818.55053615197, 47825.924668846324, 47828.784302230146, 47832.154996562625, 47833.750343576896, 47832.75392124231, 47832.93888836103, 47833.68874029908, 47833.13227897767, 47834.919474324306, 47835.50606553978, 47832.872600844195, 47834.13549096083, 47835.32167187054, 47835.479234202554, 47836.82036718839, 47838.94145677264, 47844.35448393161, 47845.65960010365, 47843.28815028592, 47842.29489669189, 47845.607059806694, 47843.894053220436, 47845.83847659105, 47846.89604288625, 47844.85951467225, 47846.77988770001, 47845.93198278628, 47846.76571191495, 47847.29981427005, 47847.77537982664, 47843.8084507593, 47843.03638479379, 47844.82786068596, 47847.4285745605, 47845.31238049886, 47847.63964573049, 47846.224294061074, 47847.98772148259, 47846.65043768085, 47848.02145081663, 47849.59024447106, 47847.57832699974, 47848.31595601817, 47845.07625058831, 47852.057714425755, 47850.40214539069, 47852.25442370845, 47852.493614967825, 47852.93363700486, 47854.7689705039, 47854.54154534169, 47849.39096861868, 47849.628974413325, 47851.93858160183, 47851.248325256274, 47851.28496706703, 47849.13247181641, 47851.67516086688, 47856.064079358504, 47856.710863054876, 47855.455562781375, 47856.24550154126, 47857.740034862654, 47856.76174183673, 47858.44889448003, 47859.17309375846, 47858.90750440279, 47858.701068660834, 47858.754119174904, 47861.852812078374, 47864.08546938517, 47863.96625184993, 47865.95144597916, 47869.851532445806, 47871.1928638695, 47873.92994288206, 47877.385054903214, 47876.185463019996, 47872.46598118428, 47874.73708204349, 47880.27200197303, 47879.621332948445, 47881.217584793485, 47881.96401907689, 47883.60602925058, 47883.65525107737, 47890.39751960853, 47891.119776084844, 47887.72358554369, 47890.276344402366, 47892.24181148916, 47891.51178529542, 47890.816261266744, 47890.047672687484, 47890.83454921084, 47894.314950618165, 47901.102324461855, 47901.79551284886, 47904.839992371126, 47901.40902708972, 47904.13567063582, 47901.323488906775, 47902.862104860345, 47905.06138891784, 47903.381473189045, 47903.10789488094, 47905.04486177817, 47906.91165502314, 47903.18076930718, 47903.80942573342, 47905.044233684544, 47906.83906569995, 47905.470344649824, 47906.69576907569, 47905.84061008453, 47907.95207040333, 47907.30479972358, 47907.84011786611, 47906.50564527811, 47909.765167121834, 47908.42661115605, 47907.537191737916, 47905.09996808916, 47907.24213824489, 47907.10043872302, 47909.81011876107, 47908.712222685885, 47911.947850319884, 47909.9978999424, 47910.29930562028, 47913.600681877906, 47915.30330550714, 47913.26830256232, 47913.93452696784, 47915.106960567784, 47915.153757883294, 47915.309584888135, 47915.71767926056, 47914.13617417105, 47915.663179191026, 47915.081062949095, 47916.404025903925, 47912.47638869112, 47912.81329479733, 47914.32648811332, 47915.23297065403, 47915.445717448274, 47915.47922675436, 47915.47339131055, 47918.21686351584, 47917.476160160026, 47917.775915211496, 47918.57484158295, 47918.2364894037, 47919.192455686825, 47923.9039352198, 47922.98833773746, 47922.441094909234, 47921.46794623221, 47921.44583894811, 47922.34628327499, 47924.564637961485, 47924.84922436936, 47926.78886880518, 47930.82778543533, 47932.66240694141, 47931.49097751363, 47934.41754417969, 47932.34464056708, 47930.34457099138, 47933.55052853239, 47933.521465924576, 47937.407077931006, 47938.46701766695, 47939.886544039415, 47943.92408234662, 47943.88473168857, 47943.56630683652, 47943.67291799858, 47943.085943979626, 47943.45772648237, 47943.77247728308, 47946.81889895931, 47946.36849271649, 47946.79937929439, 47945.33285898922, 47944.224112485615, 47943.183256445394, 47943.353089336335, 47947.166881361976, 47947.96783351877, 47949.136740310496, 47953.220053452496, 47946.1478415267, 47945.96116416252, 47948.091221484385, 47950.4040954968, 47950.77523883766, 47954.95712486209, 47955.95958954652, 47956.66614982216, 47958.562215571816, 47960.36040114497, 47959.539736312094, 47959.02810144756, 47962.13064113615, 47962.279305531214, 47967.135990089395, 47970.28360623071, 47968.50785546979, 47967.40134511758, 47969.270809499685, 47971.84204218513, 47970.91985759107, 47970.574423615144, 47970.03081749467, 47968.32843002356, 47965.808584575774, 47969.9526917808, 47970.36386049137, 47974.791435703395, 47980.817490322464, 47981.797179345485, 47985.516716303886, 47987.320322102554, 47987.29928864011, 47989.25304060274, 47990.10793526771, 47988.449228587335, 47989.9173167416, 47989.880079098024, 47991.60747177767, 47992.102932929476, 47992.18541406188, 47993.34352172076, 47994.875288154086, 47997.03104558106, 48000.13631821595, 48000.73288739895, 48001.324944335116, 48000.21826206195, 47999.62979956736, 48000.37744152758, 47997.897213724675, 48001.248239870074, 48000.64546775314, 48001.91405704563, 48004.09174766421, 48002.31332422427, 48002.60029646378, 48003.1496496874, 48003.630991817336, 48007.1313592977, 48006.48210497831, 48006.02651935383, 48005.85488123325, 48008.087223411385, 48005.72627520888, 48004.254391027054, 48003.2000294968, 48006.108988282176, 48005.73023367169, 48006.733754755674, 48007.37081579376, 48007.0255831732, 48005.78897806639, 48008.71969374103, 48013.28086800724, 48013.263687828796, 48014.06323041633, 48015.502879380605, 48018.15907160646, 48018.51834756246, 48019.765156044516, 48013.13757297662, 48012.81815249188, 48014.08747376511, 48014.2896823936, 48015.16292238836, 48015.81793098207, 48010.11602544261, 48010.90919166456, 48009.587477382534, 48010.64181085763, 48009.79843585868, 48008.02776782235, 48010.44689183315, 48014.2938740585, 48013.216918479884, 48013.266763196436, 48013.9179452317, 48014.30706048373, 48014.359672908344, 48013.405908346314, 48015.99101337369, 48016.06115914841, 48018.707124434215, 48020.576306647214, 48023.17566621301, 48022.34312209537, 48023.34474920309, 48022.76328295355, 48022.791427192606, 48025.767157902475, 48028.487290973346, 48029.72859864869, 48031.45583415439, 48032.09519954179, 48031.6378996379, 48031.55988911146, 48030.2903513484], 'test-RMSE-std': [1842.5782024155033, 1942.0942064238209, 1953.9994399550121, 2012.8269966656144, 2044.1452032182033, 1984.2235111576483, 1960.9541583657133, 1954.25566209991, 1913.4606486779742, 1944.678783097968, 1926.247394403021, 1931.4565803979558, 1909.5842735826193, 1961.8157414842858, 1912.2420586949925, 1916.105881525658, 1920.3293262984273, 1912.7128487915418, 1989.9346492702207, 1966.7440369802807, 1989.1578159189355, 1993.2285635921278, 1929.5887710627542, 1868.9643070869438, 1877.7659132480173, 1809.109091124387, 1778.6921054915665, 1689.7191357642214, 1654.4815505103466, 1674.9632861887467, 1727.679415329997, 1699.8275198305553, 1709.618966057792, 1726.1517747582805, 1743.9403396436414, 1766.8944167214077, 1786.3140241763642, 1792.0511054067501, 1801.824698314988, 1818.8067989787728, 1818.9975137841757, 1834.4678222180082, 1853.9333015699412, 1822.6488197849392, 1838.2317027846395, 1854.1009564493597, 1870.2491622920722, 1876.047174136317, 1895.2164468451908, 1921.6931135082593, 1917.5905077497086, 1923.3938317928416, 1919.3022474558375, 1930.5336530863274, 1930.7052162958676, 1905.9810643628703, 1906.0274375761294, 1911.522124304934, 1919.8095451926647, 1925.495924509321, 1938.5861874159955, 1937.526866240682, 1946.211256289196, 1953.0688403579377, 1958.9120517357019, 1953.9001439957503, 1958.6102542998967, 1926.0710115849135, 1882.4812554792654, 1840.6345906116828, 1782.6178762627715, 1745.3142127340918, 1744.7037808113375, 1713.8069567780296, 1692.8071995062558, 1735.1250648348382, 1734.365958330912, 1731.8591689789591, 1782.5749469752677, 1786.7526121745454, 1795.4576118694297, 1811.2460896530283, 1818.8477694025592, 1810.7632276030263, 1825.6647883392038, 1828.5829415409794, 1821.7162799355262, 1824.9266477020994, 1830.8411335389962, 1862.9638060331586, 1873.0332045372197, 1882.8039648599233, 1874.7295468772443, 1861.2949613133826, 1852.7354695761674, 1858.6219836009682, 1866.4589746506263, 1862.673720717854, 1860.1800761061706, 1838.0133949367487, 1827.5530068222586, 1813.6135923535912, 1811.820190886608, 1817.7327688863804, 1815.084023472707, 1822.86591172085, 1811.2167435739896, 1790.328068408764, 1789.21576200164, 1796.6302740510896, 1777.515012891814, 1762.6393639931523, 1760.1962207110698, 1754.5870175143662, 1753.3671026844315, 1755.9095489293777, 1761.109461210772, 1753.3081026274954, 1756.5476722353678, 1761.0914243406594, 1769.5017845309924, 1778.3219015644895, 1780.465304280498, 1774.9019548552733, 1782.9959962833443, 1782.416635705355, 1778.9428141097983, 1790.0959431380227, 1800.8560913694237, 1799.2985410923088, 1807.7171918768338, 1813.479082177975, 1807.4378271854812, 1808.2048085117892, 1808.9350593951524, 1807.4548786215412, 1808.9157468437754, 1811.6432988627519, 1816.6816106902875, 1819.7673005032177, 1825.85780868823, 1812.13794208986, 1813.8328846654185, 1813.176872784134, 1809.9744891349721, 1810.9851451765733, 1804.7862632527695, 1799.0978319064106, 1804.7253868637565, 1803.650913135162, 1800.162178827719, 1803.4287015122834, 1803.9922000444462, 1805.4439735701428, 1810.0919033321911, 1809.0718946333045, 1810.771881390662, 1819.2103583814019, 1820.5127774256684, 1818.7554043933205, 1819.6807894171168, 1825.5308412169354, 1819.4608159041911, 1817.5502014639535, 1817.2084808704615, 1820.7616991319244, 1820.3111319853333, 1820.572244571901, 1819.850086081577, 1817.3539722776277, 1815.351605187148, 1823.5766972808053, 1826.4628679365153, 1831.407104201002, 1833.5393973096573, 1835.8424151690065, 1837.2263002898242, 1843.7652113611484, 1840.8848968214872, 1841.2158687256697, 1843.2883552818073, 1846.5834723951007, 1839.4332988694448, 1838.7189921743807, 1837.524266511917, 1832.7428216325977, 1835.324246755322, 1834.7414822365347, 1834.5424811794346, 1835.4921336371033, 1836.6518551299807, 1834.7979303380657, 1837.5778218887503, 1844.072983987698, 1847.2728911881557, 1850.5706372544994, 1852.8722993232955, 1856.464225881338, 1859.632055817946, 1856.5447329202327, 1860.4222920450477, 1860.723372364809, 1867.3359339026833, 1866.5350488605714, 1863.9811304393784, 1866.0099306447607, 1864.8842008572606, 1865.3694473543526, 1865.4421200251682, 1867.4170032226104, 1862.318255517251, 1859.1824590197741, 1860.2913273393183, 1859.3425120982463, 1858.5192474412402, 1857.8040323665284, 1858.4284507064917, 1857.7587613272347, 1871.4445566099937, 1880.113914563828, 1883.2588848390972, 1888.1072275141105, 1892.6642167122818, 1892.210011280349, 1893.595526491027, 1897.7224597623447, 1900.5422045011658, 1901.1432809053956, 1901.9596413927334, 1900.7923784496156, 1904.293908266043, 1906.7037084521335, 1902.8585689286185, 1902.9644999199961, 1902.859269598019, 1913.3981289131634, 1912.359734915497, 1908.6622075654466, 1910.941273357504, 1904.6669305797277, 1906.2775167046718, 1907.6354980464835, 1908.9039882040363, 1911.090275449328, 1906.6294475310913, 1906.6249922633467, 1907.4393628224357, 1911.8001346202493, 1913.6424780668322, 1914.199998523373, 1920.0087795732265, 1918.2385596877548, 1927.865942135745, 1933.9343152657411, 1934.8383844033078, 1938.616541122126, 1940.9594979194994, 1948.154975132713, 1944.8737159911154, 1945.197116808374, 1945.3382671001716, 1946.4214840310644, 1948.5724364338641, 1941.5864801958528, 1941.1545284709687, 1942.8665643056768, 1936.639553343207, 1937.5138592591588, 1937.313963735737, 1937.6166508071528, 1936.4142007573114, 1937.5815219483784, 1939.613840749338, 1936.3780604797116, 1933.9069813503588, 1935.1652848912265, 1933.5706464088687, 1933.2702904092482, 1933.041262465375, 1928.1784440845884, 1923.4151664807414, 1919.9994361673469, 1920.2701679963197, 1917.6973717309484, 1916.807409282544, 1915.6760849277139, 1915.4190874014691, 1914.1308198720362, 1914.9983280282365, 1916.9306169021095, 1920.050988527789, 1926.304886489452, 1920.5995916099073, 1917.8621617522704, 1919.224749698979, 1926.484433107798, 1924.230092800137, 1927.2890453295431, 1928.087663596728, 1929.86355625638, 1925.0599884517183, 1917.9213616901795, 1919.3241770614582, 1916.8959390195055, 1915.681518634214, 1913.933945240972, 1918.959818906307, 1918.987619895786, 1910.2421420303613, 1916.980952373415, 1917.9899670335622, 1920.0247522291697, 1922.8770906400161, 1925.809315828525, 1925.3953836856615, 1927.8399283992912, 1924.0513755485397, 1925.097159116335, 1922.1177391167578, 1917.2077205891553, 1916.8741850602232, 1916.5465495941771, 1916.638526216915, 1915.8347655345879, 1916.5302043730637, 1914.9209305881673, 1915.5269902675375, 1915.6566523558192, 1910.9882203413408, 1907.2342801006425, 1909.8150613528817, 1916.547503353326, 1917.4240873955675, 1919.5679023495532, 1918.6983469433942, 1915.283513433441, 1914.6779342332957, 1921.3843442130362, 1920.5742078300852, 1913.1469665951, 1909.5702117225428, 1911.7499560587767, 1910.7561581866062, 1914.23602490606, 1911.1324375411484, 1912.9924343603197, 1913.4058000033683, 1908.384681054056, 1907.8494234399977, 1901.0398696353598, 1905.6567156131343, 1904.658532468334, 1903.6848240611635, 1902.5219625488714, 1899.5448087091513, 1899.6655170276638, 1896.0696921475276, 1896.0173994400757, 1902.1172813072037, 1896.1595970348158, 1897.7996043811793, 1893.3926856013754, 1897.5557156760135, 1896.882454773923, 1897.9091103059648, 1896.264335376435, 1900.2335565782662, 1898.2554103897492, 1900.752893790024, 1903.9358069968912, 1897.8651764396054, 1898.1981346569194, 1899.350415994851, 1900.520623395396, 1898.4980757053306, 1892.3025083424814, 1889.467856681797, 1888.7999548335868, 1887.6588101161433, 1892.3254578241101, 1894.2595812909449, 1890.104809753099, 1885.9798385908705, 1886.7524198305534, 1887.2438274290882, 1888.7613438056703, 1886.3561940878662, 1886.720326890647, 1882.6359474460323, 1880.7544832542278, 1882.2476184061923, 1878.7074436696903, 1886.6078693316297, 1889.963086082078, 1894.7995193404447, 1890.6478885371089, 1892.164410740204, 1896.9922255465785, 1892.0798368220467, 1891.7390120203684, 1890.564535351525, 1890.9916235096382, 1887.5995853185204, 1887.7788046670655, 1885.6757174729828, 1883.8337973136252, 1883.884643129921, 1878.2727026881737, 1877.9236199498066, 1874.899215944921, 1873.7389149850467, 1873.32931778312, 1874.2970376043513, 1870.6121307817978, 1869.564986329606, 1868.4404130225034, 1871.566317602921, 1867.0087734954122, 1866.3475373196588, 1865.7411545215405, 1862.0768983020519, 1861.938996393165, 1864.824003241498, 1864.565660018826, 1857.5142314555967, 1849.4170949030542, 1846.9690949824924, 1848.5532534649822, 1845.850195232156, 1846.584663121492, 1848.5194373751074, 1850.2754569300944, 1849.4261702835, 1850.0192277805645, 1849.4618618315549, 1847.6839158010876, 1842.6697740485101, 1846.4190964470297, 1843.4763009256942, 1845.2448023797422, 1838.9590678752722, 1837.3622006882817, 1837.2051605536346, 1838.8288254820725, 1833.639224231071, 1835.1217029614343, 1834.573684332143, 1833.656058446107, 1830.635127334832, 1832.0793706380136, 1830.9937999881604, 1834.0179550787145, 1836.663201193836, 1830.3767555947688, 1833.7157230626754, 1835.6764183618031, 1830.3285832756812, 1826.8964468067138, 1821.4522415409135, 1820.0380643418425, 1821.2033511682368, 1822.185087553394, 1824.940497197229, 1829.885802322294, 1829.8567068517957, 1828.8448150665852, 1833.3095950424902, 1833.6301048767475, 1833.304351759568, 1829.267449893262, 1831.6289212954825, 1828.7815570052476, 1830.8245847129876, 1831.5009000854816, 1829.3326737364648, 1830.9992046754503, 1826.5606697238773, 1826.515813222641, 1828.896757727004, 1828.20642142533, 1829.1844958580841, 1826.2571178944133, 1827.404117340602, 1825.2302985559515, 1825.6165226035846, 1824.4080550631518, 1825.0749381124476, 1823.3364418094845, 1822.9732657977158, 1827.7616730281318, 1828.0171254713994, 1825.6186215312396, 1826.4602308747878, 1829.7963138395603, 1822.0624126972361, 1820.1566540808346, 1818.3208124822656, 1824.6284174868279, 1822.0710441903907, 1823.2778424744815, 1826.3266750796809, 1826.1905889622765, 1825.3521592974603, 1830.7688054201342, 1830.665177695129, 1830.565318471583, 1829.3959163456054, 1828.0015601260138, 1825.16359292811, 1828.3949268525962, 1831.1590132141005, 1829.5722280215316, 1827.8151136228141, 1829.4471719311625, 1829.4960476879755, 1830.4091799762655, 1832.622606635346, 1832.4091593058954, 1831.494965535335, 1832.239515406807, 1837.2351400131738, 1839.562185036021, 1839.1529001358897, 1839.6536704322207, 1840.2266119477372, 1843.4474591238452, 1842.3379478942009, 1843.4502082200443, 1844.3789373604063, 1845.2252338834546, 1848.1213209357163, 1848.3702141593815, 1850.0649186170758, 1851.8960096185335, 1852.016961218094, 1850.0330938282968, 1852.6366001195158, 1862.3334267552268, 1862.2094784547135, 1859.5233322474617, 1861.743189675112, 1866.9238830117708, 1863.515767909768, 1869.2910234519186, 1869.9667237297492, 1868.7930465179268, 1869.2056769903857, 1863.9775592212427, 1868.7334527680505, 1873.3720164596236, 1872.4424097095462, 1873.293967192271, 1874.1999653855414, 1873.6372609396058, 1874.7776905650617, 1875.8265918637805, 1878.2280339366157, 1876.8593814783715, 1877.9264024712536, 1877.9357864790577, 1874.6651198090785, 1871.6774017073624, 1867.3695767958318, 1864.405050005759, 1864.4698269281014, 1865.9100499156737, 1868.3516071624176, 1870.2570958647132, 1870.8975796920479, 1868.3928199042812, 1862.0701089052347, 1859.7176332180584, 1852.8780069751099, 1855.211307869408, 1854.6644854028482, 1854.3374750887422, 1855.2787533370908, 1857.0957813711177, 1856.4033126004101, 1855.3285783557703, 1853.4917173731524, 1855.3067991341206, 1854.0852662696657, 1853.6649414722901, 1853.6848026175396, 1842.7338929423745, 1840.9754940741307, 1837.7612836624032, 1842.6317644246683, 1835.928199207231, 1835.0744139947662, 1834.9417733571906, 1834.736632922736, 1834.913578570916, 1833.7106806784957, 1839.1346027717454, 1833.475180139598, 1832.6708003715903, 1832.2592959970204, 1833.7189650536568, 1832.7420842860904, 1830.764471545693, 1831.4265211971729, 1830.4357287505836, 1828.512559391389, 1832.7649469162998, 1832.3907351614196, 1831.8474082979603, 1830.474966400021, 1829.6096639220664, 1830.9686875590824, 1831.3279329453835, 1830.9100719841617, 1837.3455696668811, 1839.5779227384842, 1842.3905471102235, 1839.8242723471321, 1837.1845375264668, 1834.9108801251402, 1834.8725805753572, 1833.126871806597, 1835.0477751737674, 1833.5795728161527, 1832.79704511176, 1831.3491995537536, 1827.0281293871722, 1825.4985328975552, 1825.3785802823768, 1819.9825469361685, 1816.3899451292464, 1817.6910007985473, 1813.1888432469555, 1807.1231199985257, 1803.9945098823696, 1798.6124540553096, 1798.0442974701982, 1797.0338453455033, 1794.6932729019225, 1799.6772565562458, 1797.6488713302006, 1797.5934685314453, 1798.3286084563422, 1790.5883530426936, 1788.2530864866756, 1787.7087902858502, 1791.0984543132624, 1788.5359462645697, 1784.1385556558128, 1783.965593539455, 1778.5262897819914, 1778.1328697165359, 1781.2769906183958, 1780.60912904515, 1778.237401644543, 1776.6901722297093, 1776.120749021225, 1775.8613012069964, 1775.8966661716852, 1774.2100146563337, 1773.5100665355646, 1771.2862183126008, 1771.5196247508056, 1772.1457640675528, 1772.4078494308046, 1767.3823585176135, 1766.6424928196504, 1766.1331553782497, 1764.5429987465413, 1761.9139631401533, 1761.3654511037694, 1764.8155967464024, 1761.6096903068617, 1761.342928960415, 1763.0331052444474, 1757.8551212102375, 1757.9773136435374, 1760.8634660906532, 1751.1975639067136, 1749.061424805567, 1750.7256274999263, 1751.5564008113588, 1741.5693805304807, 1739.719756442523, 1737.7320481414524, 1737.2024812914524, 1743.0604630274202, 1741.6382458151313, 1738.7547903022441, 1733.9726504181606, 1732.7514965740986, 1728.4167870224837, 1722.7098626617055, 1723.2982533093434, 1724.233069569896, 1723.8312081530446, 1720.193439011955, 1718.652568664136, 1720.276659183202, 1715.3808443714647, 1716.1290386049495, 1715.1866199286007, 1717.364089685308, 1717.938652938439, 1719.2061549839873, 1718.0927240441813, 1716.3759964296626, 1711.5504890197847, 1711.3301893184307, 1715.201423901756, 1717.8057377283742, 1713.9899292876805, 1713.0856168123344, 1712.2680583226575, 1712.4315494041737, 1711.1910203024916, 1710.3056692802322, 1710.99720744819, 1711.5961990742562, 1711.4351670319863, 1713.1056271327852, 1716.3110899043697, 1716.665636453409, 1717.4599364453773, 1720.6307611878224, 1718.4007166394297, 1719.440485878419, 1714.4458208336505, 1714.9901765591544, 1712.075623409024, 1710.3587480849305, 1710.6466643251088, 1708.9774001281473, 1713.5656058008633, 1719.3001877603012, 1719.088281601342, 1720.9936077959287, 1719.946787928056, 1719.4561796036103, 1719.0513751161616, 1722.6174962999346, 1725.9749249089944, 1725.6700983077, 1723.5415564612426, 1722.6103575536326, 1722.229035217027, 1722.3847954680102, 1719.1199877395668, 1717.943058120803, 1717.5767928162347, 1715.2316535870248, 1714.4282233116198, 1716.378538817212, 1716.8989893850446, 1717.2818864327419, 1716.7239748980091, 1717.1685887349247, 1718.262093904669, 1717.6983595673566, 1715.038202879368, 1715.5342460249376, 1716.4922876355397, 1715.2419229250565, 1714.487328557487, 1713.9837453302223, 1714.8028351651358, 1717.2150475920141, 1715.9351985277253, 1715.7765986496624, 1718.4094940102525, 1710.809255948091, 1710.416320743245, 1709.8388139536048, 1708.3637767223975, 1706.1541242355029, 1706.9962127026781, 1706.449837301388, 1705.2750602947929, 1705.8439322805432, 1703.428199719988, 1706.8732003907794, 1706.9371149170634, 1708.1080406732924, 1708.7962324265516, 1708.210142569628, 1703.5956850525545, 1698.0572264090529, 1701.073691265935, 1704.3113975946387, 1707.8961902982358, 1708.4765984071964, 1705.7679069085796, 1705.5972120299882, 1704.8667223704656, 1704.976786084867, 1703.3514650499665, 1704.070900024219, 1703.204285537312, 1705.1091164031573, 1705.189194519928, 1706.3996920419802, 1705.9452299005327, 1707.2102122568895, 1707.0190972333626, 1707.1821793967233, 1708.7374004205599, 1708.2865324018978, 1708.345195850722, 1710.7488521712983, 1708.178247674947, 1708.306633794186, 1707.821901561274, 1702.7042468478974, 1701.6463117508576, 1702.1307702087547, 1701.1589444602469, 1701.5828297305816, 1698.0976629148413, 1697.444756141371, 1698.5871125343033, 1697.544950619672, 1698.031855982176, 1696.497978357942, 1698.348636090822, 1697.7344473531828, 1698.4614125666342, 1695.9757864664605, 1694.9129171445118, 1695.7700803417533, 1694.7368780887984, 1696.2207756018101, 1695.2007191568403, 1695.5165634726643, 1696.4362695283824, 1694.1564575402672, 1694.7858476620522, 1695.343677543451, 1694.2031605394982, 1691.96568060129, 1691.322214004309, 1689.8287154647062, 1686.8353187262492, 1683.749635040869, 1688.2980802339684, 1687.6835696634203, 1687.4730469866226, 1689.3839286940743, 1689.6109193075172, 1691.865998173733, 1692.5210998245577, 1692.357585811996, 1691.0132799583364, 1688.2296134608655, 1688.5515587909345, 1692.8519285295656, 1695.7234734339247, 1693.9510382146932, 1692.952388914219, 1691.576519747972, 1695.5724422777669, 1692.5075913623182, 1692.5257331703006, 1691.5910171710132, 1690.3461615649044, 1689.784426721901, 1684.471357717698, 1683.8934049382653, 1684.2639878076693, 1684.646033955105, 1685.0826280408598, 1684.8646034337917, 1684.9690410071719, 1685.9837148868028, 1685.0174454480746, 1684.4313647641595, 1686.58688390897, 1689.5506346304867, 1689.8359745439998, 1689.7025128382527, 1684.9143205442415, 1683.3746438836258, 1685.9898249102573, 1687.368906481472, 1691.5404463583684, 1691.7921221792546, 1690.0703129384135, 1692.9662466168172, 1692.2063214837701, 1689.8085825888068, 1691.3946709138738, 1690.2466587054323, 1689.2939242430944, 1692.9135505456545, 1692.053290865156, 1692.2206719199999, 1689.3060508936305, 1688.8582646073787, 1687.3583702139956, 1684.8577904349836, 1687.544033989541, 1686.3810285064117, 1683.4308813704035, 1684.1139900706228, 1685.7875132451459, 1681.6706451940654, 1682.2040615656156, 1682.2942811029973, 1678.8999056312202, 1674.453329912518, 1673.2717650204233, 1669.6068101128967, 1668.2932832573472, 1668.7312031012818, 1667.0579718053834, 1671.4901723341454, 1668.7765114908034, 1666.9175570606285, 1665.8822066752123, 1661.7974856385085, 1661.0023124873578, 1661.9443999638409, 1661.4274559102053, 1660.7963968054505, 1660.9038683097638, 1654.8618605471775, 1652.7265702917502, 1650.0437736499348, 1650.1641971463805, 1648.591306150666, 1648.5358802316048, 1649.5552102253125, 1649.9908053891888, 1648.8107262809904, 1657.0809573829306, 1655.3648822061753, 1657.0118938722483, 1656.959748611186, 1654.9928583342455, 1655.1797513456659, 1653.3326811238267, 1651.9955938270266, 1652.7918143517188, 1657.826703883845, 1656.6028298894778, 1656.0223875100053, 1657.9688473716883, 1659.3803655052973, 1659.832266665964, 1660.0402409072074, 1659.5402755321468, 1661.568695857823, 1661.3251241401988, 1660.2076691960142, 1658.706074160589, 1659.4061860068216, 1662.1744731995682, 1657.9643348356108, 1656.4042288118826, 1656.3244439638029, 1655.850118298647, 1651.424623680502, 1649.8919856647235, 1647.341426093859, 1646.0934639551026, 1644.723754903344, 1645.3258693213033, 1645.740477974937, 1645.5921784494806, 1643.0438264851257, 1643.6634799214485, 1640.71829593835, 1636.1471017393237, 1636.6786223462914, 1635.4947708140355, 1634.6419319295808, 1633.6186852105623, 1638.0542520557633, 1632.6551766526936, 1631.4624608557767, 1629.8193144153654, 1629.5304055711827, 1630.266641927311, 1629.5179741194231, 1629.9292067316146, 1632.2353387197916, 1633.2257451739745, 1631.0524946484268, 1625.5753653322024, 1627.8190146981055, 1627.9331537802616, 1626.4055867453442, 1625.0519179471796, 1625.779104859656, 1624.8531753733787, 1623.6018214164567, 1622.2321449730348, 1621.986262761576, 1621.4348775956018, 1623.1263312829733, 1623.7647855611185, 1620.3696546510628], 'train-RMSE-mean': [147265.58236501066, 143611.6844615005, 140007.04926960103, 136554.48863126745, 133220.3819941538, 129993.5006908386, 126890.57194924109, 123892.36025103717, 120987.38556853491, 118173.75786055333, 115474.42649588238, 112850.25117996377, 110272.01068657277, 107865.730343241, 105513.94157279235, 103208.8247266196, 101039.99277960887, 98897.87396914432, 96831.32177042018, 94794.8496989761, 92878.73412580979, 90971.61338687646, 89168.3070426139, 87429.56963758334, 85739.20516218424, 84160.3997920841, 82646.45424853143, 81185.85342891543, 79737.65369355922, 78341.14835762647, 76997.76106073987, 75747.47770940937, 74521.93365168454, 73336.52097600132, 72205.07191282573, 71126.43253687774, 70103.16035891604, 69144.15799127107, 68210.61104965338, 67298.013038669, 66425.97449472646, 65610.59347283217, 64831.52405067557, 64112.4445182404, 63415.86256437816, 62727.079539519305, 62080.71632959635, 61456.398418918216, 60864.60246379601, 60323.006202034805, 59785.64973212237, 59282.61056942638, 58798.534317255304, 58320.800722092514, 57872.038519802234, 57469.04455341446, 57062.97470026138, 56676.49711351082, 56302.99786167099, 55981.30605032141, 55660.836652535254, 55350.59119320133, 55056.84237622641, 54768.23051488137, 54505.879665637156, 54294.9737482472, 54044.594541078935, 53773.99429394305, 53512.53692809472, 53268.367300868296, 52995.001195968136, 52753.33521880518, 52549.6848600911, 52318.9151047777, 52103.27104233223, 51869.403590214315, 51593.271367271256, 51396.86689986794, 51210.25522459574, 50958.478387601994, 50750.239903375994, 50537.99119952678, 50334.55009726237, 50119.19261624621, 49957.16857454303, 49772.87239239944, 49594.86644088867, 49435.793013947005, 49302.57666905594, 49168.41930129079, 49054.32556033439, 48930.78022197728, 48775.82915964255, 48639.41606375843, 48498.130532959876, 48406.44837298477, 48296.86250051496, 48215.177012011816, 48069.594484693145, 47988.68452167432, 47897.182180230884, 47785.481874373596, 47715.91305516076, 47637.61373863934, 47564.19004225106, 47454.325016762865, 47363.81776673853, 47272.4992694443, 47154.48462345876, 47045.134863585445, 46971.50847672714, 46898.312572664545, 46844.43619093636, 46770.84611809038, 46686.20959157752, 46623.80439598405, 46553.12578956408, 46477.69064085953, 46395.29087168161, 46303.81900961778, 46197.62648783747, 46121.87995863155, 46040.37753896806, 45951.51325803046, 45890.17810184066, 45810.672851450254, 45756.560739310946, 45682.84697013953, 45599.47844280035, 45529.763942448655, 45477.83339200081, 45392.74312495988, 45340.1765457516, 45277.795059859425, 45230.201271234524, 45176.254433841365, 45107.211274748384, 45047.466544842, 44977.72111464822, 44916.99788864687, 44861.2782049319, 44807.11757609204, 44758.4353415831, 44699.947561411274, 44668.72652085855, 44615.469828583184, 44565.62726715673, 44518.796385453636, 44480.315030681835, 44442.53816119994, 44379.65207583752, 44325.186526544036, 44284.954835362325, 44235.82105296547, 44209.690690897514, 44164.799477466346, 44106.98407612902, 44061.7659623532, 44034.56455187061, 44005.00703079525, 43956.79176079765, 43921.20066502376, 43883.19543661316, 43850.95865040506, 43802.56952052532, 43769.407320147446, 43723.92908599508, 43707.394054605706, 43663.902226578524, 43635.2861413726, 43605.39597052748, 43575.6144873829, 43558.894918735365, 43525.59868001844, 43487.778973640874, 43451.06297350562, 43414.3315909573, 43386.88209503089, 43347.77717936351, 43314.88287883176, 43283.895057029724, 43256.957549138024, 43213.86923692489, 43201.10986705593, 43175.32672772867, 43154.344396043925, 43129.133559608475, 43122.402602760674, 43092.417584411676, 43079.86661730775, 43056.79601234632, 43034.45088639911, 43004.517306222326, 42981.20436870732, 42964.967553467395, 42941.39200632154, 42910.97357309024, 42894.679772468924, 42873.48587658823, 42853.48203723051, 42815.19461843941, 42777.9786765484, 42758.574993637616, 42722.328825380406, 42703.648992329625, 42679.39068308226, 42653.48889826636, 42630.561158692515, 42613.210399929674, 42599.095097055426, 42568.81974587659, 42534.36634092757, 42527.209281675874, 42513.350805071415, 42493.10560594437, 42470.18953236472, 42442.59716119119, 42420.52048345457, 42396.20472789108, 42364.83267170764, 42334.00447119813, 42325.70732114641, 42296.71261480025, 42275.04560411815, 42251.28893230747, 42233.14224715051, 42200.65742347675, 42183.627871498975, 42169.85540267438, 42132.12226050128, 42105.603990679265, 42078.68404913546, 42049.84467490673, 42032.80964745822, 42023.152100451516, 41984.70959608953, 41971.90646218579, 41950.08743115637, 41942.28769841575, 41918.80707469452, 41885.167005964155, 41875.68232937883, 41869.302764985645, 41853.34109463411, 41842.47952073536, 41830.43342326469, 41807.89878961353, 41777.99238507, 41758.06291763484, 41749.05076445741, 41729.48336498184, 41707.49434819881, 41687.46716624026, 41676.112685509055, 41653.211276832815, 41631.30671693522, 41600.58107726447, 41567.61727638159, 41536.942942156405, 41520.20461744152, 41500.080260331706, 41476.9949143442, 41452.04406766606, 41428.25143452096, 41399.25471323119, 41364.89690397453, 41321.39689797166, 41309.05034139103, 41299.24312897438, 41283.0018497582, 41267.191422542615, 41238.78211564291, 41224.457954832265, 41185.42615081617, 41168.73345648544, 41140.542671435214, 41127.879818986316, 41105.14401098656, 41076.164729872115, 41057.210627894434, 41022.40868074096, 40997.63137284038, 40983.69213483908, 40960.43080165076, 40930.25193227165, 40901.90791363807, 40892.600331059664, 40880.11554281925, 40846.0508677615, 40834.904627461845, 40807.787398031964, 40763.341745064565, 40740.41565491433, 40711.170659518415, 40685.72420310621, 40645.70833248965, 40630.46383072669, 40614.12045571579, 40584.565275382236, 40558.06825391501, 40529.92447568025, 40510.05704172848, 40493.73974932783, 40474.30996849627, 40464.09894000916, 40441.81916873872, 40414.45488656953, 40393.55108116222, 40369.60288590773, 40345.491356277234, 40325.799158223366, 40294.80588077695, 40275.901498910614, 40265.642061058206, 40237.094556821125, 40206.543743222785, 40180.496309046044, 40176.61517739495, 40136.45037240553, 40113.347765283404, 40075.11204063505, 40050.434919958454, 40035.49229021521, 40014.28114956666, 39987.46932883529, 39968.62947745488, 39945.09613531039, 39938.82200712112, 39924.56500576712, 39900.99966015554, 39886.6912229821, 39854.29251510706, 39836.01785407364, 39828.80361954978, 39808.179993203936, 39789.510405744244, 39769.4796734304, 39747.77718410986, 39733.207029847086, 39707.65450986744, 39687.41801622587, 39666.90978263362, 39652.76262961035, 39632.19290664183, 39598.453375751575, 39589.04720447582, 39570.86893533545, 39551.292128048786, 39525.1388620595, 39502.59810220089, 39483.099415372344, 39469.02757710883, 39455.0204830425, 39444.01197069179, 39416.02528926689, 39390.623355161915, 39371.45869812681, 39355.17465574992, 39327.589923486936, 39308.00164668076, 39290.110081067665, 39281.23189002083, 39270.644671035676, 39257.76426958152, 39250.86640727832, 39236.81747621481, 39218.484169793424, 39200.57127351645, 39187.1941319563, 39166.060264606225, 39154.117089882624, 39137.06092733837, 39116.103911846956, 39095.38082212471, 39083.18965881256, 39066.55590230828, 39044.589402395715, 39018.50122725507, 39010.03600239709, 38984.127705928775, 38971.043277722725, 38954.02398887626, 38947.35159455098, 38929.7137160737, 38918.057679264006, 38901.07979476579, 38887.593150097004, 38879.34042423291, 38850.45479417637, 38837.50044872746, 38826.55296530818, 38802.081660647666, 38788.38279188841, 38773.62825478028, 38755.55796918679, 38722.32883003383, 38707.3570666236, 38691.33747336568, 38676.34325211078, 38650.29002020899, 38638.60883963626, 38635.15300751108, 38611.976056917825, 38594.28748232227, 38576.99930405741, 38554.78207207881, 38543.27762395536, 38529.34767994948, 38520.291884307306, 38500.99510448377, 38465.50660224745, 38447.50776265276, 38440.38676987198, 38415.720677862344, 38404.77058194444, 38393.83905208302, 38383.04235370263, 38363.020210286886, 38346.653263101565, 38334.009224915964, 38311.016834153575, 38293.73783688916, 38284.32620472654, 38273.24904306708, 38260.997917260436, 38238.66921807113, 38212.258051238685, 38198.74695589142, 38185.48941802235, 38177.22099696548, 38160.69907845565, 38144.61936241543, 38126.3925235408, 38114.532770048485, 38101.72063200875, 38081.90624550031, 38066.37025191049, 38055.13732172838, 38044.19737500036, 38031.724735143536, 37994.94379717398, 37982.55434824593, 37967.99454727593, 37948.220105512104, 37940.653284287655, 37924.68736357217, 37902.12072021569, 37883.222361900895, 37862.91803780927, 37851.097433198745, 37837.94304826177, 37832.76983737305, 37811.912883517005, 37794.19119811648, 37787.06085459778, 37779.46817583123, 37767.83575173657, 37745.97809433253, 37717.575978631205, 37703.99716043552, 37686.277872365135, 37676.14025661374, 37659.86568905922, 37643.58355268255, 37629.34213727013, 37616.56443895659, 37598.63535728513, 37584.73714133326, 37576.898760549724, 37566.17781350625, 37556.025214077956, 37545.13377563777, 37535.82263466978, 37523.815769499044, 37512.668589577486, 37497.35721114322, 37475.13276831371, 37472.180168328545, 37466.095787669736, 37457.13402187432, 37439.96208135816, 37429.55306618867, 37416.85160986566, 37413.37485673426, 37389.64984453259, 37376.0500208397, 37366.0946944142, 37358.05966251813, 37345.4660333288, 37336.83411033352, 37330.47904902585, 37315.562921286466, 37305.759928947875, 37292.08144926065, 37267.396112276714, 37261.51696211516, 37246.16312599152, 37223.8930865154, 37209.79466048338, 37200.54553882524, 37176.83325180358, 37168.94051184972, 37157.22628805167, 37138.860222285555, 37123.154372586294, 37103.029515784496, 37086.2429734461, 37079.693341951956, 37065.79244641299, 37055.74075118339, 37043.55091427097, 37023.881325563496, 37012.527154551855, 36996.80566698373, 36970.035908547805, 36946.67770598769, 36931.28593177898, 36921.63399931447, 36909.88140972949, 36901.78975375869, 36890.022526992565, 36879.63845558083, 36871.98240447554, 36858.8983972983, 36851.5366697701, 36836.83866678702, 36824.51097205654, 36811.837156347974, 36806.44905363079, 36795.7339970035, 36777.66353061217, 36772.891475981516, 36758.32719143085, 36746.98200377503, 36731.743618297165, 36716.91324928981, 36708.89099379847, 36682.634096225556, 36671.68389271511, 36658.311413667594, 36642.70818208525, 36627.917781154116, 36619.23140821253, 36607.499381894704, 36600.122543552825, 36591.914267768734, 36579.25562409975, 36565.27067113797, 36550.41805939833, 36541.84812563209, 36528.84137517705, 36521.635226513, 36511.20331497375, 36505.60725976872, 36490.99412473142, 36485.718280931884, 36473.99716706752, 36457.09723896483, 36448.076309877964, 36435.47631051107, 36425.85240571849, 36414.15677882849, 36401.77085602408, 36383.77734789035, 36376.40110648792, 36359.8857478404, 36345.45756247639, 36335.287742694105, 36327.08495630542, 36322.30752010085, 36311.052163639244, 36296.968652170464, 36272.27114457677, 36257.580969443145, 36245.406001509495, 36229.87707404972, 36220.213029507504, 36214.66856964815, 36205.626734358455, 36200.7381963378, 36196.98481704196, 36188.22740152265, 36183.47010724816, 36176.0192840991, 36163.64099270313, 36144.988065247446, 36130.928830631085, 36119.38223583303, 36104.69769464443, 36085.6183792243, 36065.17893154585, 36052.5466275304, 36029.206972602355, 36018.22865732643, 36011.30968807465, 35998.88344621425, 35983.34481059606, 35970.823052982596, 35967.28954389665, 35959.48282614003, 35951.88809788084, 35939.90285987158, 35937.437425824835, 35929.110710443674, 35916.9617228857, 35901.599595722924, 35882.87094823238, 35874.02697719195, 35859.08465180869, 35847.64646457684, 35843.04388755857, 35830.864950093855, 35815.08370399904, 35802.216864925496, 35790.74971548482, 35779.89458684291, 35755.42925994223, 35749.427374926374, 35732.222984176675, 35728.337673067865, 35713.391901068906, 35699.475515266015, 35687.934622615, 35675.683104341, 35662.397233016345, 35652.9639004742, 35647.714427707106, 35637.27136270161, 35622.89132964226, 35599.54036261433, 35592.46410776089, 35581.54894638463, 35565.46845328101, 35549.83568271601, 35536.351925854135, 35529.84411678334, 35520.993890046426, 35506.16134613793, 35496.53235344512, 35486.42496694464, 35477.9933008042, 35465.55239733412, 35455.67985316114, 35450.58474241908, 35437.49625235051, 35426.64387068154, 35414.749899939205, 35403.05802632845, 35393.703104230604, 35378.915942697706, 35371.768827776636, 35360.46966046619, 35350.71475914572, 35343.29318951262, 35338.68461436396, 35331.29821304142, 35325.110093269555, 35312.820775618755, 35298.335810107434, 35282.877567016396, 35264.452935124784, 35259.18443191729, 35250.82908746451, 35243.05263462407, 35227.953391323324, 35219.32740592857, 35207.52529980685, 35200.668518635706, 35194.11559773038, 35182.03771895908, 35176.53585568737, 35169.226097682724, 35160.82019853351, 35145.30732700407, 35133.31324419733, 35118.66620061577, 35111.483139999276, 35088.00682669438, 35080.26714494706, 35073.5209018284, 35069.145387278964, 35057.095414991876, 35049.35416534449, 35038.88601466935, 35031.37655924908, 35017.052061045375, 35005.52987582191, 34992.87196913675, 34981.87411436071, 34960.90244148201, 34950.84003471434, 34945.25158533855, 34924.955615475694, 34912.386547334, 34896.128666718556, 34873.995174998105, 34870.0813786859, 34855.932560255955, 34841.033922846866, 34836.784204196774, 34822.76119007695, 34814.22772182714, 34811.86929351913, 34802.43322490298, 34791.77340019712, 34782.35681024738, 34757.592973300285, 34749.39553239564, 34736.0888304447, 34723.795171108766, 34712.05484569401, 34706.80902822059, 34701.56716683897, 34698.162916998735, 34691.396676273056, 34685.51003370502, 34682.08192241076, 34676.49874567311, 34671.895717190375, 34662.06673448002, 34648.99185202686, 34642.83606509463, 34628.497295028064, 34618.682252626175, 34613.79331993297, 34607.70521622446, 34596.52102214106, 34585.568878285005, 34577.2344908873, 34571.55533803906, 34563.12080494693, 34553.66594639056, 34543.01008429189, 34529.210091588466, 34519.53802822868, 34513.573796315766, 34504.432728309876, 34501.131138108256, 34492.653948930245, 34477.76716755182, 34471.25437765287, 34467.99000582917, 34457.89029574775, 34448.11134694391, 34443.31302145885, 34435.230196783166, 34423.279612221064, 34415.42838812424, 34407.2503869383, 34394.40156098411, 34370.30018344963, 34352.29108219427, 34347.65004913309, 34338.54320496547, 34332.72391865214, 34323.37831263488, 34312.60265143975, 34309.46911379281, 34291.83824045768, 34286.086225488805, 34276.82940101448, 34268.56439867229, 34258.31442682555, 34245.777050206605, 34239.9948106888, 34231.14722769525, 34226.593516358895, 34220.900392268006, 34206.247150920746, 34195.79151825173, 34187.127755599475, 34183.09722465079, 34175.874652964405, 34161.476671237986, 34157.9332569512, 34140.41067251124, 34136.569055631895, 34124.63232905318, 34117.50026601658, 34105.54051097565, 34100.491647650204, 34094.75744924411, 34083.60652687206, 34080.98803715619, 34072.89718669903, 34056.652246005855, 34048.147366850266, 34034.669126645946, 34022.38808041272, 34014.14933239093, 34004.73638003716, 33990.62045624698, 33979.65232699972, 33973.14308380646, 33970.01341665047, 33960.95919352374, 33949.57931865967, 33945.08113918009, 33934.28878352099, 33905.876714760314, 33886.844342411525, 33877.46891313602, 33867.8579661843, 33859.734158192616, 33844.27877884657, 33842.906651070094, 33833.83576283227, 33821.11487732328, 33802.97795116798, 33786.94605526282, 33782.44850108782, 33771.83040327544, 33759.746221590816, 33756.11806988065, 33747.555969486384, 33738.68728867059, 33723.83345609585, 33714.365910786844, 33708.51267061666, 33695.01989545627, 33683.28413145159, 33676.06300903079, 33667.39621236281, 33653.378576362644, 33638.4602790391, 33635.37497422522, 33624.36538473212, 33616.60591497418, 33610.24644682684, 33602.81578099914, 33598.067951461366, 33584.57011787165, 33570.76043098632, 33555.84244311887, 33551.42962320676, 33546.36522154603, 33539.648635359095, 33536.2213687985, 33526.74472926251, 33517.341452918605, 33512.045885092084, 33505.56472131138, 33490.32704472943, 33477.666637594666, 33471.245849616884, 33464.81215724282, 33458.68032438363, 33453.74260487133, 33446.925950508594, 33440.74342558816, 33432.43388050727, 33423.12525233962, 33415.003052958695, 33403.889147816546, 33398.179934386084, 33391.63135211466, 33368.25429160124, 33355.588658720306, 33342.97371489382, 33334.913426373125, 33329.74935866928, 33317.65559288909, 33310.81100209133, 33304.39700913566, 33293.23422887415, 33276.62144525315, 33266.53104271231, 33260.287584587466, 33248.9473811531, 33241.93014012477, 33236.88432488798, 33225.96365361036, 33223.49563204482, 33212.97341389324, 33203.660184992936, 33193.382382049684, 33186.222718806624, 33182.78686762912, 33169.50677098075, 33164.497613639454, 33154.50073599664, 33145.36777807719, 33136.952146462485, 33134.5780458201, 33120.90825779638, 33106.723167950164, 33103.418624905404, 33095.01988007934, 33091.31142485667, 33087.55582568446, 33080.313183709484, 33072.536585963084, 33060.44660484602, 33058.42622977119, 33046.38375240869, 33037.5209392464, 33021.05168536057, 33013.8885033034, 33004.044178653, 32999.4884102164, 32988.48323266329, 32973.738057272945, 32971.99782009991, 32960.98746272325, 32956.5365937925, 32946.71919838018, 32933.41247376438, 32918.66130081413, 32914.097151893184, 32902.014737270685, 32885.268386398246, 32877.50568293717, 32870.89620262955, 32865.4703489099, 32859.31057433563, 32851.803039910934, 32846.52713711784, 32829.580448632856, 32819.63668889628, 32814.003172970064, 32805.33542117035, 32802.88515010144, 32799.10247482515, 32787.20602340842, 32777.1407583858, 32769.038986573076, 32760.381950621824, 32751.995804392674, 32743.888561953518, 32740.416859980574, 32735.70128736015, 32726.527904467104, 32717.92724464631, 32710.316085984377, 32702.35926902756, 32687.47312466428, 32679.212284555702, 32672.858419158467, 32655.69672416698, 32651.378151943467, 32640.50518635116, 32634.44006752239, 32630.727885133772, 32626.773257802935, 32614.243388552597, 32609.229748832688, 32601.684972200044, 32596.5789259281, 32591.39527923478, 32581.540696990978, 32577.294180534158, 32573.0361019335, 32560.506127515953, 32551.592073551423, 32546.593232873023, 32542.278818212344, 32530.0299373829, 32526.076633412536, 32517.975821645658, 32511.26878480338, 32498.95474084337, 32493.980957367705, 32492.065313328014, 32475.275272048017, 32471.546010592963, 32456.328445473464, 32446.042279161924, 32441.680320593685, 32434.962556483046, 32422.64944174349, 32413.37140916334, 32409.553263191407, 32402.833273807697, 32389.013057453954, 32384.564867277415, 32367.30052358672, 32359.228884546235, 32352.88772174301, 32343.221419102683, 32327.86512539981, 32319.174255846836, 32310.865663471177, 32304.63176304438, 32294.16948039239, 32291.172583777243, 32284.708135618388, 32273.140544170503, 32261.96812675365, 32253.741516365728, 32241.896060405925, 32224.047590590635, 32209.198382295082, 32202.286756178783, 32197.366430795606, 32191.15632471106, 32182.425892282394, 32167.904335195304, 32158.911947766377, 32146.174591000618, 32133.33390952126], 'train-RMSE-std': [886.0749560960542, 797.6487192090459, 774.4286109647765, 727.1561102721248, 671.0621619356863, 717.8888349636562, 735.9558142475408, 732.3897296069058, 740.491381060617, 719.7987078492383, 739.3624573682729, 723.0108581885328, 752.6347794121672, 703.51285856317, 773.6336518661758, 819.6398499220146, 830.8361638612, 871.2573777563142, 860.3140295375439, 862.9834746645136, 783.9352054142261, 774.9285268565953, 821.233053055648, 880.6776719043651, 889.1068291804967, 968.8243947062145, 974.143089960108, 1060.9651441106057, 1066.9924496103317, 1044.526430624773, 1036.6017577905711, 1079.8222549186237, 1076.2647211214983, 1065.725549028433, 1061.4715509330092, 1036.7976826338086, 1018.1505837141744, 1008.3757150152223, 1008.5010863841063, 1003.1302305352506, 1002.0176774385984, 984.968907785568, 980.0013607062008, 1014.9270527052678, 1017.7802891880516, 998.6621157337238, 987.6346897152282, 992.0655466290236, 971.6623048353545, 936.4996979467082, 944.3770016573435, 939.1671950036919, 920.4223834256492, 916.7621775673044, 937.8939573925995, 980.158620290104, 977.7696504513144, 972.5625608533538, 976.130270294648, 986.7961677673024, 987.5354228078583, 986.9763289638316, 993.0799290176826, 1002.3086885815405, 985.4116540645124, 989.0228685167573, 986.0515847420736, 1028.2123689240118, 1099.703326859533, 1166.9986766501727, 1196.936089082104, 1222.2837679166762, 1189.7688935468063, 1193.793693656882, 1185.751204771709, 1107.4758045133497, 1087.449330890107, 1093.0876786925419, 1025.4165515514383, 1021.9834022553846, 1019.4783406938193, 997.2609288519179, 1012.9662353579351, 1008.4944081509403, 976.0785205528031, 977.3764934823897, 994.218430253615, 998.8043141209774, 1013.8799549083475, 975.3550445291746, 948.0835216003477, 920.3517102344719, 896.3663772599779, 896.6349056075001, 881.3925579496836, 861.8784430294395, 887.2458797532892, 885.9089578478242, 892.8625903972401, 947.8006996178522, 965.049542237276, 950.8861040755746, 976.2440110877908, 954.4193301153673, 946.6491810453444, 935.723400648716, 956.2762563642071, 951.9726098092832, 939.0609088553934, 933.643738246751, 946.3315171205162, 967.2051977236104, 943.3576372103626, 965.4392954685271, 930.1758805648474, 897.8772091504928, 922.5456162820841, 914.2123445948575, 902.6635183087581, 921.2867004242721, 894.2179486679887, 890.0310688411067, 891.5579869567136, 902.7547659999531, 889.5180432146373, 898.2895574900712, 913.2181526870758, 903.1781944271555, 906.8573454438003, 894.564334574524, 874.0040976901345, 856.6417161497278, 869.0051784080626, 877.352284202869, 861.8131219218604, 838.0658341363686, 852.8266403183436, 840.2425806235071, 836.8057073896238, 835.0309422832971, 823.5901040773598, 848.2975624901343, 849.6542902161259, 841.6912398057676, 865.2993822034684, 838.6066289304159, 832.1280682493856, 859.9007707148443, 857.6350488989347, 886.4096673238043, 881.9164650773066, 877.1502083319468, 877.3013901040217, 884.6696741603761, 897.4896513453115, 917.2029046706616, 905.6164431091541, 904.2300248733962, 883.3541301659054, 893.8452990324344, 901.931657270906, 906.1854737870594, 900.308729049915, 901.4735999071949, 882.1447091434835, 872.8283498629823, 856.4260506919551, 865.7045721532392, 858.1951621247122, 873.3526660917396, 882.0661410724866, 884.4422784300878, 870.0077949936575, 880.561332600418, 877.0349828746345, 878.2674802141574, 871.2522409204198, 868.6658671826376, 857.9108666451737, 873.955309670745, 873.2343498768703, 874.4625127670212, 873.538011478849, 886.5971865522471, 882.3701465360025, 906.0415395702519, 902.8640275303144, 897.1845962984584, 884.8929674980009, 872.3406088133677, 878.2847155826094, 883.9202745814227, 879.1988401233958, 882.3977641169108, 879.4870243011369, 868.7296271033103, 868.6180371778694, 858.8630808384078, 860.8889132252853, 854.2235107328255, 844.1688831733273, 839.0098096596811, 834.4675606325361, 821.1859171228531, 838.4796055295232, 834.0523816836442, 827.6392053126893, 821.9082946708786, 824.8574191769255, 813.0165347080158, 810.5608132143861, 792.8065646598775, 788.9786131304897, 780.0237188723023, 786.560227583599, 774.8840034745984, 790.7080934883631, 784.9020649985154, 787.3900951219989, 801.6297402679422, 807.7590877899277, 819.4458053722653, 821.3027758945526, 803.5991752820798, 823.4681597883688, 816.5971522935693, 798.4661244998686, 803.9417233029393, 793.9508213385795, 763.4401193953752, 754.1667686566418, 740.3572910116278, 733.4167088610135, 732.673915003273, 737.741664284828, 755.3710397314137, 749.7664774181878, 762.7383800453447, 765.7929247831547, 774.4988317110957, 757.5159166044148, 760.9530012974228, 765.8079849331626, 770.0527033248281, 782.0704049535451, 788.2238778409098, 786.4244196580979, 797.6696077073651, 798.5978033230994, 801.9429035094133, 806.9799397633236, 802.2227053041436, 815.7404168392238, 813.2835289005606, 801.4016380278584, 808.1344290098637, 804.6883284869546, 795.4074683772897, 790.0114037556207, 786.6744386537654, 799.4352748581396, 790.4820724725153, 802.2999536714257, 813.1750497275241, 795.2599665605146, 764.0634099538617, 748.1021658659853, 748.2259314583486, 748.2597848409424, 761.2883751106043, 771.5375506664851, 786.973126993423, 797.1215133735416, 798.7177243606733, 804.573683300716, 785.1036900276341, 792.329835976946, 777.7023870604604, 766.5923712542977, 770.6724605549452, 773.5676348515008, 786.6480905904083, 783.863644328295, 780.5273490018446, 769.716159261154, 772.8537591655657, 766.6999844907285, 765.7573771815452, 758.5843721794655, 759.9211273311525, 764.5151882717875, 759.2985026689954, 764.3459701463344, 743.4914945108904, 768.3193225111434, 769.2940042295493, 773.3313129913957, 790.2933975687437, 767.8369540501301, 766.5203256031701, 755.7879604579238, 754.1746271544714, 754.6534974594575, 761.3886603223697, 758.0690191758138, 755.8097357244266, 736.6682685989782, 745.1191645235588, 754.4539761504714, 758.9605708639845, 745.6675976229259, 745.0091450488384, 746.4052165315978, 747.6683272401964, 751.596779429455, 766.9562866071963, 763.93931763179, 760.4487416837715, 735.6595045448171, 727.1282125380477, 703.688371908012, 696.4043429282382, 686.8860678862061, 682.4399623686272, 693.131049211188, 705.7136970346162, 690.8708043221054, 689.0762995095731, 694.913079871063, 684.0382286592335, 683.2273325556334, 678.0527550874339, 686.7068052025833, 685.3642714016448, 687.5827579454176, 679.8343619919972, 673.4231480795718, 670.510442214941, 674.5554208440957, 682.6675905820447, 693.5068824271361, 702.5400171087772, 701.2031380439558, 694.79843558979, 688.1714986235528, 686.62630538137, 686.4801954180354, 682.7036791491308, 692.9764482096733, 689.3578439097123, 687.0733802459439, 687.8373336032096, 687.2367728654832, 674.0645805767932, 665.5701060904586, 664.8003440537032, 657.4228124036174, 659.6879840921496, 671.2395451807113, 682.3125989740653, 668.8104199867335, 670.6463578180725, 680.6961641602257, 675.2356547040408, 678.1549994878486, 692.1123173890973, 679.3829534061981, 681.8758254010929, 673.3855216304617, 685.1128919862823, 683.2617726693379, 689.5863551066392, 679.3233447932785, 688.5458431295547, 686.6949474122918, 684.1991474685489, 666.8653429952682, 656.7565778480268, 657.7016398203108, 650.7820943572265, 650.4343630350838, 654.3183308556803, 656.2054327685131, 649.7447552556891, 660.1403894493128, 665.7588778242217, 670.3285827953912, 667.5660435019219, 656.635632946289, 658.2215081286573, 653.0676705952276, 658.6742231355333, 666.4761055177061, 669.171083842692, 673.2205389164083, 663.6859891549915, 675.6439990244173, 682.5760033472552, 686.812091454764, 702.8474320647963, 700.124062600757, 700.9051334128031, 713.973923820779, 713.8697596355867, 717.247983265893, 723.5267670737688, 721.1298087086025, 715.555155001339, 712.8705672228368, 713.2047455454344, 703.0933939844791, 700.8562803077763, 698.9178570046198, 689.5918711979966, 679.1291539265344, 681.0498952742842, 683.0142443889664, 675.7053377743553, 666.6668429768368, 672.4137557638536, 668.5758423818922, 657.0872974450033, 655.8696131867734, 662.2040037622327, 671.6389556537317, 669.5554752530664, 641.1295381010146, 632.326005503007, 645.8684210071202, 652.613691019, 642.0940638254507, 635.5927019162336, 641.8879718595452, 634.9283604398003, 648.9108588115936, 670.7632644114761, 673.3441791410066, 672.2718309869072, 665.4822816220798, 667.6926649489393, 666.0531910505523, 666.1097412189216, 678.9406043071579, 667.0488788700518, 667.346188311009, 674.8925390536267, 664.3355833078178, 665.4089067004782, 656.4163321261301, 653.9134714700112, 650.6320412052353, 650.310827651045, 645.7317054383979, 641.3028840506028, 641.6223407078057, 646.6272125564523, 641.9806463372225, 639.6943686694328, 641.0829768979887, 646.2859954714452, 664.87172572409, 668.6608961272502, 657.6530269175328, 662.1483576546668, 654.326700401313, 649.9199047534541, 645.1397933048324, 639.2306293049035, 633.0991838984611, 631.2595623729868, 638.9444833650098, 639.1156814845052, 631.3328327472294, 627.4484298038547, 619.453815631933, 621.5107765068809, 608.3170689037419, 609.9770045056869, 610.6431705304522, 614.2664631913136, 608.346804214582, 601.7162103276996, 597.0105135359814, 595.3118727641507, 582.4777850035296, 581.2486628008927, 579.1668319652379, 579.1215130913896, 573.8708655750418, 576.8537219774204, 584.5820753246035, 595.4825584553419, 593.0802774789182, 597.0843429590786, 615.9347158524971, 612.5679895180958, 611.8749021462996, 613.8610997654756, 621.8735220864311, 620.9794076940278, 609.1542215020247, 613.2199239721707, 602.4704757404648, 609.2419213992888, 611.0736348468781, 614.5609630526641, 615.8343544683983, 611.0109247385417, 602.0172277031878, 590.655111073462, 598.9231553202759, 603.9811546190004, 600.1015262711434, 600.7239054923319, 576.871875784933, 578.0127655538789, 577.6965639881345, 575.2569802626147, 579.9929263802218, 580.7905824409034, 584.3236863102298, 583.6697946525317, 586.3129081716817, 583.1368318972322, 577.3928164613853, 564.318979164385, 556.7546506639128, 549.582762713954, 548.0831851110668, 550.7032934343957, 565.4199334697378, 563.9230583254896, 555.3124133751236, 558.8975293737909, 547.3948793536093, 548.3260979815869, 540.0000576174274, 545.1754717545297, 548.6378590822409, 538.3362996098289, 534.7461515199899, 528.6019852436915, 526.1274991727377, 522.6989150745554, 525.4201744164462, 521.9232605652804, 517.3474068976351, 519.6293296442747, 525.7739911420014, 523.9265536451983, 524.5431906133995, 524.9200764095439, 526.1129919439937, 525.3997110434416, 533.3550789733794, 536.8491505838092, 533.6034706593871, 536.3851496538127, 535.1918402426508, 533.8306499113106, 538.4589826516135, 538.3544923266769, 533.3524512253498, 533.6802833974197, 528.4153723045616, 530.1710632113148, 524.9909098744779, 523.9020530336296, 522.6486942545345, 524.9654450369519, 509.35828186258135, 510.3494509613293, 512.6337057440427, 516.6690710718384, 511.3130933126295, 518.6672502964267, 522.8225917405382, 522.5037827029407, 522.8980795760135, 521.403901140082, 519.8584924041828, 517.1701613048247, 515.6733787535077, 513.8385959778496, 500.6246371074618, 497.44643132982424, 500.0784053728549, 491.5058074091154, 488.39954444699606, 482.00339993534374, 469.84594824263905, 476.18027937028705, 463.92617942850006, 462.47113635510095, 465.9395069980087, 458.1480140891413, 454.4293145974351, 450.7665711414104, 450.106412843658, 446.4875518685759, 446.95844783955886, 447.9219512051533, 448.45655249194596, 445.0688161925892, 444.54915531802857, 446.09130803559043, 435.60952543207185, 442.59538874777166, 443.05444440200716, 435.8030043915171, 435.7737078782851, 436.0058618723226, 440.75135321299683, 439.9298869236854, 447.8351268300407, 452.2575883058152, 453.7069076203211, 448.6527507381326, 448.4892692781506, 446.8419793222549, 442.88936458724913, 433.8051166422026, 432.2122154798359, 424.67327740461377, 423.1640171926391, 425.3276218693141, 423.89608181288173, 435.7595642710989, 434.72757617297685, 434.75894557478983, 434.17420835089825, 428.97655756273855, 415.53967164628256, 421.66278787710587, 411.3826851025947, 412.8684402031695, 411.4970017324121, 413.7710470450002, 411.07482580819914, 409.2399274123038, 402.14040334076304, 400.4678443373651, 401.51470107016803, 398.21120711867644, 400.5108753827345, 405.1514132320055, 408.3423724927066, 414.10144888350385, 416.32001730725415, 420.45159871528875, 422.293415000895, 430.75959564825285, 424.79176110415756, 427.22498299976456, 429.00249008732834, 427.6527371647969, 431.34945400971185, 418.63926330045445, 420.75613324646355, 400.420587416936, 391.1126825996489, 389.7273919274499, 392.4905710362173, 394.99659783378416, 396.7806521488994, 395.5892381266562, 386.55538934247625, 387.54273529422244, 389.4470279330765, 386.46473909507887, 385.7375421680896, 385.189585245884, 381.34136008597335, 380.724184935653, 375.75023658403194, 373.2110385787726, 370.0595507380695, 358.04689631090423, 353.23041211753826, 357.26228325160974, 359.6876974798459, 365.4653878556492, 361.807130716232, 362.55450705941087, 364.70973214036394, 367.3388029803948, 374.4419143929003, 367.3702279281088, 368.22321560015433, 380.4153685869755, 373.22766473068475, 372.64000898605315, 357.58687314186966, 358.0237512284338, 350.7538865114918, 344.46703273739456, 344.16828188671684, 328.42205016525423, 325.1865733310005, 326.17117923310576, 331.1604026169217, 330.03727863835377, 328.4675624500225, 321.2515401433703, 322.11898548688566, 327.5528964068616, 339.59717217402573, 337.3895219149214, 331.6914467798605, 333.6281008675562, 327.0918058496828, 326.98606922092205, 325.9522696825638, 327.21451515807087, 326.7469197052593, 328.1899522035051, 329.57330996207025, 330.57443333531114, 333.1622771277497, 324.8376687466745, 326.14790425420347, 327.58081755179893, 331.5373522780132, 332.02008077113385, 334.14160072088987, 335.3487614226925, 327.2414886381789, 326.66579494030384, 322.919855944205, 316.694967276873, 312.38041351688645, 319.72257866249, 322.00401179520986, 317.89215562247614, 313.3381793789922, 315.6664466009678, 309.6716873958198, 309.4893552671338, 313.87810596542056, 319.15718550523434, 319.17270553671256, 320.4137279805275, 316.7278087370735, 318.5703556770254, 313.90946669347954, 312.5117197627315, 310.7782126460848, 309.676273970112, 310.31419740775857, 317.9827432271436, 316.600690120987, 325.8640585507626, 323.3546824229242, 324.2030934452704, 323.8972317002425, 315.90057749784853, 311.52006565053836, 310.18259247056835, 300.59237420006133, 298.7806069904219, 294.80189199530605, 294.52179941543017, 297.23802690023786, 289.356072629585, 287.36304219606865, 290.3019239718283, 291.4957013323519, 290.6696321695976, 296.13117224142553, 288.85603175857915, 280.15018852033006, 280.9171936048136, 285.34452874463597, 293.10519512577866, 291.36805299381155, 304.3435907022262, 306.09403977964774, 303.49750822796335, 305.53538432177623, 306.67649298077094, 310.4390189564845, 312.08024979617585, 306.72835591587614, 307.1386105800009, 305.26409356888826, 301.553826991582, 309.2689966290393, 319.1241494795226, 319.57010267104084, 315.94937597010176, 317.1476933230725, 325.12801956960544, 333.205452427499, 326.58459253120856, 326.64022940410297, 322.8058949011162, 319.6672578833434, 321.5406005630413, 315.944094531978, 322.00035602917814, 315.5898660450765, 320.50703711259445, 318.2985145045856, 323.9010138581263, 317.79445166952615, 317.00693204446526, 326.1865994003222, 324.988379180154, 310.47588814264424, 325.2144024326926, 328.3066352885456, 335.08730115618806, 346.0762208620348, 350.287503241053, 345.044094415985, 345.27856745466227, 353.4998247006215, 353.568244388352, 353.1290528572437, 361.6986515909403, 364.846270513806, 370.96127656681506, 367.1902463633623, 358.75133715569433, 342.7946868532804, 343.69441175327086, 352.2210887158499, 349.0605253976193, 347.72795539108915, 347.1786658843197, 345.35591010533085, 332.77168495681593, 327.0577940861633, 328.075728758987, 326.21601319931403, 330.3222437185864, 336.83084312791027, 338.07489087281846, 342.6939754020714, 350.93143114325557, 345.89144178717123, 341.3663158965384, 335.20240413816833, 343.848516637192, 340.83149446999937, 344.45071480173516, 337.72383306316124, 337.8235121623602, 338.3505361575064, 343.9260013314133, 334.73021085828736, 332.1781765038737, 325.9163136624006, 334.3755489538229, 334.165558017274, 330.52447198293186, 347.63482649683516, 353.0430898296481, 359.6561862742669, 365.0452591577934, 362.7767519046971, 361.5387559850302, 367.5777293764568, 367.9665514049136, 362.1935453088499, 360.94205510959836, 350.0769689242523, 347.46561786637955, 341.0433473973121, 339.2334377801689, 343.01530533430247, 342.4322739082379, 341.63911916709117, 347.32117678769237, 348.6844255648576, 342.08442771365344, 345.5429682615854, 346.13698296882205, 333.1947794288068, 333.0318390996751, 328.2058422496192, 321.4167675847497, 320.9218368198364, 322.2786420544604, 329.8863482420432, 338.2217037077376, 338.7428463116406, 339.9496118332477, 341.0998303672195, 340.4661535289984, 340.9330925586517, 337.4410057884833, 336.9246123927764, 337.33550807096293, 340.5155950357156, 333.7575042839078, 325.77689730401335, 333.66689293255416, 329.9193336757986, 333.67100866238434, 328.91155877162987, 331.52673985586495, 332.11855480251745, 323.1725642584405, 325.89044657779175, 327.18407256818114, 317.4034660350428, 315.328051049293, 317.55032980604255, 329.25658998872075, 337.246487134499, 336.86565909789147, 333.4104233960946, 333.63323901074864, 337.4937760024489, 340.67010477538696, 341.9758449289048, 335.1290728285954, 332.4790933107174, 331.50602819292465, 326.22789289692076, 327.0357759416713, 323.1870008102224, 331.04455208161716, 320.2552600609541, 326.94630859098237, 322.34364803321154, 322.50798210879134, 319.18285406618566, 320.40832795292835, 318.89314557050676, 326.8819367348679, 325.47146161863196, 329.5810153866123, 333.5354582443348, 337.03926173152246, 344.5527283700828, 344.37572922057103, 349.60648042302194, 350.36658493985965, 350.4987924152682, 353.89567201334216, 349.98401507858034, 352.184148303514, 345.8651681516106, 346.14490865458316, 343.47774563474144, 342.5799603286085, 345.254383110031, 352.61104134346834, 354.74351863360766, 354.63731801473733, 346.9852103501538, 346.5861763228663, 345.421851105536, 345.1401519805479, 342.8101395044782, 340.9565760743242, 337.14935660974015, 331.55575436346805, 324.85337611070366, 327.0588551463361, 327.7813540304446, 328.70249948386623, 330.714962319214, 339.27152425015555, 350.40006705204814, 354.502353650777, 351.37092839043913, 354.18023827152075, 361.1171898660276, 358.1838858851271, 365.3019546165659, 364.7559685338941, 366.6037288201986, 358.882835952729, 352.4221994402192, 355.4553923891292, 356.1169143378011, 356.3883236473697, 363.0775099837279, 363.28198672591765, 359.05680840169134, 356.5993857521335, 356.831952919616, 362.4769938714558, 350.1731849392584, 352.92636647366277, 355.86263323182857, 342.7328704551635, 341.5111613130604, 337.7613971328206, 336.84499537469566, 341.85023989740955, 346.6454160626698, 340.2540168261859, 344.4928588057463, 350.82192037057445, 361.3426915323224, 369.1761786891574]})\n"
          ]
        }
      ]
    },
    {
      "cell_type": "markdown",
      "id": "3bfc4e05",
      "metadata": {
        "id": "3bfc4e05"
      },
      "source": [
        "## Задание 8 (0.5 балла)"
      ]
    },
    {
      "cell_type": "markdown",
      "id": "14466af9",
      "metadata": {
        "id": "14466af9"
      },
      "source": [
        "Теперь используете исключительно xgboost. Обучить модель. Подберите оптимальные гиперпараметры. Закодируйте категориальные переменные, как хотите. Оцените качество итоговой модели, скорость обучения и скорость предсказания."
      ]
    },
    {
      "cell_type": "code",
      "source": [
        "!pip install xgboost"
      ],
      "metadata": {
        "colab": {
          "base_uri": "https://localhost:8080/"
        },
        "id": "LJXOIuxg74mU",
        "outputId": "22e73661-1335-4de0-a343-aef30fa26f51"
      },
      "id": "LJXOIuxg74mU",
      "execution_count": 41,
      "outputs": [
        {
          "output_type": "stream",
          "name": "stdout",
          "text": [
            "Looking in indexes: https://pypi.org/simple, https://us-python.pkg.dev/colab-wheels/public/simple/\n",
            "Requirement already satisfied: xgboost in /usr/local/lib/python3.10/dist-packages (1.7.6)\n",
            "Requirement already satisfied: numpy in /usr/local/lib/python3.10/dist-packages (from xgboost) (1.22.4)\n",
            "Requirement already satisfied: scipy in /usr/local/lib/python3.10/dist-packages (from xgboost) (1.10.1)\n"
          ]
        }
      ]
    },
    {
      "cell_type": "code",
      "source": [
        "from xgboost import XGBRegressor\n",
        "from sklearn.model_selection import GridSearchCV\n",
        "import sklearn"
      ],
      "metadata": {
        "id": "m0P64v2C75DR"
      },
      "id": "m0P64v2C75DR",
      "execution_count": 42,
      "outputs": []
    },
    {
      "cell_type": "code",
      "source": [
        "df = pd.read_csv(\"ds_salaries.csv\")\n",
        "df = pd.get_dummies(df, drop_first= True )\n",
        "\n",
        "X = df.drop(['salary_in_usd', 'salary'],axis = 1)\n",
        "y = df['salary_in_usd']\n",
        "\n",
        "X_train, X_test, y_train, y_test = train_test_split(X, y, test_size=0.3, random_state=228)\n",
        "X_test, X_val, y_test, y_val = train_test_split(X_test, y_test, test_size=0.5, random_state=1337)"
      ],
      "metadata": {
        "id": "i0bJ7meIdMPY"
      },
      "id": "i0bJ7meIdMPY",
      "execution_count": 43,
      "outputs": []
    },
    {
      "cell_type": "code",
      "source": [
        "model = XGBRegressor()"
      ],
      "metadata": {
        "id": "RrhR168n8AEY"
      },
      "id": "RrhR168n8AEY",
      "execution_count": 44,
      "outputs": []
    },
    {
      "cell_type": "code",
      "source": [
        "grid={\"learning_rate\": (0.03, 0.10),\n",
        "                        \"max_depth\": [4, 6, 10],\n",
        "                        \"min_child_weight\": [ 1, 3, 5, 7],\n",
        "      }"
      ],
      "metadata": {
        "id": "CCKQUv2xNCRR"
      },
      "id": "CCKQUv2xNCRR",
      "execution_count": 45,
      "outputs": []
    },
    {
      "cell_type": "code",
      "source": [
        "grid_search = GridSearchCV(\n",
        "    estimator=model,\n",
        "    param_grid= grid,\n",
        "    scoring = 'neg_mean_squared_error',\n",
        "    cv = 4,\n",
        "    n_jobs = -1,\n",
        "    verbose = 0\n",
        ")"
      ],
      "metadata": {
        "id": "tlGcGpr48oSK"
      },
      "id": "tlGcGpr48oSK",
      "execution_count": 46,
      "outputs": []
    },
    {
      "cell_type": "code",
      "source": [
        "X_train"
      ],
      "metadata": {
        "colab": {
          "base_uri": "https://localhost:8080/",
          "height": 505
        },
        "id": "PKOBHtKDdAqG",
        "outputId": "40b4bc51-104c-4b43-8d6a-dbeaf45f8622"
      },
      "id": "PKOBHtKDdAqG",
      "execution_count": 47,
      "outputs": [
        {
          "output_type": "execute_result",
          "data": {
            "text/plain": [
              "      work_year  remote_ratio  experience_level_EX  experience_level_MI  \\\n",
              "1661       2023             0                    0                    1   \n",
              "3414       2022           100                    0                    0   \n",
              "1829       2022             0                    0                    0   \n",
              "2233       2022           100                    0                    0   \n",
              "2380       2022           100                    0                    0   \n",
              "...         ...           ...                  ...                  ...   \n",
              "556        2023           100                    0                    0   \n",
              "1785       2023             0                    0                    0   \n",
              "1907       2022             0                    0                    0   \n",
              "3216       2022           100                    0                    0   \n",
              "3461       2022           100                    0                    0   \n",
              "\n",
              "      experience_level_SE  employment_type_FL  employment_type_FT  \\\n",
              "1661                    0                   0                   1   \n",
              "3414                    1                   0                   1   \n",
              "1829                    1                   0                   1   \n",
              "2233                    1                   0                   1   \n",
              "2380                    0                   0                   1   \n",
              "...                   ...                 ...                 ...   \n",
              "556                     1                   0                   1   \n",
              "1785                    1                   0                   1   \n",
              "1907                    1                   0                   1   \n",
              "3216                    1                   0                   1   \n",
              "3461                    0                   0                   1   \n",
              "\n",
              "      employment_type_PT  job_title_AI Developer  job_title_AI Programmer  \\\n",
              "1661                   0                       0                        0   \n",
              "3414                   0                       0                        0   \n",
              "1829                   0                       0                        0   \n",
              "2233                   0                       0                        0   \n",
              "2380                   0                       0                        0   \n",
              "...                  ...                     ...                      ...   \n",
              "556                    0                       0                        0   \n",
              "1785                   0                       0                        0   \n",
              "1907                   0                       0                        0   \n",
              "3216                   0                       0                        0   \n",
              "3461                   0                       0                        0   \n",
              "\n",
              "      ...  company_location_SG  company_location_SI  company_location_SK  \\\n",
              "1661  ...                    0                    0                    0   \n",
              "3414  ...                    0                    0                    0   \n",
              "1829  ...                    0                    0                    0   \n",
              "2233  ...                    0                    0                    0   \n",
              "2380  ...                    0                    0                    0   \n",
              "...   ...                  ...                  ...                  ...   \n",
              "556   ...                    0                    0                    0   \n",
              "1785  ...                    0                    0                    0   \n",
              "1907  ...                    0                    0                    0   \n",
              "3216  ...                    0                    0                    0   \n",
              "3461  ...                    0                    0                    0   \n",
              "\n",
              "      company_location_TH  company_location_TR  company_location_UA  \\\n",
              "1661                    0                    0                    0   \n",
              "3414                    0                    0                    0   \n",
              "1829                    0                    0                    0   \n",
              "2233                    0                    0                    0   \n",
              "2380                    0                    0                    0   \n",
              "...                   ...                  ...                  ...   \n",
              "556                     0                    0                    0   \n",
              "1785                    0                    0                    0   \n",
              "1907                    0                    0                    0   \n",
              "3216                    0                    0                    0   \n",
              "3461                    0                    0                    0   \n",
              "\n",
              "      company_location_US  company_location_VN  company_size_M  company_size_S  \n",
              "1661                    1                    0               1               0  \n",
              "3414                    1                    0               1               0  \n",
              "1829                    1                    0               1               0  \n",
              "2233                    1                    0               1               0  \n",
              "2380                    0                    0               0               1  \n",
              "...                   ...                  ...             ...             ...  \n",
              "556                     1                    0               1               0  \n",
              "1785                    1                    0               1               0  \n",
              "1907                    1                    0               1               0  \n",
              "3216                    1                    0               1               0  \n",
              "3461                    1                    0               0               0  \n",
              "\n",
              "[2628 rows x 269 columns]"
            ],
            "text/html": [
              "\n",
              "  <div id=\"df-6ef30ea9-dd50-4fde-9223-0cc1e40da2eb\">\n",
              "    <div class=\"colab-df-container\">\n",
              "      <div>\n",
              "<style scoped>\n",
              "    .dataframe tbody tr th:only-of-type {\n",
              "        vertical-align: middle;\n",
              "    }\n",
              "\n",
              "    .dataframe tbody tr th {\n",
              "        vertical-align: top;\n",
              "    }\n",
              "\n",
              "    .dataframe thead th {\n",
              "        text-align: right;\n",
              "    }\n",
              "</style>\n",
              "<table border=\"1\" class=\"dataframe\">\n",
              "  <thead>\n",
              "    <tr style=\"text-align: right;\">\n",
              "      <th></th>\n",
              "      <th>work_year</th>\n",
              "      <th>remote_ratio</th>\n",
              "      <th>experience_level_EX</th>\n",
              "      <th>experience_level_MI</th>\n",
              "      <th>experience_level_SE</th>\n",
              "      <th>employment_type_FL</th>\n",
              "      <th>employment_type_FT</th>\n",
              "      <th>employment_type_PT</th>\n",
              "      <th>job_title_AI Developer</th>\n",
              "      <th>job_title_AI Programmer</th>\n",
              "      <th>...</th>\n",
              "      <th>company_location_SG</th>\n",
              "      <th>company_location_SI</th>\n",
              "      <th>company_location_SK</th>\n",
              "      <th>company_location_TH</th>\n",
              "      <th>company_location_TR</th>\n",
              "      <th>company_location_UA</th>\n",
              "      <th>company_location_US</th>\n",
              "      <th>company_location_VN</th>\n",
              "      <th>company_size_M</th>\n",
              "      <th>company_size_S</th>\n",
              "    </tr>\n",
              "  </thead>\n",
              "  <tbody>\n",
              "    <tr>\n",
              "      <th>1661</th>\n",
              "      <td>2023</td>\n",
              "      <td>0</td>\n",
              "      <td>0</td>\n",
              "      <td>1</td>\n",
              "      <td>0</td>\n",
              "      <td>0</td>\n",
              "      <td>1</td>\n",
              "      <td>0</td>\n",
              "      <td>0</td>\n",
              "      <td>0</td>\n",
              "      <td>...</td>\n",
              "      <td>0</td>\n",
              "      <td>0</td>\n",
              "      <td>0</td>\n",
              "      <td>0</td>\n",
              "      <td>0</td>\n",
              "      <td>0</td>\n",
              "      <td>1</td>\n",
              "      <td>0</td>\n",
              "      <td>1</td>\n",
              "      <td>0</td>\n",
              "    </tr>\n",
              "    <tr>\n",
              "      <th>3414</th>\n",
              "      <td>2022</td>\n",
              "      <td>100</td>\n",
              "      <td>0</td>\n",
              "      <td>0</td>\n",
              "      <td>1</td>\n",
              "      <td>0</td>\n",
              "      <td>1</td>\n",
              "      <td>0</td>\n",
              "      <td>0</td>\n",
              "      <td>0</td>\n",
              "      <td>...</td>\n",
              "      <td>0</td>\n",
              "      <td>0</td>\n",
              "      <td>0</td>\n",
              "      <td>0</td>\n",
              "      <td>0</td>\n",
              "      <td>0</td>\n",
              "      <td>1</td>\n",
              "      <td>0</td>\n",
              "      <td>1</td>\n",
              "      <td>0</td>\n",
              "    </tr>\n",
              "    <tr>\n",
              "      <th>1829</th>\n",
              "      <td>2022</td>\n",
              "      <td>0</td>\n",
              "      <td>0</td>\n",
              "      <td>0</td>\n",
              "      <td>1</td>\n",
              "      <td>0</td>\n",
              "      <td>1</td>\n",
              "      <td>0</td>\n",
              "      <td>0</td>\n",
              "      <td>0</td>\n",
              "      <td>...</td>\n",
              "      <td>0</td>\n",
              "      <td>0</td>\n",
              "      <td>0</td>\n",
              "      <td>0</td>\n",
              "      <td>0</td>\n",
              "      <td>0</td>\n",
              "      <td>1</td>\n",
              "      <td>0</td>\n",
              "      <td>1</td>\n",
              "      <td>0</td>\n",
              "    </tr>\n",
              "    <tr>\n",
              "      <th>2233</th>\n",
              "      <td>2022</td>\n",
              "      <td>100</td>\n",
              "      <td>0</td>\n",
              "      <td>0</td>\n",
              "      <td>1</td>\n",
              "      <td>0</td>\n",
              "      <td>1</td>\n",
              "      <td>0</td>\n",
              "      <td>0</td>\n",
              "      <td>0</td>\n",
              "      <td>...</td>\n",
              "      <td>0</td>\n",
              "      <td>0</td>\n",
              "      <td>0</td>\n",
              "      <td>0</td>\n",
              "      <td>0</td>\n",
              "      <td>0</td>\n",
              "      <td>1</td>\n",
              "      <td>0</td>\n",
              "      <td>1</td>\n",
              "      <td>0</td>\n",
              "    </tr>\n",
              "    <tr>\n",
              "      <th>2380</th>\n",
              "      <td>2022</td>\n",
              "      <td>100</td>\n",
              "      <td>0</td>\n",
              "      <td>0</td>\n",
              "      <td>0</td>\n",
              "      <td>0</td>\n",
              "      <td>1</td>\n",
              "      <td>0</td>\n",
              "      <td>0</td>\n",
              "      <td>0</td>\n",
              "      <td>...</td>\n",
              "      <td>0</td>\n",
              "      <td>0</td>\n",
              "      <td>0</td>\n",
              "      <td>0</td>\n",
              "      <td>0</td>\n",
              "      <td>0</td>\n",
              "      <td>0</td>\n",
              "      <td>0</td>\n",
              "      <td>0</td>\n",
              "      <td>1</td>\n",
              "    </tr>\n",
              "    <tr>\n",
              "      <th>...</th>\n",
              "      <td>...</td>\n",
              "      <td>...</td>\n",
              "      <td>...</td>\n",
              "      <td>...</td>\n",
              "      <td>...</td>\n",
              "      <td>...</td>\n",
              "      <td>...</td>\n",
              "      <td>...</td>\n",
              "      <td>...</td>\n",
              "      <td>...</td>\n",
              "      <td>...</td>\n",
              "      <td>...</td>\n",
              "      <td>...</td>\n",
              "      <td>...</td>\n",
              "      <td>...</td>\n",
              "      <td>...</td>\n",
              "      <td>...</td>\n",
              "      <td>...</td>\n",
              "      <td>...</td>\n",
              "      <td>...</td>\n",
              "      <td>...</td>\n",
              "    </tr>\n",
              "    <tr>\n",
              "      <th>556</th>\n",
              "      <td>2023</td>\n",
              "      <td>100</td>\n",
              "      <td>0</td>\n",
              "      <td>0</td>\n",
              "      <td>1</td>\n",
              "      <td>0</td>\n",
              "      <td>1</td>\n",
              "      <td>0</td>\n",
              "      <td>0</td>\n",
              "      <td>0</td>\n",
              "      <td>...</td>\n",
              "      <td>0</td>\n",
              "      <td>0</td>\n",
              "      <td>0</td>\n",
              "      <td>0</td>\n",
              "      <td>0</td>\n",
              "      <td>0</td>\n",
              "      <td>1</td>\n",
              "      <td>0</td>\n",
              "      <td>1</td>\n",
              "      <td>0</td>\n",
              "    </tr>\n",
              "    <tr>\n",
              "      <th>1785</th>\n",
              "      <td>2023</td>\n",
              "      <td>0</td>\n",
              "      <td>0</td>\n",
              "      <td>0</td>\n",
              "      <td>1</td>\n",
              "      <td>0</td>\n",
              "      <td>1</td>\n",
              "      <td>0</td>\n",
              "      <td>0</td>\n",
              "      <td>0</td>\n",
              "      <td>...</td>\n",
              "      <td>0</td>\n",
              "      <td>0</td>\n",
              "      <td>0</td>\n",
              "      <td>0</td>\n",
              "      <td>0</td>\n",
              "      <td>0</td>\n",
              "      <td>1</td>\n",
              "      <td>0</td>\n",
              "      <td>1</td>\n",
              "      <td>0</td>\n",
              "    </tr>\n",
              "    <tr>\n",
              "      <th>1907</th>\n",
              "      <td>2022</td>\n",
              "      <td>0</td>\n",
              "      <td>0</td>\n",
              "      <td>0</td>\n",
              "      <td>1</td>\n",
              "      <td>0</td>\n",
              "      <td>1</td>\n",
              "      <td>0</td>\n",
              "      <td>0</td>\n",
              "      <td>0</td>\n",
              "      <td>...</td>\n",
              "      <td>0</td>\n",
              "      <td>0</td>\n",
              "      <td>0</td>\n",
              "      <td>0</td>\n",
              "      <td>0</td>\n",
              "      <td>0</td>\n",
              "      <td>1</td>\n",
              "      <td>0</td>\n",
              "      <td>1</td>\n",
              "      <td>0</td>\n",
              "    </tr>\n",
              "    <tr>\n",
              "      <th>3216</th>\n",
              "      <td>2022</td>\n",
              "      <td>100</td>\n",
              "      <td>0</td>\n",
              "      <td>0</td>\n",
              "      <td>1</td>\n",
              "      <td>0</td>\n",
              "      <td>1</td>\n",
              "      <td>0</td>\n",
              "      <td>0</td>\n",
              "      <td>0</td>\n",
              "      <td>...</td>\n",
              "      <td>0</td>\n",
              "      <td>0</td>\n",
              "      <td>0</td>\n",
              "      <td>0</td>\n",
              "      <td>0</td>\n",
              "      <td>0</td>\n",
              "      <td>1</td>\n",
              "      <td>0</td>\n",
              "      <td>1</td>\n",
              "      <td>0</td>\n",
              "    </tr>\n",
              "    <tr>\n",
              "      <th>3461</th>\n",
              "      <td>2022</td>\n",
              "      <td>100</td>\n",
              "      <td>0</td>\n",
              "      <td>0</td>\n",
              "      <td>0</td>\n",
              "      <td>0</td>\n",
              "      <td>1</td>\n",
              "      <td>0</td>\n",
              "      <td>0</td>\n",
              "      <td>0</td>\n",
              "      <td>...</td>\n",
              "      <td>0</td>\n",
              "      <td>0</td>\n",
              "      <td>0</td>\n",
              "      <td>0</td>\n",
              "      <td>0</td>\n",
              "      <td>0</td>\n",
              "      <td>1</td>\n",
              "      <td>0</td>\n",
              "      <td>0</td>\n",
              "      <td>0</td>\n",
              "    </tr>\n",
              "  </tbody>\n",
              "</table>\n",
              "<p>2628 rows × 269 columns</p>\n",
              "</div>\n",
              "      <button class=\"colab-df-convert\" onclick=\"convertToInteractive('df-6ef30ea9-dd50-4fde-9223-0cc1e40da2eb')\"\n",
              "              title=\"Convert this dataframe to an interactive table.\"\n",
              "              style=\"display:none;\">\n",
              "        \n",
              "  <svg xmlns=\"http://www.w3.org/2000/svg\" height=\"24px\"viewBox=\"0 0 24 24\"\n",
              "       width=\"24px\">\n",
              "    <path d=\"M0 0h24v24H0V0z\" fill=\"none\"/>\n",
              "    <path d=\"M18.56 5.44l.94 2.06.94-2.06 2.06-.94-2.06-.94-.94-2.06-.94 2.06-2.06.94zm-11 1L8.5 8.5l.94-2.06 2.06-.94-2.06-.94L8.5 2.5l-.94 2.06-2.06.94zm10 10l.94 2.06.94-2.06 2.06-.94-2.06-.94-.94-2.06-.94 2.06-2.06.94z\"/><path d=\"M17.41 7.96l-1.37-1.37c-.4-.4-.92-.59-1.43-.59-.52 0-1.04.2-1.43.59L10.3 9.45l-7.72 7.72c-.78.78-.78 2.05 0 2.83L4 21.41c.39.39.9.59 1.41.59.51 0 1.02-.2 1.41-.59l7.78-7.78 2.81-2.81c.8-.78.8-2.07 0-2.86zM5.41 20L4 18.59l7.72-7.72 1.47 1.35L5.41 20z\"/>\n",
              "  </svg>\n",
              "      </button>\n",
              "      \n",
              "  <style>\n",
              "    .colab-df-container {\n",
              "      display:flex;\n",
              "      flex-wrap:wrap;\n",
              "      gap: 12px;\n",
              "    }\n",
              "\n",
              "    .colab-df-convert {\n",
              "      background-color: #E8F0FE;\n",
              "      border: none;\n",
              "      border-radius: 50%;\n",
              "      cursor: pointer;\n",
              "      display: none;\n",
              "      fill: #1967D2;\n",
              "      height: 32px;\n",
              "      padding: 0 0 0 0;\n",
              "      width: 32px;\n",
              "    }\n",
              "\n",
              "    .colab-df-convert:hover {\n",
              "      background-color: #E2EBFA;\n",
              "      box-shadow: 0px 1px 2px rgba(60, 64, 67, 0.3), 0px 1px 3px 1px rgba(60, 64, 67, 0.15);\n",
              "      fill: #174EA6;\n",
              "    }\n",
              "\n",
              "    [theme=dark] .colab-df-convert {\n",
              "      background-color: #3B4455;\n",
              "      fill: #D2E3FC;\n",
              "    }\n",
              "\n",
              "    [theme=dark] .colab-df-convert:hover {\n",
              "      background-color: #434B5C;\n",
              "      box-shadow: 0px 1px 3px 1px rgba(0, 0, 0, 0.15);\n",
              "      filter: drop-shadow(0px 1px 2px rgba(0, 0, 0, 0.3));\n",
              "      fill: #FFFFFF;\n",
              "    }\n",
              "  </style>\n",
              "\n",
              "      <script>\n",
              "        const buttonEl =\n",
              "          document.querySelector('#df-6ef30ea9-dd50-4fde-9223-0cc1e40da2eb button.colab-df-convert');\n",
              "        buttonEl.style.display =\n",
              "          google.colab.kernel.accessAllowed ? 'block' : 'none';\n",
              "\n",
              "        async function convertToInteractive(key) {\n",
              "          const element = document.querySelector('#df-6ef30ea9-dd50-4fde-9223-0cc1e40da2eb');\n",
              "          const dataTable =\n",
              "            await google.colab.kernel.invokeFunction('convertToInteractive',\n",
              "                                                     [key], {});\n",
              "          if (!dataTable) return;\n",
              "\n",
              "          const docLinkHtml = 'Like what you see? Visit the ' +\n",
              "            '<a target=\"_blank\" href=https://colab.research.google.com/notebooks/data_table.ipynb>data table notebook</a>'\n",
              "            + ' to learn more about interactive tables.';\n",
              "          element.innerHTML = '';\n",
              "          dataTable['output_type'] = 'display_data';\n",
              "          await google.colab.output.renderOutput(dataTable, element);\n",
              "          const docLink = document.createElement('div');\n",
              "          docLink.innerHTML = docLinkHtml;\n",
              "          element.appendChild(docLink);\n",
              "        }\n",
              "      </script>\n",
              "    </div>\n",
              "  </div>\n",
              "  "
            ]
          },
          "metadata": {},
          "execution_count": 47
        }
      ]
    },
    {
      "cell_type": "code",
      "source": [
        "grid_search.fit(X_train, y_train)"
      ],
      "metadata": {
        "colab": {
          "base_uri": "https://localhost:8080/",
          "height": 118
        },
        "id": "ut0ke-R_-beo",
        "outputId": "4e7fff8e-52dc-4cc1-c902-05941fa9ec7e"
      },
      "id": "ut0ke-R_-beo",
      "execution_count": 48,
      "outputs": [
        {
          "output_type": "execute_result",
          "data": {
            "text/plain": [
              "GridSearchCV(cv=4,\n",
              "             estimator=XGBRegressor(base_score=None, booster=None,\n",
              "                                    callbacks=None, colsample_bylevel=None,\n",
              "                                    colsample_bynode=None,\n",
              "                                    colsample_bytree=None,\n",
              "                                    early_stopping_rounds=None,\n",
              "                                    enable_categorical=False, eval_metric=None,\n",
              "                                    feature_types=None, gamma=None, gpu_id=None,\n",
              "                                    grow_policy=None, importance_type=None,\n",
              "                                    interaction_constraints=None,\n",
              "                                    learning_rate=None, m...\n",
              "                                    max_cat_to_onehot=None, max_delta_step=None,\n",
              "                                    max_depth=None, max_leaves=None,\n",
              "                                    min_child_weight=None, missing=nan,\n",
              "                                    monotone_constraints=None, n_estimators=100,\n",
              "                                    n_jobs=None, num_parallel_tree=None,\n",
              "                                    predictor=None, random_state=None, ...),\n",
              "             n_jobs=-1,\n",
              "             param_grid={'learning_rate': (0.03, 0.1), 'max_depth': [4, 6, 10],\n",
              "                         'min_child_weight': [1, 3, 5, 7]},\n",
              "             scoring='neg_mean_squared_error')"
            ],
            "text/html": [
              "<style>#sk-container-id-2 {color: black;background-color: white;}#sk-container-id-2 pre{padding: 0;}#sk-container-id-2 div.sk-toggleable {background-color: white;}#sk-container-id-2 label.sk-toggleable__label {cursor: pointer;display: block;width: 100%;margin-bottom: 0;padding: 0.3em;box-sizing: border-box;text-align: center;}#sk-container-id-2 label.sk-toggleable__label-arrow:before {content: \"▸\";float: left;margin-right: 0.25em;color: #696969;}#sk-container-id-2 label.sk-toggleable__label-arrow:hover:before {color: black;}#sk-container-id-2 div.sk-estimator:hover label.sk-toggleable__label-arrow:before {color: black;}#sk-container-id-2 div.sk-toggleable__content {max-height: 0;max-width: 0;overflow: hidden;text-align: left;background-color: #f0f8ff;}#sk-container-id-2 div.sk-toggleable__content pre {margin: 0.2em;color: black;border-radius: 0.25em;background-color: #f0f8ff;}#sk-container-id-2 input.sk-toggleable__control:checked~div.sk-toggleable__content {max-height: 200px;max-width: 100%;overflow: auto;}#sk-container-id-2 input.sk-toggleable__control:checked~label.sk-toggleable__label-arrow:before {content: \"▾\";}#sk-container-id-2 div.sk-estimator input.sk-toggleable__control:checked~label.sk-toggleable__label {background-color: #d4ebff;}#sk-container-id-2 div.sk-label input.sk-toggleable__control:checked~label.sk-toggleable__label {background-color: #d4ebff;}#sk-container-id-2 input.sk-hidden--visually {border: 0;clip: rect(1px 1px 1px 1px);clip: rect(1px, 1px, 1px, 1px);height: 1px;margin: -1px;overflow: hidden;padding: 0;position: absolute;width: 1px;}#sk-container-id-2 div.sk-estimator {font-family: monospace;background-color: #f0f8ff;border: 1px dotted black;border-radius: 0.25em;box-sizing: border-box;margin-bottom: 0.5em;}#sk-container-id-2 div.sk-estimator:hover {background-color: #d4ebff;}#sk-container-id-2 div.sk-parallel-item::after {content: \"\";width: 100%;border-bottom: 1px solid gray;flex-grow: 1;}#sk-container-id-2 div.sk-label:hover label.sk-toggleable__label {background-color: #d4ebff;}#sk-container-id-2 div.sk-serial::before {content: \"\";position: absolute;border-left: 1px solid gray;box-sizing: border-box;top: 0;bottom: 0;left: 50%;z-index: 0;}#sk-container-id-2 div.sk-serial {display: flex;flex-direction: column;align-items: center;background-color: white;padding-right: 0.2em;padding-left: 0.2em;position: relative;}#sk-container-id-2 div.sk-item {position: relative;z-index: 1;}#sk-container-id-2 div.sk-parallel {display: flex;align-items: stretch;justify-content: center;background-color: white;position: relative;}#sk-container-id-2 div.sk-item::before, #sk-container-id-2 div.sk-parallel-item::before {content: \"\";position: absolute;border-left: 1px solid gray;box-sizing: border-box;top: 0;bottom: 0;left: 50%;z-index: -1;}#sk-container-id-2 div.sk-parallel-item {display: flex;flex-direction: column;z-index: 1;position: relative;background-color: white;}#sk-container-id-2 div.sk-parallel-item:first-child::after {align-self: flex-end;width: 50%;}#sk-container-id-2 div.sk-parallel-item:last-child::after {align-self: flex-start;width: 50%;}#sk-container-id-2 div.sk-parallel-item:only-child::after {width: 0;}#sk-container-id-2 div.sk-dashed-wrapped {border: 1px dashed gray;margin: 0 0.4em 0.5em 0.4em;box-sizing: border-box;padding-bottom: 0.4em;background-color: white;}#sk-container-id-2 div.sk-label label {font-family: monospace;font-weight: bold;display: inline-block;line-height: 1.2em;}#sk-container-id-2 div.sk-label-container {text-align: center;}#sk-container-id-2 div.sk-container {/* jupyter's `normalize.less` sets `[hidden] { display: none; }` but bootstrap.min.css set `[hidden] { display: none !important; }` so we also need the `!important` here to be able to override the default hidden behavior on the sphinx rendered scikit-learn.org. See: https://github.com/scikit-learn/scikit-learn/issues/21755 */display: inline-block !important;position: relative;}#sk-container-id-2 div.sk-text-repr-fallback {display: none;}</style><div id=\"sk-container-id-2\" class=\"sk-top-container\"><div class=\"sk-text-repr-fallback\"><pre>GridSearchCV(cv=4,\n",
              "             estimator=XGBRegressor(base_score=None, booster=None,\n",
              "                                    callbacks=None, colsample_bylevel=None,\n",
              "                                    colsample_bynode=None,\n",
              "                                    colsample_bytree=None,\n",
              "                                    early_stopping_rounds=None,\n",
              "                                    enable_categorical=False, eval_metric=None,\n",
              "                                    feature_types=None, gamma=None, gpu_id=None,\n",
              "                                    grow_policy=None, importance_type=None,\n",
              "                                    interaction_constraints=None,\n",
              "                                    learning_rate=None, m...\n",
              "                                    max_cat_to_onehot=None, max_delta_step=None,\n",
              "                                    max_depth=None, max_leaves=None,\n",
              "                                    min_child_weight=None, missing=nan,\n",
              "                                    monotone_constraints=None, n_estimators=100,\n",
              "                                    n_jobs=None, num_parallel_tree=None,\n",
              "                                    predictor=None, random_state=None, ...),\n",
              "             n_jobs=-1,\n",
              "             param_grid={&#x27;learning_rate&#x27;: (0.03, 0.1), &#x27;max_depth&#x27;: [4, 6, 10],\n",
              "                         &#x27;min_child_weight&#x27;: [1, 3, 5, 7]},\n",
              "             scoring=&#x27;neg_mean_squared_error&#x27;)</pre><b>In a Jupyter environment, please rerun this cell to show the HTML representation or trust the notebook. <br />On GitHub, the HTML representation is unable to render, please try loading this page with nbviewer.org.</b></div><div class=\"sk-container\" hidden><div class=\"sk-item sk-dashed-wrapped\"><div class=\"sk-label-container\"><div class=\"sk-label sk-toggleable\"><input class=\"sk-toggleable__control sk-hidden--visually\" id=\"sk-estimator-id-2\" type=\"checkbox\" ><label for=\"sk-estimator-id-2\" class=\"sk-toggleable__label sk-toggleable__label-arrow\">GridSearchCV</label><div class=\"sk-toggleable__content\"><pre>GridSearchCV(cv=4,\n",
              "             estimator=XGBRegressor(base_score=None, booster=None,\n",
              "                                    callbacks=None, colsample_bylevel=None,\n",
              "                                    colsample_bynode=None,\n",
              "                                    colsample_bytree=None,\n",
              "                                    early_stopping_rounds=None,\n",
              "                                    enable_categorical=False, eval_metric=None,\n",
              "                                    feature_types=None, gamma=None, gpu_id=None,\n",
              "                                    grow_policy=None, importance_type=None,\n",
              "                                    interaction_constraints=None,\n",
              "                                    learning_rate=None, m...\n",
              "                                    max_cat_to_onehot=None, max_delta_step=None,\n",
              "                                    max_depth=None, max_leaves=None,\n",
              "                                    min_child_weight=None, missing=nan,\n",
              "                                    monotone_constraints=None, n_estimators=100,\n",
              "                                    n_jobs=None, num_parallel_tree=None,\n",
              "                                    predictor=None, random_state=None, ...),\n",
              "             n_jobs=-1,\n",
              "             param_grid={&#x27;learning_rate&#x27;: (0.03, 0.1), &#x27;max_depth&#x27;: [4, 6, 10],\n",
              "                         &#x27;min_child_weight&#x27;: [1, 3, 5, 7]},\n",
              "             scoring=&#x27;neg_mean_squared_error&#x27;)</pre></div></div></div><div class=\"sk-parallel\"><div class=\"sk-parallel-item\"><div class=\"sk-item\"><div class=\"sk-label-container\"><div class=\"sk-label sk-toggleable\"><input class=\"sk-toggleable__control sk-hidden--visually\" id=\"sk-estimator-id-3\" type=\"checkbox\" ><label for=\"sk-estimator-id-3\" class=\"sk-toggleable__label sk-toggleable__label-arrow\">estimator: XGBRegressor</label><div class=\"sk-toggleable__content\"><pre>XGBRegressor(base_score=None, booster=None, callbacks=None,\n",
              "             colsample_bylevel=None, colsample_bynode=None,\n",
              "             colsample_bytree=None, early_stopping_rounds=None,\n",
              "             enable_categorical=False, eval_metric=None, feature_types=None,\n",
              "             gamma=None, gpu_id=None, grow_policy=None, importance_type=None,\n",
              "             interaction_constraints=None, learning_rate=None, max_bin=None,\n",
              "             max_cat_threshold=None, max_cat_to_onehot=None,\n",
              "             max_delta_step=None, max_depth=None, max_leaves=None,\n",
              "             min_child_weight=None, missing=nan, monotone_constraints=None,\n",
              "             n_estimators=100, n_jobs=None, num_parallel_tree=None,\n",
              "             predictor=None, random_state=None, ...)</pre></div></div></div><div class=\"sk-serial\"><div class=\"sk-item\"><div class=\"sk-estimator sk-toggleable\"><input class=\"sk-toggleable__control sk-hidden--visually\" id=\"sk-estimator-id-4\" type=\"checkbox\" ><label for=\"sk-estimator-id-4\" class=\"sk-toggleable__label sk-toggleable__label-arrow\">XGBRegressor</label><div class=\"sk-toggleable__content\"><pre>XGBRegressor(base_score=None, booster=None, callbacks=None,\n",
              "             colsample_bylevel=None, colsample_bynode=None,\n",
              "             colsample_bytree=None, early_stopping_rounds=None,\n",
              "             enable_categorical=False, eval_metric=None, feature_types=None,\n",
              "             gamma=None, gpu_id=None, grow_policy=None, importance_type=None,\n",
              "             interaction_constraints=None, learning_rate=None, max_bin=None,\n",
              "             max_cat_threshold=None, max_cat_to_onehot=None,\n",
              "             max_delta_step=None, max_depth=None, max_leaves=None,\n",
              "             min_child_weight=None, missing=nan, monotone_constraints=None,\n",
              "             n_estimators=100, n_jobs=None, num_parallel_tree=None,\n",
              "             predictor=None, random_state=None, ...)</pre></div></div></div></div></div></div></div></div></div></div>"
            ]
          },
          "metadata": {},
          "execution_count": 48
        }
      ]
    },
    {
      "cell_type": "code",
      "source": [
        "grid_search.best_params_"
      ],
      "metadata": {
        "colab": {
          "base_uri": "https://localhost:8080/"
        },
        "id": "OThMfSll-bkl",
        "outputId": "2fc0c6ca-6f2d-4710-9446-30b9076d8255"
      },
      "id": "OThMfSll-bkl",
      "execution_count": 49,
      "outputs": [
        {
          "output_type": "execute_result",
          "data": {
            "text/plain": [
              "{'learning_rate': 0.1, 'max_depth': 4, 'min_child_weight': 1}"
            ]
          },
          "metadata": {},
          "execution_count": 49
        }
      ]
    },
    {
      "cell_type": "code",
      "source": [
        "model = XGBRegressor(learning_rate = 0.1, max_depth = 6, min_child_weight = 1)\n",
        "model.fit(X_train, y_train)\n",
        "\n",
        "print('mean absolute percentage error: ',mean_absolute_percentage_error(y_val, model.predict(np.array(X_val))))\n",
        "print('mean squared error: ', np.sqrt(mean_squared_error(y_val, model.predict(np.array(X_val)))))"
      ],
      "metadata": {
        "colab": {
          "base_uri": "https://localhost:8080/"
        },
        "id": "LtpME95dRIwA",
        "outputId": "503ad015-9d45-49ca-9023-131e777d94e9"
      },
      "id": "LtpME95dRIwA",
      "execution_count": 50,
      "outputs": [
        {
          "output_type": "stream",
          "name": "stdout",
          "text": [
            "mean absolute percentage error:  0.4013125338047348\n",
            "mean squared error:  49281.91256590011\n"
          ]
        }
      ]
    },
    {
      "cell_type": "markdown",
      "id": "a881ad9d",
      "metadata": {
        "id": "a881ad9d"
      },
      "source": [
        "## Задание 9 (0.5 балла)"
      ]
    },
    {
      "cell_type": "markdown",
      "id": "a35f87a6",
      "metadata": {
        "id": "a35f87a6"
      },
      "source": [
        "Теперь используете исключительно lightgbm. Обучить модель. Подберите оптимальные гиперпараметры. Закодируйте категориальные переменные, как хотите. Оцените качество итоговой модели, скорость обучения и скорость предсказания."
      ]
    },
    {
      "cell_type": "code",
      "source": [
        "pip install lightgbm"
      ],
      "metadata": {
        "colab": {
          "base_uri": "https://localhost:8080/"
        },
        "id": "-pwZvsefRta2",
        "outputId": "43b183e6-ee49-4059-867e-b05bd1bb2175"
      },
      "id": "-pwZvsefRta2",
      "execution_count": 51,
      "outputs": [
        {
          "output_type": "stream",
          "name": "stdout",
          "text": [
            "Looking in indexes: https://pypi.org/simple, https://us-python.pkg.dev/colab-wheels/public/simple/\n",
            "Requirement already satisfied: lightgbm in /usr/local/lib/python3.10/dist-packages (3.3.5)\n",
            "Requirement already satisfied: wheel in /usr/local/lib/python3.10/dist-packages (from lightgbm) (0.40.0)\n",
            "Requirement already satisfied: numpy in /usr/local/lib/python3.10/dist-packages (from lightgbm) (1.22.4)\n",
            "Requirement already satisfied: scipy in /usr/local/lib/python3.10/dist-packages (from lightgbm) (1.10.1)\n",
            "Requirement already satisfied: scikit-learn!=0.22.0 in /usr/local/lib/python3.10/dist-packages (from lightgbm) (1.2.2)\n",
            "Requirement already satisfied: joblib>=1.1.1 in /usr/local/lib/python3.10/dist-packages (from scikit-learn!=0.22.0->lightgbm) (1.2.0)\n",
            "Requirement already satisfied: threadpoolctl>=2.0.0 in /usr/local/lib/python3.10/dist-packages (from scikit-learn!=0.22.0->lightgbm) (3.1.0)\n"
          ]
        }
      ]
    },
    {
      "cell_type": "code",
      "source": [
        "import lightgbm\n",
        "from lightgbm import LGBMRegressor"
      ],
      "metadata": {
        "id": "-Qpl9wE7RvtD"
      },
      "id": "-Qpl9wE7RvtD",
      "execution_count": 52,
      "outputs": []
    },
    {
      "cell_type": "code",
      "source": [
        "model = LGBMRegressor()"
      ],
      "metadata": {
        "id": "DXmFSAsIR286"
      },
      "id": "DXmFSAsIR286",
      "execution_count": 53,
      "outputs": []
    },
    {
      "cell_type": "code",
      "source": [
        "grid={\"learning_rate\": (0.03, 0.10),\n",
        "                        \"max_depth\": [4, 6, 10],\n",
        "                        \"min_child_weight\": [ 1, 3, 5, 7],\n",
        "      }"
      ],
      "metadata": {
        "id": "UvhQAeIQR5nm"
      },
      "id": "UvhQAeIQR5nm",
      "execution_count": 54,
      "outputs": []
    },
    {
      "cell_type": "code",
      "source": [
        "grid_search = GridSearchCV(\n",
        "    estimator=model,\n",
        "    param_grid= grid,\n",
        "    scoring = 'neg_mean_squared_error',\n",
        "    cv = 4,\n",
        "    n_jobs = -1,\n",
        "    verbose = 0\n",
        ")"
      ],
      "metadata": {
        "id": "_mhTzrx2SO2P"
      },
      "id": "_mhTzrx2SO2P",
      "execution_count": 55,
      "outputs": []
    },
    {
      "cell_type": "code",
      "source": [
        "grid_search.fit(X_train, y_train)"
      ],
      "metadata": {
        "colab": {
          "base_uri": "https://localhost:8080/",
          "height": 118
        },
        "id": "oSRd8WWYSQIP",
        "outputId": "290e4426-c6bd-4c1e-f9b2-42273b8cff6b"
      },
      "id": "oSRd8WWYSQIP",
      "execution_count": 56,
      "outputs": [
        {
          "output_type": "execute_result",
          "data": {
            "text/plain": [
              "GridSearchCV(cv=4, estimator=LGBMRegressor(), n_jobs=-1,\n",
              "             param_grid={'learning_rate': (0.03, 0.1), 'max_depth': [4, 6, 10],\n",
              "                         'min_child_weight': [1, 3, 5, 7]},\n",
              "             scoring='neg_mean_squared_error')"
            ],
            "text/html": [
              "<style>#sk-container-id-3 {color: black;background-color: white;}#sk-container-id-3 pre{padding: 0;}#sk-container-id-3 div.sk-toggleable {background-color: white;}#sk-container-id-3 label.sk-toggleable__label {cursor: pointer;display: block;width: 100%;margin-bottom: 0;padding: 0.3em;box-sizing: border-box;text-align: center;}#sk-container-id-3 label.sk-toggleable__label-arrow:before {content: \"▸\";float: left;margin-right: 0.25em;color: #696969;}#sk-container-id-3 label.sk-toggleable__label-arrow:hover:before {color: black;}#sk-container-id-3 div.sk-estimator:hover label.sk-toggleable__label-arrow:before {color: black;}#sk-container-id-3 div.sk-toggleable__content {max-height: 0;max-width: 0;overflow: hidden;text-align: left;background-color: #f0f8ff;}#sk-container-id-3 div.sk-toggleable__content pre {margin: 0.2em;color: black;border-radius: 0.25em;background-color: #f0f8ff;}#sk-container-id-3 input.sk-toggleable__control:checked~div.sk-toggleable__content {max-height: 200px;max-width: 100%;overflow: auto;}#sk-container-id-3 input.sk-toggleable__control:checked~label.sk-toggleable__label-arrow:before {content: \"▾\";}#sk-container-id-3 div.sk-estimator input.sk-toggleable__control:checked~label.sk-toggleable__label {background-color: #d4ebff;}#sk-container-id-3 div.sk-label input.sk-toggleable__control:checked~label.sk-toggleable__label {background-color: #d4ebff;}#sk-container-id-3 input.sk-hidden--visually {border: 0;clip: rect(1px 1px 1px 1px);clip: rect(1px, 1px, 1px, 1px);height: 1px;margin: -1px;overflow: hidden;padding: 0;position: absolute;width: 1px;}#sk-container-id-3 div.sk-estimator {font-family: monospace;background-color: #f0f8ff;border: 1px dotted black;border-radius: 0.25em;box-sizing: border-box;margin-bottom: 0.5em;}#sk-container-id-3 div.sk-estimator:hover {background-color: #d4ebff;}#sk-container-id-3 div.sk-parallel-item::after {content: \"\";width: 100%;border-bottom: 1px solid gray;flex-grow: 1;}#sk-container-id-3 div.sk-label:hover label.sk-toggleable__label {background-color: #d4ebff;}#sk-container-id-3 div.sk-serial::before {content: \"\";position: absolute;border-left: 1px solid gray;box-sizing: border-box;top: 0;bottom: 0;left: 50%;z-index: 0;}#sk-container-id-3 div.sk-serial {display: flex;flex-direction: column;align-items: center;background-color: white;padding-right: 0.2em;padding-left: 0.2em;position: relative;}#sk-container-id-3 div.sk-item {position: relative;z-index: 1;}#sk-container-id-3 div.sk-parallel {display: flex;align-items: stretch;justify-content: center;background-color: white;position: relative;}#sk-container-id-3 div.sk-item::before, #sk-container-id-3 div.sk-parallel-item::before {content: \"\";position: absolute;border-left: 1px solid gray;box-sizing: border-box;top: 0;bottom: 0;left: 50%;z-index: -1;}#sk-container-id-3 div.sk-parallel-item {display: flex;flex-direction: column;z-index: 1;position: relative;background-color: white;}#sk-container-id-3 div.sk-parallel-item:first-child::after {align-self: flex-end;width: 50%;}#sk-container-id-3 div.sk-parallel-item:last-child::after {align-self: flex-start;width: 50%;}#sk-container-id-3 div.sk-parallel-item:only-child::after {width: 0;}#sk-container-id-3 div.sk-dashed-wrapped {border: 1px dashed gray;margin: 0 0.4em 0.5em 0.4em;box-sizing: border-box;padding-bottom: 0.4em;background-color: white;}#sk-container-id-3 div.sk-label label {font-family: monospace;font-weight: bold;display: inline-block;line-height: 1.2em;}#sk-container-id-3 div.sk-label-container {text-align: center;}#sk-container-id-3 div.sk-container {/* jupyter's `normalize.less` sets `[hidden] { display: none; }` but bootstrap.min.css set `[hidden] { display: none !important; }` so we also need the `!important` here to be able to override the default hidden behavior on the sphinx rendered scikit-learn.org. See: https://github.com/scikit-learn/scikit-learn/issues/21755 */display: inline-block !important;position: relative;}#sk-container-id-3 div.sk-text-repr-fallback {display: none;}</style><div id=\"sk-container-id-3\" class=\"sk-top-container\"><div class=\"sk-text-repr-fallback\"><pre>GridSearchCV(cv=4, estimator=LGBMRegressor(), n_jobs=-1,\n",
              "             param_grid={&#x27;learning_rate&#x27;: (0.03, 0.1), &#x27;max_depth&#x27;: [4, 6, 10],\n",
              "                         &#x27;min_child_weight&#x27;: [1, 3, 5, 7]},\n",
              "             scoring=&#x27;neg_mean_squared_error&#x27;)</pre><b>In a Jupyter environment, please rerun this cell to show the HTML representation or trust the notebook. <br />On GitHub, the HTML representation is unable to render, please try loading this page with nbviewer.org.</b></div><div class=\"sk-container\" hidden><div class=\"sk-item sk-dashed-wrapped\"><div class=\"sk-label-container\"><div class=\"sk-label sk-toggleable\"><input class=\"sk-toggleable__control sk-hidden--visually\" id=\"sk-estimator-id-5\" type=\"checkbox\" ><label for=\"sk-estimator-id-5\" class=\"sk-toggleable__label sk-toggleable__label-arrow\">GridSearchCV</label><div class=\"sk-toggleable__content\"><pre>GridSearchCV(cv=4, estimator=LGBMRegressor(), n_jobs=-1,\n",
              "             param_grid={&#x27;learning_rate&#x27;: (0.03, 0.1), &#x27;max_depth&#x27;: [4, 6, 10],\n",
              "                         &#x27;min_child_weight&#x27;: [1, 3, 5, 7]},\n",
              "             scoring=&#x27;neg_mean_squared_error&#x27;)</pre></div></div></div><div class=\"sk-parallel\"><div class=\"sk-parallel-item\"><div class=\"sk-item\"><div class=\"sk-label-container\"><div class=\"sk-label sk-toggleable\"><input class=\"sk-toggleable__control sk-hidden--visually\" id=\"sk-estimator-id-6\" type=\"checkbox\" ><label for=\"sk-estimator-id-6\" class=\"sk-toggleable__label sk-toggleable__label-arrow\">estimator: LGBMRegressor</label><div class=\"sk-toggleable__content\"><pre>LGBMRegressor()</pre></div></div></div><div class=\"sk-serial\"><div class=\"sk-item\"><div class=\"sk-estimator sk-toggleable\"><input class=\"sk-toggleable__control sk-hidden--visually\" id=\"sk-estimator-id-7\" type=\"checkbox\" ><label for=\"sk-estimator-id-7\" class=\"sk-toggleable__label sk-toggleable__label-arrow\">LGBMRegressor</label><div class=\"sk-toggleable__content\"><pre>LGBMRegressor()</pre></div></div></div></div></div></div></div></div></div></div>"
            ]
          },
          "metadata": {},
          "execution_count": 56
        }
      ]
    },
    {
      "cell_type": "code",
      "source": [
        "grid_search.best_params_"
      ],
      "metadata": {
        "colab": {
          "base_uri": "https://localhost:8080/"
        },
        "id": "uYEuxRYCSSpe",
        "outputId": "fb5ca3a6-769d-4bb1-8b05-07b8451d289c"
      },
      "id": "uYEuxRYCSSpe",
      "execution_count": 57,
      "outputs": [
        {
          "output_type": "execute_result",
          "data": {
            "text/plain": [
              "{'learning_rate': 0.1, 'max_depth': 4, 'min_child_weight': 1}"
            ]
          },
          "metadata": {},
          "execution_count": 57
        }
      ]
    },
    {
      "cell_type": "code",
      "source": [
        "model = LGBMRegressor(learning_rate = 0.1, max_depth = 6, min_child_weight = 1)\n",
        "model.fit(X_train, y_train)\n",
        "\n",
        "print('mean absolute percentage error: ',mean_absolute_percentage_error(y_val, model.predict(np.array(X_val))))\n",
        "print('mean squared error: ', np.sqrt(mean_squared_error(y_val, model.predict(np.array(X_val)))))"
      ],
      "metadata": {
        "colab": {
          "base_uri": "https://localhost:8080/"
        },
        "id": "-tC5WxCHST4i",
        "outputId": "1112df82-e242-4b85-f3a3-0c320048cb1e"
      },
      "id": "-tC5WxCHST4i",
      "execution_count": 58,
      "outputs": [
        {
          "output_type": "stream",
          "name": "stdout",
          "text": [
            "mean absolute percentage error:  0.4063914470527593\n",
            "mean squared error:  49807.38580508824\n"
          ]
        }
      ]
    },
    {
      "cell_type": "markdown",
      "id": "7c56d873",
      "metadata": {
        "id": "7c56d873"
      },
      "source": [
        "## Задание 10 (0.5 балла)"
      ]
    },
    {
      "cell_type": "markdown",
      "id": "3a2c1148",
      "metadata": {
        "id": "3a2c1148"
      },
      "source": [
        "Сделайте выводы про модели бустинга, какая из моделей показала лучший результат по качеству, скорости обучения и скорости предсказания"
      ]
    },
    {
      "cell_type": "code",
      "source": [
        "%%time\n",
        "for i in range(10):\n",
        "  model = LGBMRegressor(learning_rate = 0.1, max_depth = 6, min_child_weight = 1)\n",
        "  model.fit(X_train, y_train)"
      ],
      "metadata": {
        "colab": {
          "base_uri": "https://localhost:8080/"
        },
        "id": "8q-Eg7emUnZY",
        "outputId": "518e1985-6632-48a6-da64-715cbcd053b9"
      },
      "id": "8q-Eg7emUnZY",
      "execution_count": 59,
      "outputs": [
        {
          "output_type": "stream",
          "name": "stdout",
          "text": [
            "CPU times: user 2.81 s, sys: 38.5 ms, total: 2.85 s\n",
            "Wall time: 3.24 s\n"
          ]
        }
      ]
    },
    {
      "cell_type": "code",
      "source": [
        "%%time\n",
        "print('mean absolute percentage error: ',mean_absolute_percentage_error(y_val, model.predict(np.array(X_val))))\n",
        "print('mean squared error: ', np.sqrt(mean_squared_error(y_val, model.predict(np.array(X_val)))))"
      ],
      "metadata": {
        "colab": {
          "base_uri": "https://localhost:8080/"
        },
        "id": "az4noVi2U0fq",
        "outputId": "54abaf33-cd09-4d70-e9ec-581359ff1688"
      },
      "id": "az4noVi2U0fq",
      "execution_count": 60,
      "outputs": [
        {
          "output_type": "stream",
          "name": "stdout",
          "text": [
            "mean absolute percentage error:  0.4063914470527593\n",
            "mean squared error:  49807.38580508824\n",
            "CPU times: user 57.1 ms, sys: 0 ns, total: 57.1 ms\n",
            "Wall time: 68.6 ms\n"
          ]
        }
      ]
    },
    {
      "cell_type": "code",
      "source": [
        "%%time\n",
        "for i in range(10):\n",
        "  model = XGBRegressor(learning_rate = 0.1, max_depth = 6, min_child_weight = 1)\n",
        "  model.fit(X_train, y_train)"
      ],
      "metadata": {
        "colab": {
          "base_uri": "https://localhost:8080/"
        },
        "id": "NhbEkmtZUEqE",
        "outputId": "348fbe37-dca1-4569-a12d-22ac19b54f1a"
      },
      "id": "NhbEkmtZUEqE",
      "execution_count": 61,
      "outputs": [
        {
          "output_type": "stream",
          "name": "stdout",
          "text": [
            "CPU times: user 1min 4s, sys: 143 ms, total: 1min 4s\n",
            "Wall time: 46.8 s\n"
          ]
        }
      ]
    },
    {
      "cell_type": "code",
      "source": [
        "%%time\n",
        "print('mean absolute percentage error: ',mean_absolute_percentage_error(y_val, model.predict(np.array(X_val))))\n",
        "print('mean squared error: ', np.sqrt(mean_squared_error(y_val, model.predict(np.array(X_val)))))"
      ],
      "metadata": {
        "colab": {
          "base_uri": "https://localhost:8080/"
        },
        "id": "FX1GZ_qVVAIl",
        "outputId": "b69905d6-d2d2-4db6-c183-0a6da064ab34"
      },
      "id": "FX1GZ_qVVAIl",
      "execution_count": 62,
      "outputs": [
        {
          "output_type": "stream",
          "name": "stdout",
          "text": [
            "mean absolute percentage error:  0.4013125338047348\n",
            "mean squared error:  49281.91256590011\n",
            "CPU times: user 26.2 ms, sys: 1.01 ms, total: 27.2 ms\n",
            "Wall time: 15.3 ms\n"
          ]
        }
      ]
    },
    {
      "cell_type": "code",
      "source": [
        "%%time\n",
        "for i in range(10):\n",
        "  model = CatBoostRegressor(verbose=False, depth = 6, l2_leaf_reg = 3, learning_rate = 0.03)\n",
        "  model.fit(X_train, y_train)"
      ],
      "metadata": {
        "colab": {
          "base_uri": "https://localhost:8080/"
        },
        "id": "XAs0J7Q1Vfa2",
        "outputId": "52e9dfc2-4630-474e-87a3-5142852e8f89"
      },
      "id": "XAs0J7Q1Vfa2",
      "execution_count": 63,
      "outputs": [
        {
          "output_type": "stream",
          "name": "stdout",
          "text": [
            "CPU times: user 24.6 s, sys: 2.98 s, total: 27.6 s\n",
            "Wall time: 16.3 s\n"
          ]
        }
      ]
    },
    {
      "cell_type": "code",
      "source": [
        "print('mean absolute percentage error: ',mean_absolute_percentage_error(y_val, model.predict(np.array(X_val))))\n",
        "print('mean squared error: ', np.sqrt(mean_squared_error(y_val, model.predict(np.array(X_val)))))"
      ],
      "metadata": {
        "colab": {
          "base_uri": "https://localhost:8080/"
        },
        "id": "o9DjfWBqWELg",
        "outputId": "b1dbbebc-4e46-4f49-93f1-24750bd55606"
      },
      "id": "o9DjfWBqWELg",
      "execution_count": 64,
      "outputs": [
        {
          "output_type": "stream",
          "name": "stdout",
          "text": [
            "mean absolute percentage error:  0.4063603308013601\n",
            "mean squared error:  49704.2119864477\n"
          ]
        }
      ]
    },
    {
      "cell_type": "markdown",
      "source": [
        "LGBMRegressor оказался самым быстрым в обучении (~1.07 сек), следом идёт Catbost (~20.5 сек) и заканчивает тройку XGB (~57 сек). Конечно, такие тесты не совсем корректны, у моделей были различные параметры, оптимальные только для них, однако такие тесты показывают они показывают хотя бы приближённую картину.\n",
        "\n",
        "Что же касается точности, то тут все модели показали одинаковый результат"
      ],
      "metadata": {
        "id": "uMJHLhCxWuuK"
      },
      "id": "uMJHLhCxWuuK"
    }
  ],
  "metadata": {
    "kernelspec": {
      "display_name": "Python 3 (ipykernel)",
      "language": "python",
      "name": "python3"
    },
    "language_info": {
      "codemirror_mode": {
        "name": "ipython",
        "version": 3
      },
      "file_extension": ".py",
      "mimetype": "text/x-python",
      "name": "python",
      "nbconvert_exporter": "python",
      "pygments_lexer": "ipython3",
      "version": "3.9.1"
    },
    "colab": {
      "provenance": [],
      "toc_visible": true
    },
    "widgets": {
      "application/vnd.jupyter.widget-state+json": {
        "068df8dfd8b249818ad0e6b9bcf0904f": {
          "model_module": "catboost-widget",
          "model_name": "CatboostWidgetModel",
          "model_module_version": "^1.0.0",
          "state": {
            "_dom_classes": [],
            "_model_module": "catboost-widget",
            "_model_module_version": "^1.0.0",
            "_model_name": "CatboostWidgetModel",
            "_view_count": null,
            "_view_module": "catboost-widget",
            "_view_module_version": "^1.0.0",
            "_view_name": "CatboostWidgetView",
            "data": {
              "catboost_info/fold-0": {
                "path": "catboost_info/fold-0",
                "name": "fold-0",
                "content": {
                  "passed_iterations": 9,
                  "total_iterations": 10,
                  "data": {
                    "iterations": [
                      {
                        "learn": [
                          146735.92
                        ],
                        "iteration": 0,
                        "passed_time": 0.008679891865,
                        "remaining_time": 0.07811902678,
                        "test": [
                          148310.0824
                        ]
                      },
                      {
                        "learn": [
                          143045.8517
                        ],
                        "iteration": 1,
                        "passed_time": 0.01528603766,
                        "remaining_time": 0.06114415065,
                        "test": [
                          144643.4122
                        ]
                      },
                      {
                        "learn": [
                          139483.7304
                        ],
                        "iteration": 2,
                        "passed_time": 0.01881612273,
                        "remaining_time": 0.04390428637,
                        "test": [
                          141216.2181
                        ]
                      },
                      {
                        "learn": [
                          136009.2695
                        ],
                        "iteration": 3,
                        "passed_time": 0.02476178031,
                        "remaining_time": 0.03714267047,
                        "test": [
                          137729.3164
                        ]
                      },
                      {
                        "learn": [
                          132670.8993
                        ],
                        "iteration": 4,
                        "passed_time": 0.03325379568,
                        "remaining_time": 0.03325379568,
                        "test": [
                          134395.9494
                        ]
                      },
                      {
                        "learn": [
                          129547.1236
                        ],
                        "iteration": 5,
                        "passed_time": 0.03499891265,
                        "remaining_time": 0.02333260843,
                        "test": [
                          131258.8802
                        ]
                      },
                      {
                        "learn": [
                          126439.5638
                        ],
                        "iteration": 6,
                        "passed_time": 0.03645605256,
                        "remaining_time": 0.01562402253,
                        "test": [
                          128173.3647
                        ]
                      },
                      {
                        "learn": [
                          123424.1574
                        ],
                        "iteration": 7,
                        "passed_time": 0.03972168434,
                        "remaining_time": 0.009930421086,
                        "test": [
                          125150.3169
                        ]
                      },
                      {
                        "learn": [
                          120510.3427
                        ],
                        "iteration": 8,
                        "passed_time": 0.04570842215,
                        "remaining_time": 0.005078713573,
                        "test": [
                          122234.2844
                        ]
                      },
                      {
                        "learn": [
                          117691.8048
                        ],
                        "iteration": 9,
                        "passed_time": 0.04789965251,
                        "remaining_time": 0,
                        "test": [
                          119405.5834
                        ]
                      }
                    ],
                    "meta": {
                      "test_sets": [
                        "test"
                      ],
                      "test_metrics": [
                        {
                          "best_value": "Min",
                          "name": "RMSE"
                        }
                      ],
                      "learn_metrics": [
                        {
                          "best_value": "Min",
                          "name": "RMSE"
                        }
                      ],
                      "launch_mode": "Train",
                      "parameters": "",
                      "iteration_count": 10,
                      "learn_sets": [
                        "learn"
                      ],
                      "name": "experiment"
                    }
                  }
                }
              },
              "catboost_info/fold-1": {
                "path": "catboost_info/fold-1",
                "name": "fold-1",
                "content": {
                  "passed_iterations": 9,
                  "total_iterations": 10,
                  "data": {
                    "iterations": [
                      {
                        "learn": [
                          148260.8658
                        ],
                        "iteration": 0,
                        "passed_time": 0.003354354547,
                        "remaining_time": 0.03018919092,
                        "test": [
                          145128.9161
                        ]
                      },
                      {
                        "learn": [
                          144507.6475
                        ],
                        "iteration": 1,
                        "passed_time": 0.01251919229,
                        "remaining_time": 0.05007676915,
                        "test": [
                          141397.1078
                        ]
                      },
                      {
                        "learn": [
                          140934.0046
                        ],
                        "iteration": 2,
                        "passed_time": 0.01605526512,
                        "remaining_time": 0.03746228527,
                        "test": [
                          138057.4789
                        ]
                      },
                      {
                        "learn": [
                          137418.6138
                        ],
                        "iteration": 3,
                        "passed_time": 0.0187707943,
                        "remaining_time": 0.02815619145,
                        "test": [
                          134523.5563
                        ]
                      },
                      {
                        "learn": [
                          134010.934
                        ],
                        "iteration": 4,
                        "passed_time": 0.02651616233,
                        "remaining_time": 0.02651616233,
                        "test": [
                          131112.9676
                        ]
                      },
                      {
                        "learn": [
                          130844.7828
                        ],
                        "iteration": 5,
                        "passed_time": 0.02806442548,
                        "remaining_time": 0.01870961699,
                        "test": [
                          127974.7876
                        ]
                      },
                      {
                        "learn": [
                          127716.5557
                        ],
                        "iteration": 6,
                        "passed_time": 0.03050132175,
                        "remaining_time": 0.01307199504,
                        "test": [
                          124828.9094
                        ]
                      },
                      {
                        "learn": [
                          124760.5055
                        ],
                        "iteration": 7,
                        "passed_time": 0.03293110252,
                        "remaining_time": 0.008232775631,
                        "test": [
                          121942.2319
                        ]
                      },
                      {
                        "learn": [
                          121819.7296
                        ],
                        "iteration": 8,
                        "passed_time": 0.03475829904,
                        "remaining_time": 0.003862033226,
                        "test": [
                          118972.3372
                        ]
                      },
                      {
                        "learn": [
                          118974.4966
                        ],
                        "iteration": 9,
                        "passed_time": 0.04164838005,
                        "remaining_time": 0,
                        "test": [
                          116130.328
                        ]
                      }
                    ],
                    "meta": {
                      "test_sets": [
                        "test"
                      ],
                      "test_metrics": [
                        {
                          "best_value": "Min",
                          "name": "RMSE"
                        }
                      ],
                      "learn_metrics": [
                        {
                          "best_value": "Min",
                          "name": "RMSE"
                        }
                      ],
                      "launch_mode": "Train",
                      "parameters": "",
                      "iteration_count": 10,
                      "learn_sets": [
                        "learn"
                      ],
                      "name": "experiment"
                    }
                  }
                }
              },
              "catboost_info/fold-2": {
                "path": "catboost_info/fold-2",
                "name": "fold-2",
                "content": {
                  "passed_iterations": 9,
                  "total_iterations": 10,
                  "data": {
                    "iterations": [
                      {
                        "learn": [
                          146738.3574
                        ],
                        "iteration": 0,
                        "passed_time": 0.004092315466,
                        "remaining_time": 0.03683083919,
                        "test": [
                          148296.1559
                        ]
                      },
                      {
                        "learn": [
                          143007.3247
                        ],
                        "iteration": 1,
                        "passed_time": 0.009843957424,
                        "remaining_time": 0.0393758297,
                        "test": [
                          144566.106
                        ]
                      },
                      {
                        "learn": [
                          139453.0613
                        ],
                        "iteration": 2,
                        "passed_time": 0.01492217109,
                        "remaining_time": 0.03481839922,
                        "test": [
                          141018.5789
                        ]
                      },
                      {
                        "learn": [
                          135969.7448
                        ],
                        "iteration": 3,
                        "passed_time": 0.01908117375,
                        "remaining_time": 0.02862176062,
                        "test": [
                          137492.0981
                        ]
                      },
                      {
                        "learn": [
                          132704.7588
                        ],
                        "iteration": 4,
                        "passed_time": 0.02737738439,
                        "remaining_time": 0.02737738439,
                        "test": [
                          134216.1395
                        ]
                      },
                      {
                        "learn": [
                          129457.3646
                        ],
                        "iteration": 5,
                        "passed_time": 0.03008746127,
                        "remaining_time": 0.02005830751,
                        "test": [
                          131031.4332
                        ]
                      },
                      {
                        "learn": [
                          126316.5661
                        ],
                        "iteration": 6,
                        "passed_time": 0.03380552874,
                        "remaining_time": 0.01448808375,
                        "test": [
                          127877.8173
                        ]
                      },
                      {
                        "learn": [
                          123371.8349
                        ],
                        "iteration": 7,
                        "passed_time": 0.03699990104,
                        "remaining_time": 0.00924997526,
                        "test": [
                          124960.6469
                        ]
                      },
                      {
                        "learn": [
                          120505.6569
                        ],
                        "iteration": 8,
                        "passed_time": 0.03892502628,
                        "remaining_time": 0.00432500292,
                        "test": [
                          122252.2517
                        ]
                      },
                      {
                        "learn": [
                          117676.8055
                        ],
                        "iteration": 9,
                        "passed_time": 0.04138716723,
                        "remaining_time": 0,
                        "test": [
                          119433.9381
                        ]
                      }
                    ],
                    "meta": {
                      "test_sets": [
                        "test"
                      ],
                      "test_metrics": [
                        {
                          "best_value": "Min",
                          "name": "RMSE"
                        }
                      ],
                      "learn_metrics": [
                        {
                          "best_value": "Min",
                          "name": "RMSE"
                        }
                      ],
                      "launch_mode": "Train",
                      "parameters": "",
                      "iteration_count": 10,
                      "learn_sets": [
                        "learn"
                      ],
                      "name": "experiment"
                    }
                  }
                }
              }
            },
            "layout": "IPY_MODEL_6017360640ae4800b62ea61d2f4cd665"
          }
        }
      }
    }
  },
  "nbformat": 4,
  "nbformat_minor": 5
}